{
 "cells": [
  {
   "cell_type": "markdown",
   "id": "58db5a3f-ec97-4b64-bf6f-fbba0e568f64",
   "metadata": {},
   "source": [
    "# cylindrical_demo.ipynb\n",
    "# WESmith 06/29/22"
   ]
  },
  {
   "cell_type": "code",
   "execution_count": 1,
   "id": "9901cabd-ed09-4ae3-b550-5be27c287c3c",
   "metadata": {},
   "outputs": [],
   "source": [
    "import operator_utils as ws\n",
    "import sympy as sy\n",
    "import numpy as np\n",
    "import matplotlib.pyplot as plt\n",
    "from   sympy import sin, cos, latex\n",
    "from   IPython.display import display, Math"
   ]
  },
  {
   "cell_type": "markdown",
   "id": "38da0396-0b98-4430-ab24-2d921ee8511e",
   "metadata": {
    "tags": []
   },
   "source": [
    "# 3D cylindrical coordinates"
   ]
  },
  {
   "cell_type": "code",
   "execution_count": 2,
   "id": "8ccb494f-1486-48c6-9f12-f04ffeaf7f75",
   "metadata": {},
   "outputs": [],
   "source": [
    "x, y, z          = sy.symbols('x y z', real=True)\n",
    "rho, phi         = sy.symbols('rho phi', positive=True, real=True)\n",
    "orig_coords      = (x, y, z)\n",
    "primed_coords    = (rho, phi, z)\n",
    "orig_from_primed = (rho * cos(phi), rho * sin(phi), z)"
   ]
  },
  {
   "cell_type": "code",
   "execution_count": 3,
   "id": "c1ff79fa-b796-469e-bf13-5ad74f3ee1a6",
   "metadata": {},
   "outputs": [],
   "source": [
    "aa = ws.Operators(orig_coords, primed_coords, orig_from_primed)"
   ]
  },
  {
   "cell_type": "code",
   "execution_count": 4,
   "id": "2a46e3a9-5131-45bf-afea-4ae8ce9fe81e",
   "metadata": {},
   "outputs": [
    {
     "data": {
      "text/latex": [
       "$\\displaystyle \\left[\\begin{matrix}\\cos{\\left(\\phi \\right)} & - \\rho \\sin{\\left(\\phi \\right)} & 0\\\\\\sin{\\left(\\phi \\right)} & \\rho \\cos{\\left(\\phi \\right)} & 0\\\\0 & 0 & 1\\end{matrix}\\right]$"
      ],
      "text/plain": [
       "Matrix([\n",
       "[cos(phi), -rho*sin(phi), 0],\n",
       "[sin(phi),  rho*cos(phi), 0],\n",
       "[       0,             0, 1]])"
      ]
     },
     "execution_count": 4,
     "metadata": {},
     "output_type": "execute_result"
    }
   ],
   "source": [
    "aa.Jacobian"
   ]
  },
  {
   "cell_type": "code",
   "execution_count": 5,
   "id": "32926626-75af-4828-83a6-94a9ab5f9c25",
   "metadata": {},
   "outputs": [
    {
     "data": {
      "text/latex": [
       "$\\displaystyle \\left[\\begin{matrix}\\cos{\\left(\\phi \\right)} & \\sin{\\left(\\phi \\right)} & 0\\\\- \\frac{\\sin{\\left(\\phi \\right)}}{\\rho} & \\frac{\\cos{\\left(\\phi \\right)}}{\\rho} & 0\\\\0 & 0 & 1\\end{matrix}\\right]$"
      ],
      "text/plain": [
       "<IPython.core.display.Math object>"
      ]
     },
     "metadata": {},
     "output_type": "display_data"
    }
   ],
   "source": [
    "ws.pp(aa.Jacobian_inv)"
   ]
  },
  {
   "cell_type": "code",
   "execution_count": 6,
   "id": "fb4a7d28-ee35-469d-bea8-b58e6ee5933b",
   "metadata": {},
   "outputs": [
    {
     "data": {
      "text/latex": [
       "$\\displaystyle \\left[\\begin{matrix}\\hat{\\mathbf{e_x}} \\cos{\\left(\\phi \\right)} + \\hat{\\mathbf{e_y}} \\sin{\\left(\\phi \\right)}\\\\- \\hat{\\mathbf{e_x}} \\sin{\\left(\\phi \\right)} + \\hat{\\mathbf{e_y}} \\cos{\\left(\\phi \\right)}\\\\\\hat{\\mathbf{e_z}}\\end{matrix}\\right]$"
      ],
      "text/plain": [
       "<IPython.core.display.Math object>"
      ]
     },
     "metadata": {},
     "output_type": "display_data"
    }
   ],
   "source": [
    "ws.pp(aa.primed_basis)"
   ]
  },
  {
   "cell_type": "code",
   "execution_count": 7,
   "id": "a1102d96-d656-426f-aeea-e12016270699",
   "metadata": {},
   "outputs": [
    {
     "data": {
      "text/latex": [
       "$\\displaystyle \\left[\\begin{matrix}1 & 0 & 0\\\\0 & \\rho^{2} & 0\\\\0 & 0 & 1\\end{matrix}\\right]$"
      ],
      "text/plain": [
       "Matrix([\n",
       "[1,      0, 0],\n",
       "[0, rho**2, 0],\n",
       "[0,      0, 1]])"
      ]
     },
     "execution_count": 7,
     "metadata": {},
     "output_type": "execute_result"
    }
   ],
   "source": [
    "aa.metric"
   ]
  },
  {
   "cell_type": "code",
   "execution_count": 8,
   "id": "8f720c91-d749-4f86-86cb-9ef1142b7d20",
   "metadata": {},
   "outputs": [
    {
     "data": {
      "text/latex": [
       "$\\displaystyle \\left[\\begin{matrix}1 & 0 & 0\\\\0 & \\rho & 0\\\\0 & 0 & 1\\end{matrix}\\right]$"
      ],
      "text/plain": [
       "Matrix([\n",
       "[1,   0, 0],\n",
       "[0, rho, 0],\n",
       "[0,   0, 1]])"
      ]
     },
     "execution_count": 8,
     "metadata": {},
     "output_type": "execute_result"
    }
   ],
   "source": [
    "aa.metric_sqrt"
   ]
  },
  {
   "cell_type": "code",
   "execution_count": 9,
   "id": "5e09b89b-032b-46fd-a4a2-e5067cf8a74a",
   "metadata": {},
   "outputs": [
    {
     "data": {
      "text/latex": [
       "$\\displaystyle \\left[\\begin{matrix}1 & 0 & 0\\\\0 & \\frac{1}{\\rho^{2}} & 0\\\\0 & 0 & 1\\end{matrix}\\right]$"
      ],
      "text/plain": [
       "Matrix([\n",
       "[1,         0, 0],\n",
       "[0, rho**(-2), 0],\n",
       "[0,         0, 1]])"
      ]
     },
     "execution_count": 9,
     "metadata": {},
     "output_type": "execute_result"
    }
   ],
   "source": [
    "aa.metric_inv"
   ]
  },
  {
   "cell_type": "code",
   "execution_count": 10,
   "id": "244215f4-bfb9-43cd-85fc-d87c178bc970",
   "metadata": {},
   "outputs": [
    {
     "data": {
      "text/latex": [
       "$\\displaystyle \\left[\\begin{matrix}1 & 0 & 0\\\\0 & \\frac{1}{\\rho} & 0\\\\0 & 0 & 1\\end{matrix}\\right]$"
      ],
      "text/plain": [
       "Matrix([\n",
       "[1,     0, 0],\n",
       "[0, 1/rho, 0],\n",
       "[0,     0, 1]])"
      ]
     },
     "execution_count": 10,
     "metadata": {},
     "output_type": "execute_result"
    }
   ],
   "source": [
    "aa.metric_inv_sqrt"
   ]
  },
  {
   "cell_type": "code",
   "execution_count": 11,
   "id": "d1dc4680-da09-4d1e-93e4-170c6b821aed",
   "metadata": {},
   "outputs": [
    {
     "data": {
      "text/latex": [
       "$\\displaystyle \\left[\\begin{matrix}\\frac{\\partial}{\\partial \\rho} f{\\left(\\rho,\\phi,z \\right)}\\\\\\frac{\\frac{\\partial}{\\partial \\phi} f{\\left(\\rho,\\phi,z \\right)}}{\\rho}\\\\\\frac{\\partial}{\\partial z} f{\\left(\\rho,\\phi,z \\right)}\\end{matrix}\\right]$"
      ],
      "text/plain": [
       "Matrix([\n",
       "[    Derivative(f(rho, phi, z), rho)],\n",
       "[Derivative(f(rho, phi, z), phi)/rho],\n",
       "[      Derivative(f(rho, phi, z), z)]])"
      ]
     },
     "execution_count": 11,
     "metadata": {},
     "output_type": "execute_result"
    }
   ],
   "source": [
    "aa.gradient()"
   ]
  },
  {
   "cell_type": "code",
   "execution_count": 12,
   "id": "c3f0a1ed-3fea-439b-aff4-4870efe9a389",
   "metadata": {},
   "outputs": [
    {
     "data": {
      "text/latex": [
       "$\\displaystyle \\frac{\\partial}{\\partial \\rho} \\operatorname{A_{\\rho}}{\\left(\\rho,\\phi,z \\right)} + \\frac{\\partial}{\\partial z} \\operatorname{A_{z}}{\\left(\\rho,\\phi,z \\right)} + \\frac{\\operatorname{A_{\\rho}}{\\left(\\rho,\\phi,z \\right)}}{\\rho} + \\frac{\\frac{\\partial}{\\partial \\phi} \\operatorname{A_{\\phi}}{\\left(\\rho,\\phi,z \\right)}}{\\rho}$"
      ],
      "text/plain": [
       "Derivative(A_\\rho(rho, phi, z), rho) + Derivative(A_z(rho, phi, z), z) + A_\\rho(rho, phi, z)/rho + Derivative(A_\\phi(rho, phi, z), phi)/rho"
      ]
     },
     "execution_count": 12,
     "metadata": {},
     "output_type": "execute_result"
    }
   ],
   "source": [
    "aa.divergence()"
   ]
  },
  {
   "cell_type": "code",
   "execution_count": 13,
   "id": "8f953a4c-f907-495a-965b-c1f57e26692d",
   "metadata": {},
   "outputs": [
    {
     "data": {
      "text/latex": [
       "$\\displaystyle \\left[\\begin{matrix}- \\frac{\\partial}{\\partial z} \\operatorname{A_{\\phi}}{\\left(\\rho,\\phi,z \\right)} + \\frac{\\frac{\\partial}{\\partial \\phi} \\operatorname{A_{z}}{\\left(\\rho,\\phi,z \\right)}}{\\rho}\\\\\\frac{\\partial}{\\partial z} \\operatorname{A_{\\rho}}{\\left(\\rho,\\phi,z \\right)} - \\frac{\\partial}{\\partial \\rho} \\operatorname{A_{z}}{\\left(\\rho,\\phi,z \\right)}\\\\\\frac{\\partial}{\\partial \\rho} \\operatorname{A_{\\phi}}{\\left(\\rho,\\phi,z \\right)} + \\frac{\\operatorname{A_{\\phi}}{\\left(\\rho,\\phi,z \\right)}}{\\rho} - \\frac{\\frac{\\partial}{\\partial \\phi} \\operatorname{A_{\\rho}}{\\left(\\rho,\\phi,z \\right)}}{\\rho}\\end{matrix}\\right]$"
      ],
      "text/plain": [
       "Matrix([\n",
       "[                              -Derivative(A_\\phi(rho, phi, z), z) + Derivative(A_z(rho, phi, z), phi)/rho],\n",
       "[                                   Derivative(A_\\rho(rho, phi, z), z) - Derivative(A_z(rho, phi, z), rho)],\n",
       "[Derivative(A_\\phi(rho, phi, z), rho) + A_\\phi(rho, phi, z)/rho - Derivative(A_\\rho(rho, phi, z), phi)/rho]])"
      ]
     },
     "execution_count": 13,
     "metadata": {},
     "output_type": "execute_result"
    }
   ],
   "source": [
    "aa.curl()"
   ]
  },
  {
   "cell_type": "code",
   "execution_count": 14,
   "id": "c5bb1dea-aac2-4263-9f1f-644c9d20697c",
   "metadata": {},
   "outputs": [
    {
     "data": {
      "text/latex": [
       "$\\displaystyle \\frac{\\partial^{2}}{\\partial \\rho^{2}} f{\\left(\\rho,\\phi,z \\right)} + \\frac{\\partial^{2}}{\\partial z^{2}} f{\\left(\\rho,\\phi,z \\right)} + \\frac{\\frac{\\partial}{\\partial \\rho} f{\\left(\\rho,\\phi,z \\right)}}{\\rho} + \\frac{\\frac{\\partial^{2}}{\\partial \\phi^{2}} f{\\left(\\rho,\\phi,z \\right)}}{\\rho^{2}}$"
      ],
      "text/plain": [
       "Derivative(f(rho, phi, z), (rho, 2)) + Derivative(f(rho, phi, z), (z, 2)) + Derivative(f(rho, phi, z), rho)/rho + Derivative(f(rho, phi, z), (phi, 2))/rho**2"
      ]
     },
     "execution_count": 14,
     "metadata": {},
     "output_type": "execute_result"
    }
   ],
   "source": [
    "aa.Laplacian_scalar()"
   ]
  },
  {
   "cell_type": "code",
   "execution_count": 15,
   "id": "3344c04d-f4a6-481d-9aa4-188a2af48e65",
   "metadata": {},
   "outputs": [
    {
     "data": {
      "text/latex": [
       "$\\displaystyle \\left[\\begin{matrix}\\frac{\\partial^{2}}{\\partial \\rho^{2}} \\operatorname{A_{\\rho}}{\\left(\\rho,\\phi,z \\right)} + \\frac{\\partial^{2}}{\\partial z^{2}} \\operatorname{A_{\\rho}}{\\left(\\rho,\\phi,z \\right)} + \\frac{\\frac{\\partial}{\\partial \\rho} \\operatorname{A_{\\rho}}{\\left(\\rho,\\phi,z \\right)}}{\\rho} - \\frac{\\operatorname{A_{\\rho}}{\\left(\\rho,\\phi,z \\right)}}{\\rho^{2}} - \\frac{2 \\frac{\\partial}{\\partial \\phi} \\operatorname{A_{\\phi}}{\\left(\\rho,\\phi,z \\right)}}{\\rho^{2}} + \\frac{\\frac{\\partial^{2}}{\\partial \\phi^{2}} \\operatorname{A_{\\rho}}{\\left(\\rho,\\phi,z \\right)}}{\\rho^{2}}\\\\\\frac{\\partial^{2}}{\\partial \\rho^{2}} \\operatorname{A_{\\phi}}{\\left(\\rho,\\phi,z \\right)} + \\frac{\\partial^{2}}{\\partial z^{2}} \\operatorname{A_{\\phi}}{\\left(\\rho,\\phi,z \\right)} + \\frac{\\frac{\\partial}{\\partial \\rho} \\operatorname{A_{\\phi}}{\\left(\\rho,\\phi,z \\right)}}{\\rho} - \\frac{\\operatorname{A_{\\phi}}{\\left(\\rho,\\phi,z \\right)}}{\\rho^{2}} + \\frac{\\frac{\\partial^{2}}{\\partial \\phi^{2}} \\operatorname{A_{\\phi}}{\\left(\\rho,\\phi,z \\right)}}{\\rho^{2}} + \\frac{2 \\frac{\\partial}{\\partial \\phi} \\operatorname{A_{\\rho}}{\\left(\\rho,\\phi,z \\right)}}{\\rho^{2}}\\\\\\frac{\\partial^{2}}{\\partial \\rho^{2}} \\operatorname{A_{z}}{\\left(\\rho,\\phi,z \\right)} + \\frac{\\partial^{2}}{\\partial z^{2}} \\operatorname{A_{z}}{\\left(\\rho,\\phi,z \\right)} + \\frac{\\frac{\\partial}{\\partial \\rho} \\operatorname{A_{z}}{\\left(\\rho,\\phi,z \\right)}}{\\rho} + \\frac{\\frac{\\partial^{2}}{\\partial \\phi^{2}} \\operatorname{A_{z}}{\\left(\\rho,\\phi,z \\right)}}{\\rho^{2}}\\end{matrix}\\right]$"
      ],
      "text/plain": [
       "Matrix([\n",
       "[Derivative(A_\\rho(rho, phi, z), (rho, 2)) + Derivative(A_\\rho(rho, phi, z), (z, 2)) + Derivative(A_\\rho(rho, phi, z), rho)/rho - A_\\rho(rho, phi, z)/rho**2 - 2*Derivative(A_\\phi(rho, phi, z), phi)/rho**2 + Derivative(A_\\rho(rho, phi, z), (phi, 2))/rho**2],\n",
       "[Derivative(A_\\phi(rho, phi, z), (rho, 2)) + Derivative(A_\\phi(rho, phi, z), (z, 2)) + Derivative(A_\\phi(rho, phi, z), rho)/rho - A_\\phi(rho, phi, z)/rho**2 + Derivative(A_\\phi(rho, phi, z), (phi, 2))/rho**2 + 2*Derivative(A_\\rho(rho, phi, z), phi)/rho**2],\n",
       "[                                                                                         Derivative(A_z(rho, phi, z), (rho, 2)) + Derivative(A_z(rho, phi, z), (z, 2)) + Derivative(A_z(rho, phi, z), rho)/rho + Derivative(A_z(rho, phi, z), (phi, 2))/rho**2]])"
      ]
     },
     "execution_count": 15,
     "metadata": {},
     "output_type": "execute_result"
    }
   ],
   "source": [
    "aa.Laplacian_vector_full()"
   ]
  },
  {
   "cell_type": "code",
   "execution_count": 16,
   "id": "daebbd18-4c8f-4532-b278-3e7641c77b4a",
   "metadata": {},
   "outputs": [
    {
     "data": {
      "text/latex": [
       "$\\displaystyle \\left[\\begin{matrix}\\nabla^{2}{\\left(\\operatorname{A_{\\rho}}{\\left(\\rho,\\phi,z \\right)} \\right)} - \\frac{\\operatorname{A_{\\rho}}{\\left(\\rho,\\phi,z \\right)}}{\\rho^{2}} - \\frac{2 \\frac{\\partial}{\\partial \\phi} \\operatorname{A_{\\phi}}{\\left(\\rho,\\phi,z \\right)}}{\\rho^{2}}\\\\\\nabla^{2}{\\left(\\operatorname{A_{\\phi}}{\\left(\\rho,\\phi,z \\right)} \\right)} - \\frac{\\operatorname{A_{\\phi}}{\\left(\\rho,\\phi,z \\right)}}{\\rho^{2}} + \\frac{2 \\frac{\\partial}{\\partial \\phi} \\operatorname{A_{\\rho}}{\\left(\\rho,\\phi,z \\right)}}{\\rho^{2}}\\\\\\nabla^{2}{\\left(\\operatorname{A_{z}}{\\left(\\rho,\\phi,z \\right)} \\right)}\\end{matrix}\\right]$"
      ],
      "text/plain": [
       "Matrix([\n",
       "[\\nabla^{2}(A_\\rho(rho, phi, z)) - A_\\rho(rho, phi, z)/rho**2 - 2*Derivative(A_\\phi(rho, phi, z), phi)/rho**2],\n",
       "[\\nabla^{2}(A_\\phi(rho, phi, z)) - A_\\phi(rho, phi, z)/rho**2 + 2*Derivative(A_\\rho(rho, phi, z), phi)/rho**2],\n",
       "[                                                                                \\nabla^{2}(A_z(rho, phi, z))]])"
      ]
     },
     "execution_count": 16,
     "metadata": {},
     "output_type": "execute_result"
    }
   ],
   "source": [
    "aa.Laplacian_vector_reduced()"
   ]
  },
  {
   "cell_type": "code",
   "execution_count": 17,
   "id": "3a22e84d-3c0b-48e6-85b4-bf18f2ea5f69",
   "metadata": {},
   "outputs": [
    {
     "data": {
      "text/latex": [
       "$\\displaystyle \\left[\\begin{matrix}\\hat{\\mathbf{e_\\phi}} \\left(\\operatorname{A_{\\rho}}{\\left(\\rho,\\phi,z \\right)} \\frac{\\partial}{\\partial \\rho} \\operatorname{B_{\\phi}}{\\left(\\rho,\\phi,z \\right)} + \\operatorname{A_{z}}{\\left(\\rho,\\phi,z \\right)} \\frac{\\partial}{\\partial z} \\operatorname{B_{\\phi}}{\\left(\\rho,\\phi,z \\right)} + \\frac{\\operatorname{A_{\\phi}}{\\left(\\rho,\\phi,z \\right)} \\operatorname{B_{\\rho}}{\\left(\\rho,\\phi,z \\right)}}{\\rho} + \\frac{\\operatorname{A_{\\phi}}{\\left(\\rho,\\phi,z \\right)} \\frac{\\partial}{\\partial \\phi} \\operatorname{B_{\\phi}}{\\left(\\rho,\\phi,z \\right)}}{\\rho}\\right) + \\hat{\\mathbf{e_\\rho}} \\left(\\operatorname{A_{\\rho}}{\\left(\\rho,\\phi,z \\right)} \\frac{\\partial}{\\partial \\rho} \\operatorname{B_{\\rho}}{\\left(\\rho,\\phi,z \\right)} + \\operatorname{A_{z}}{\\left(\\rho,\\phi,z \\right)} \\frac{\\partial}{\\partial z} \\operatorname{B_{\\rho}}{\\left(\\rho,\\phi,z \\right)} - \\frac{\\operatorname{A_{\\phi}}{\\left(\\rho,\\phi,z \\right)} \\operatorname{B_{\\phi}}{\\left(\\rho,\\phi,z \\right)}}{\\rho} + \\frac{\\operatorname{A_{\\phi}}{\\left(\\rho,\\phi,z \\right)} \\frac{\\partial}{\\partial \\phi} \\operatorname{B_{\\rho}}{\\left(\\rho,\\phi,z \\right)}}{\\rho}\\right) + \\hat{\\mathbf{e_z}} \\left(\\operatorname{A_{\\rho}}{\\left(\\rho,\\phi,z \\right)} \\frac{\\partial}{\\partial \\rho} \\operatorname{B_{z}}{\\left(\\rho,\\phi,z \\right)} + \\operatorname{A_{z}}{\\left(\\rho,\\phi,z \\right)} \\frac{\\partial}{\\partial z} \\operatorname{B_{z}}{\\left(\\rho,\\phi,z \\right)} + \\frac{\\operatorname{A_{\\phi}}{\\left(\\rho,\\phi,z \\right)} \\frac{\\partial}{\\partial \\phi} \\operatorname{B_{z}}{\\left(\\rho,\\phi,z \\right)}}{\\rho}\\right)\\end{matrix}\\right]$"
      ],
      "text/plain": [
       "Matrix([[\\hat{\\mathbf{e_\\phi}}*(A_\\rho(rho, phi, z)*Derivative(B_\\phi(rho, phi, z), rho) + A_z(rho, phi, z)*Derivative(B_\\phi(rho, phi, z), z) + A_\\phi(rho, phi, z)*B_\\rho(rho, phi, z)/rho + A_\\phi(rho, phi, z)*Derivative(B_\\phi(rho, phi, z), phi)/rho) + \\hat{\\mathbf{e_\\rho}}*(A_\\rho(rho, phi, z)*Derivative(B_\\rho(rho, phi, z), rho) + A_z(rho, phi, z)*Derivative(B_\\rho(rho, phi, z), z) - A_\\phi(rho, phi, z)*B_\\phi(rho, phi, z)/rho + A_\\phi(rho, phi, z)*Derivative(B_\\rho(rho, phi, z), phi)/rho) + \\hat{\\mathbf{e_z}}*(A_\\rho(rho, phi, z)*Derivative(B_z(rho, phi, z), rho) + A_z(rho, phi, z)*Derivative(B_z(rho, phi, z), z) + A_\\phi(rho, phi, z)*Derivative(B_z(rho, phi, z), phi)/rho)]])"
      ]
     },
     "execution_count": 17,
     "metadata": {},
     "output_type": "execute_result"
    }
   ],
   "source": [
    "aa.material_derivative(vector=False)"
   ]
  },
  {
   "cell_type": "markdown",
   "id": "c1f4abdb-5359-4c40-a45f-fa214ef99cf8",
   "metadata": {},
   "source": [
    "### Example vector field to transform"
   ]
  },
  {
   "cell_type": "code",
   "execution_count": 18,
   "id": "5267371a-dd87-43f3-91c2-14f98ee16ab3",
   "metadata": {},
   "outputs": [
    {
     "data": {
      "text/latex": [
       "$\\displaystyle \\left[\\begin{matrix}3 x\\\\4 y\\\\0\\end{matrix}\\right]$"
      ],
      "text/plain": [
       "Matrix([\n",
       "[3*x],\n",
       "[4*y],\n",
       "[  0]])"
      ]
     },
     "execution_count": 18,
     "metadata": {},
     "output_type": "execute_result"
    }
   ],
   "source": [
    "# set up the original vector field\n",
    "x, y, z = sy.symbols('x y z')\n",
    "f, g, h = sy.symbols('f g h', cls=sy.Function)\n",
    "f = 3*x\n",
    "g = 4*y\n",
    "h = 0\n",
    "V = sy.Matrix((f, g, h))\n",
    "V"
   ]
  },
  {
   "cell_type": "code",
   "execution_count": 19,
   "id": "dc140b00-e166-473d-82c8-3f25bf6a492f",
   "metadata": {},
   "outputs": [
    {
     "data": {
      "text/latex": [
       "$\\displaystyle \\left[\\begin{matrix}3 x \\cos{\\left(\\phi \\right)} + 4 y \\sin{\\left(\\phi \\right)}\\\\\\frac{- 3 x \\sin{\\left(\\phi \\right)} + 4 y \\cos{\\left(\\phi \\right)}}{\\rho}\\\\0\\end{matrix}\\right]$"
      ],
      "text/plain": [
       "<IPython.core.display.Math object>"
      ]
     },
     "metadata": {},
     "output_type": "display_data"
    }
   ],
   "source": [
    "vp, ll, orig = aa.vec_components_and_length(V)\n",
    "ws.pp(vp)"
   ]
  },
  {
   "cell_type": "code",
   "execution_count": 20,
   "id": "e51bba5f-ccad-4ddc-96ab-a48662216b05",
   "metadata": {},
   "outputs": [
    {
     "data": {
      "text/latex": [
       "$\\displaystyle \\left[\\begin{matrix}9 x^{2} + 16 y^{2}\\end{matrix}\\right]$"
      ],
      "text/plain": [
       "<IPython.core.display.Math object>"
      ]
     },
     "metadata": {},
     "output_type": "display_data"
    }
   ],
   "source": [
    "ws.pp(ll)"
   ]
  },
  {
   "cell_type": "code",
   "execution_count": 21,
   "id": "196b2dee-e4c9-489b-bac2-411cceecd6fe",
   "metadata": {},
   "outputs": [
    {
     "data": {
      "text/latex": [
       "$\\displaystyle \\left[\\begin{matrix}9 x^{2} + 16 y^{2}\\end{matrix}\\right]$"
      ],
      "text/plain": [
       "<IPython.core.display.Math object>"
      ]
     },
     "metadata": {},
     "output_type": "display_data"
    }
   ],
   "source": [
    "ws.pp(orig)"
   ]
  },
  {
   "cell_type": "code",
   "execution_count": null,
   "id": "27785021-f409-477e-8b6f-8c121c773730",
   "metadata": {},
   "outputs": [],
   "source": []
  }
 ],
 "metadata": {
  "kernelspec": {
   "display_name": "Python 3 (ipykernel)",
   "language": "python",
   "name": "python3"
  },
  "language_info": {
   "codemirror_mode": {
    "name": "ipython",
    "version": 3
   },
   "file_extension": ".py",
   "mimetype": "text/x-python",
   "name": "python",
   "nbconvert_exporter": "python",
   "pygments_lexer": "ipython3",
   "version": "3.10.4"
  }
 },
 "nbformat": 4,
 "nbformat_minor": 5
}
