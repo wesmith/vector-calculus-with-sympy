{
 "cells": [
  {
   "cell_type": "markdown",
   "id": "396016c2-4e0a-401f-a746-eb9ed1fa8a8d",
   "metadata": {},
   "source": [
    "# oblate_demo.ipynb\n",
    "# WESmith 07/08/22"
   ]
  },
  {
   "cell_type": "code",
   "execution_count": 1,
   "id": "0a27fbdb-ac69-4eaf-ba6e-d21ead260197",
   "metadata": {},
   "outputs": [],
   "source": [
    "import operator_utils as ws"
   ]
  },
  {
   "cell_type": "code",
   "execution_count": 2,
   "id": "16541371-1058-463e-8512-452fbbf43c6d",
   "metadata": {},
   "outputs": [],
   "source": [
    "aa = ws.coord_xforms()"
   ]
  },
  {
   "cell_type": "code",
   "execution_count": 3,
   "id": "aeffdb35-f92c-4862-93c5-211d673aceaa",
   "metadata": {},
   "outputs": [],
   "source": [
    "zz = ws.Operators(aa['oblate_3d'])"
   ]
  },
  {
   "cell_type": "code",
   "execution_count": 4,
   "id": "e6203716-91e5-40bb-80d3-505ee0313c35",
   "metadata": {},
   "outputs": [
    {
     "data": {
      "text/latex": [
       "$\\displaystyle a \\cos{\\left(\\nu \\right)} \\cos{\\left(\\phi \\right)} \\cosh{\\left(\\mu \\right)}$"
      ],
      "text/plain": [
       "<IPython.core.display.Math object>"
      ]
     },
     "metadata": {},
     "output_type": "display_data"
    },
    {
     "data": {
      "text/latex": [
       "$\\displaystyle a \\sin{\\left(\\phi \\right)} \\cos{\\left(\\nu \\right)} \\cosh{\\left(\\mu \\right)}$"
      ],
      "text/plain": [
       "<IPython.core.display.Math object>"
      ]
     },
     "metadata": {},
     "output_type": "display_data"
    },
    {
     "data": {
      "text/latex": [
       "$\\displaystyle a \\sin{\\left(\\nu \\right)} \\sinh{\\left(\\mu \\right)}$"
      ],
      "text/plain": [
       "<IPython.core.display.Math object>"
      ]
     },
     "metadata": {},
     "output_type": "display_data"
    }
   ],
   "source": [
    "for k in zz.transform: ws.pp(k)"
   ]
  },
  {
   "cell_type": "code",
   "execution_count": 5,
   "id": "d116d969-586d-4b64-9d67-62c28a14130c",
   "metadata": {},
   "outputs": [
    {
     "data": {
      "text/latex": [
       "$\\displaystyle \\left[\\begin{matrix}a \\cos{\\left(\\nu \\right)} \\cos{\\left(\\phi \\right)} \\sinh{\\left(\\mu \\right)} & - a \\sin{\\left(\\nu \\right)} \\cos{\\left(\\phi \\right)} \\cosh{\\left(\\mu \\right)} & - a \\sin{\\left(\\phi \\right)} \\cos{\\left(\\nu \\right)} \\cosh{\\left(\\mu \\right)}\\\\a \\sin{\\left(\\phi \\right)} \\cos{\\left(\\nu \\right)} \\sinh{\\left(\\mu \\right)} & - a \\sin{\\left(\\nu \\right)} \\sin{\\left(\\phi \\right)} \\cosh{\\left(\\mu \\right)} & a \\cos{\\left(\\nu \\right)} \\cos{\\left(\\phi \\right)} \\cosh{\\left(\\mu \\right)}\\\\a \\sin{\\left(\\nu \\right)} \\cosh{\\left(\\mu \\right)} & a \\cos{\\left(\\nu \\right)} \\sinh{\\left(\\mu \\right)} & 0\\end{matrix}\\right]$"
      ],
      "text/plain": [
       "Matrix([\n",
       "[a*cos(nu)*cos(phi)*sinh(mu), -a*sin(nu)*cos(phi)*cosh(mu), -a*sin(phi)*cos(nu)*cosh(mu)],\n",
       "[a*sin(phi)*cos(nu)*sinh(mu), -a*sin(nu)*sin(phi)*cosh(mu),  a*cos(nu)*cos(phi)*cosh(mu)],\n",
       "[         a*sin(nu)*cosh(mu),           a*cos(nu)*sinh(mu),                            0]])"
      ]
     },
     "execution_count": 5,
     "metadata": {},
     "output_type": "execute_result"
    }
   ],
   "source": [
    "zz.Jacobian"
   ]
  },
  {
   "cell_type": "code",
   "execution_count": 6,
   "id": "2d14ee33-57ae-40e9-bf9d-f9a71091936c",
   "metadata": {},
   "outputs": [
    {
     "data": {
      "text/latex": [
       "$\\displaystyle \\left[\\begin{matrix}a^{2} \\left(\\sin^{2}{\\left(\\nu \\right)} + \\sinh^{2}{\\left(\\mu \\right)}\\right) & 0 & 0\\\\0 & a^{2} \\left(\\sin^{2}{\\left(\\nu \\right)} + \\sinh^{2}{\\left(\\mu \\right)}\\right) & 0\\\\0 & 0 & a^{2} \\cos^{2}{\\left(\\nu \\right)} \\cosh^{2}{\\left(\\mu \\right)}\\end{matrix}\\right]$"
      ],
      "text/plain": [
       "Matrix([\n",
       "[a**2*(sin(nu)**2 + sinh(mu)**2),                               0,                           0],\n",
       "[                              0, a**2*(sin(nu)**2 + sinh(mu)**2),                           0],\n",
       "[                              0,                               0, a**2*cos(nu)**2*cosh(mu)**2]])"
      ]
     },
     "execution_count": 6,
     "metadata": {},
     "output_type": "execute_result"
    }
   ],
   "source": [
    "zz.metric"
   ]
  },
  {
   "cell_type": "code",
   "execution_count": 7,
   "id": "37b307a8-ead3-4739-8fa2-423a41e2e15a",
   "metadata": {},
   "outputs": [
    {
     "data": {
      "text/latex": [
       "$\\displaystyle \\left[\\begin{matrix}a \\sqrt{\\sin^{2}{\\left(\\nu \\right)} + \\sinh^{2}{\\left(\\mu \\right)}} & 0 & 0\\\\0 & a \\sqrt{\\sin^{2}{\\left(\\nu \\right)} + \\sinh^{2}{\\left(\\mu \\right)}} & 0\\\\0 & 0 & a \\cos{\\left(\\nu \\right)} \\cosh{\\left(\\mu \\right)}\\end{matrix}\\right]$"
      ],
      "text/plain": [
       "Matrix([\n",
       "[a*sqrt(sin(nu)**2 + sinh(mu)**2),                                0,                  0],\n",
       "[                               0, a*sqrt(sin(nu)**2 + sinh(mu)**2),                  0],\n",
       "[                               0,                                0, a*cos(nu)*cosh(mu)]])"
      ]
     },
     "execution_count": 7,
     "metadata": {},
     "output_type": "execute_result"
    }
   ],
   "source": [
    "zz.metric_sqrt"
   ]
  },
  {
   "cell_type": "code",
   "execution_count": 8,
   "id": "dcdc96ca-8701-4bce-b9e2-ab2c187e4005",
   "metadata": {},
   "outputs": [
    {
     "data": {
      "text/latex": [
       "$\\displaystyle \\left[\\begin{matrix}\\hat{\\mathbf{e_\\mu}}\\\\\\hat{\\mathbf{e_\\nu}}\\\\\\hat{\\mathbf{e_\\phi}}\\end{matrix}\\right]$"
      ],
      "text/plain": [
       "Matrix([\n",
       "[ \\hat{\\mathbf{e_\\mu}}],\n",
       "[ \\hat{\\mathbf{e_\\nu}}],\n",
       "[\\hat{\\mathbf{e_\\phi}}]])"
      ]
     },
     "execution_count": 8,
     "metadata": {},
     "output_type": "execute_result"
    }
   ],
   "source": [
    "zz.Zp"
   ]
  },
  {
   "cell_type": "code",
   "execution_count": 9,
   "id": "a57c2df7-6486-433e-8ee4-e0ae31233ebb",
   "metadata": {},
   "outputs": [
    {
     "data": {
      "text/latex": [
       "$\\displaystyle \\left[\\begin{matrix}\\frac{\\hat{\\mathbf{e_x}} \\cos{\\left(\\nu \\right)} \\cos{\\left(\\phi \\right)} \\sinh{\\left(\\mu \\right)}}{\\sqrt{\\sin^{2}{\\left(\\nu \\right)} + \\sinh^{2}{\\left(\\mu \\right)}}} + \\frac{\\hat{\\mathbf{e_y}} \\sin{\\left(\\phi \\right)} \\cos{\\left(\\nu \\right)} \\sinh{\\left(\\mu \\right)}}{\\sqrt{\\sin^{2}{\\left(\\nu \\right)} + \\sinh^{2}{\\left(\\mu \\right)}}} + \\frac{\\hat{\\mathbf{e_z}} \\sin{\\left(\\nu \\right)} \\cosh{\\left(\\mu \\right)}}{\\sqrt{\\sin^{2}{\\left(\\nu \\right)} + \\sinh^{2}{\\left(\\mu \\right)}}}\\\\- \\frac{\\hat{\\mathbf{e_x}} \\sin{\\left(\\nu \\right)} \\cos{\\left(\\phi \\right)} \\cosh{\\left(\\mu \\right)}}{\\sqrt{\\sin^{2}{\\left(\\nu \\right)} + \\sinh^{2}{\\left(\\mu \\right)}}} - \\frac{\\hat{\\mathbf{e_y}} \\sin{\\left(\\nu \\right)} \\sin{\\left(\\phi \\right)} \\cosh{\\left(\\mu \\right)}}{\\sqrt{\\sin^{2}{\\left(\\nu \\right)} + \\sinh^{2}{\\left(\\mu \\right)}}} + \\frac{\\hat{\\mathbf{e_z}} \\cos{\\left(\\nu \\right)} \\sinh{\\left(\\mu \\right)}}{\\sqrt{\\sin^{2}{\\left(\\nu \\right)} + \\sinh^{2}{\\left(\\mu \\right)}}}\\\\- \\hat{\\mathbf{e_x}} \\sin{\\left(\\phi \\right)} + \\hat{\\mathbf{e_y}} \\cos{\\left(\\phi \\right)}\\end{matrix}\\right]$"
      ],
      "text/plain": [
       "Matrix([\n",
       "[ \\hat{\\mathbf{e_x}}*cos(nu)*cos(phi)*sinh(mu)/sqrt(sin(nu)**2 + sinh(mu)**2) + \\hat{\\mathbf{e_y}}*sin(phi)*cos(nu)*sinh(mu)/sqrt(sin(nu)**2 + sinh(mu)**2) + \\hat{\\mathbf{e_z}}*sin(nu)*cosh(mu)/sqrt(sin(nu)**2 + sinh(mu)**2)],\n",
       "[-\\hat{\\mathbf{e_x}}*sin(nu)*cos(phi)*cosh(mu)/sqrt(sin(nu)**2 + sinh(mu)**2) - \\hat{\\mathbf{e_y}}*sin(nu)*sin(phi)*cosh(mu)/sqrt(sin(nu)**2 + sinh(mu)**2) + \\hat{\\mathbf{e_z}}*cos(nu)*sinh(mu)/sqrt(sin(nu)**2 + sinh(mu)**2)],\n",
       "[                                                                                                                                                                     -\\hat{\\mathbf{e_x}}*sin(phi) + \\hat{\\mathbf{e_y}}*cos(phi)]])"
      ]
     },
     "execution_count": 9,
     "metadata": {},
     "output_type": "execute_result"
    }
   ],
   "source": [
    "zz.primed_basis # agrees with https://en.wikipedia.org/wiki/Oblate_spheroidal_coordinates"
   ]
  },
  {
   "cell_type": "code",
   "execution_count": 10,
   "id": "f54ea171-9fe9-4ffd-a67f-5e929e698fd7",
   "metadata": {},
   "outputs": [
    {
     "data": {
      "text/latex": [
       "$\\displaystyle \\left[\\begin{matrix}\\frac{\\frac{\\partial}{\\partial \\mu} f{\\left(\\mu,\\nu,\\phi \\right)}}{a \\sqrt{\\sin^{2}{\\left(\\nu \\right)} + \\sinh^{2}{\\left(\\mu \\right)}}}\\\\\\frac{\\frac{\\partial}{\\partial \\nu} f{\\left(\\mu,\\nu,\\phi \\right)}}{a \\sqrt{\\sin^{2}{\\left(\\nu \\right)} + \\sinh^{2}{\\left(\\mu \\right)}}}\\\\\\frac{\\frac{\\partial}{\\partial \\phi} f{\\left(\\mu,\\nu,\\phi \\right)}}{a \\cos{\\left(\\nu \\right)} \\cosh{\\left(\\mu \\right)}}\\end{matrix}\\right]$"
      ],
      "text/plain": [
       "Matrix([\n",
       "[Derivative(f(mu, nu, phi), mu)/(a*sqrt(sin(nu)**2 + sinh(mu)**2))],\n",
       "[Derivative(f(mu, nu, phi), nu)/(a*sqrt(sin(nu)**2 + sinh(mu)**2))],\n",
       "[             Derivative(f(mu, nu, phi), phi)/(a*cos(nu)*cosh(mu))]])"
      ]
     },
     "execution_count": 10,
     "metadata": {},
     "output_type": "execute_result"
    }
   ],
   "source": [
    "zz.gradient()"
   ]
  },
  {
   "cell_type": "code",
   "execution_count": 14,
   "id": "295a730c-9bdb-42d7-a4fe-f5a0e7348ccd",
   "metadata": {},
   "outputs": [
    {
     "data": {
      "text/latex": [
       "$\\displaystyle \\frac{a^{5} \\operatorname{A_{\\mu}}{\\left(\\mu,\\nu,\\phi \\right)} \\sin^{4}{\\left(\\nu \\right)} \\cos^{2}{\\left(\\nu \\right)} \\sinh{\\left(\\mu \\right)} \\cosh{\\left(\\mu \\right)}}{a^{6} \\sqrt{\\sin^{2}{\\left(\\nu \\right)} + \\sinh^{2}{\\left(\\mu \\right)}} \\sin^{4}{\\left(\\nu \\right)} \\cos^{2}{\\left(\\nu \\right)} \\cosh^{2}{\\left(\\mu \\right)} + 2 a^{6} \\sqrt{\\sin^{2}{\\left(\\nu \\right)} + \\sinh^{2}{\\left(\\mu \\right)}} \\sin^{2}{\\left(\\nu \\right)} \\cos^{2}{\\left(\\nu \\right)} \\sinh^{2}{\\left(\\mu \\right)} \\cosh^{2}{\\left(\\mu \\right)} + a^{6} \\sqrt{\\sin^{2}{\\left(\\nu \\right)} + \\sinh^{2}{\\left(\\mu \\right)}} \\cos^{2}{\\left(\\nu \\right)} \\sinh^{4}{\\left(\\mu \\right)} \\cosh^{2}{\\left(\\mu \\right)}} + \\frac{2 a^{5} \\operatorname{A_{\\mu}}{\\left(\\mu,\\nu,\\phi \\right)} \\sin^{2}{\\left(\\nu \\right)} \\cos^{2}{\\left(\\nu \\right)} \\sinh^{3}{\\left(\\mu \\right)} \\cosh{\\left(\\mu \\right)}}{a^{6} \\sqrt{\\sin^{2}{\\left(\\nu \\right)} + \\sinh^{2}{\\left(\\mu \\right)}} \\sin^{4}{\\left(\\nu \\right)} \\cos^{2}{\\left(\\nu \\right)} \\cosh^{2}{\\left(\\mu \\right)} + 2 a^{6} \\sqrt{\\sin^{2}{\\left(\\nu \\right)} + \\sinh^{2}{\\left(\\mu \\right)}} \\sin^{2}{\\left(\\nu \\right)} \\cos^{2}{\\left(\\nu \\right)} \\sinh^{2}{\\left(\\mu \\right)} \\cosh^{2}{\\left(\\mu \\right)} + a^{6} \\sqrt{\\sin^{2}{\\left(\\nu \\right)} + \\sinh^{2}{\\left(\\mu \\right)}} \\cos^{2}{\\left(\\nu \\right)} \\sinh^{4}{\\left(\\mu \\right)} \\cosh^{2}{\\left(\\mu \\right)}} + \\frac{2 a^{5} \\operatorname{A_{\\mu}}{\\left(\\mu,\\nu,\\phi \\right)} \\sin^{2}{\\left(\\nu \\right)} \\cos^{2}{\\left(\\nu \\right)} \\sinh{\\left(\\mu \\right)} \\cosh^{3}{\\left(\\mu \\right)}}{a^{6} \\sqrt{\\sin^{2}{\\left(\\nu \\right)} + \\sinh^{2}{\\left(\\mu \\right)}} \\sin^{4}{\\left(\\nu \\right)} \\cos^{2}{\\left(\\nu \\right)} \\cosh^{2}{\\left(\\mu \\right)} + 2 a^{6} \\sqrt{\\sin^{2}{\\left(\\nu \\right)} + \\sinh^{2}{\\left(\\mu \\right)}} \\sin^{2}{\\left(\\nu \\right)} \\cos^{2}{\\left(\\nu \\right)} \\sinh^{2}{\\left(\\mu \\right)} \\cosh^{2}{\\left(\\mu \\right)} + a^{6} \\sqrt{\\sin^{2}{\\left(\\nu \\right)} + \\sinh^{2}{\\left(\\mu \\right)}} \\cos^{2}{\\left(\\nu \\right)} \\sinh^{4}{\\left(\\mu \\right)} \\cosh^{2}{\\left(\\mu \\right)}} + \\frac{a^{5} \\operatorname{A_{\\mu}}{\\left(\\mu,\\nu,\\phi \\right)} \\cos^{2}{\\left(\\nu \\right)} \\sinh^{5}{\\left(\\mu \\right)} \\cosh{\\left(\\mu \\right)}}{a^{6} \\sqrt{\\sin^{2}{\\left(\\nu \\right)} + \\sinh^{2}{\\left(\\mu \\right)}} \\sin^{4}{\\left(\\nu \\right)} \\cos^{2}{\\left(\\nu \\right)} \\cosh^{2}{\\left(\\mu \\right)} + 2 a^{6} \\sqrt{\\sin^{2}{\\left(\\nu \\right)} + \\sinh^{2}{\\left(\\mu \\right)}} \\sin^{2}{\\left(\\nu \\right)} \\cos^{2}{\\left(\\nu \\right)} \\sinh^{2}{\\left(\\mu \\right)} \\cosh^{2}{\\left(\\mu \\right)} + a^{6} \\sqrt{\\sin^{2}{\\left(\\nu \\right)} + \\sinh^{2}{\\left(\\mu \\right)}} \\cos^{2}{\\left(\\nu \\right)} \\sinh^{4}{\\left(\\mu \\right)} \\cosh^{2}{\\left(\\mu \\right)}} + \\frac{2 a^{5} \\operatorname{A_{\\mu}}{\\left(\\mu,\\nu,\\phi \\right)} \\cos^{2}{\\left(\\nu \\right)} \\sinh^{3}{\\left(\\mu \\right)} \\cosh^{3}{\\left(\\mu \\right)}}{a^{6} \\sqrt{\\sin^{2}{\\left(\\nu \\right)} + \\sinh^{2}{\\left(\\mu \\right)}} \\sin^{4}{\\left(\\nu \\right)} \\cos^{2}{\\left(\\nu \\right)} \\cosh^{2}{\\left(\\mu \\right)} + 2 a^{6} \\sqrt{\\sin^{2}{\\left(\\nu \\right)} + \\sinh^{2}{\\left(\\mu \\right)}} \\sin^{2}{\\left(\\nu \\right)} \\cos^{2}{\\left(\\nu \\right)} \\sinh^{2}{\\left(\\mu \\right)} \\cosh^{2}{\\left(\\mu \\right)} + a^{6} \\sqrt{\\sin^{2}{\\left(\\nu \\right)} + \\sinh^{2}{\\left(\\mu \\right)}} \\cos^{2}{\\left(\\nu \\right)} \\sinh^{4}{\\left(\\mu \\right)} \\cosh^{2}{\\left(\\mu \\right)}} - \\frac{a^{5} \\operatorname{A_{\\nu}}{\\left(\\mu,\\nu,\\phi \\right)} \\sin^{5}{\\left(\\nu \\right)} \\cos{\\left(\\nu \\right)} \\cosh^{2}{\\left(\\mu \\right)}}{a^{6} \\sqrt{\\sin^{2}{\\left(\\nu \\right)} + \\sinh^{2}{\\left(\\mu \\right)}} \\sin^{4}{\\left(\\nu \\right)} \\cos^{2}{\\left(\\nu \\right)} \\cosh^{2}{\\left(\\mu \\right)} + 2 a^{6} \\sqrt{\\sin^{2}{\\left(\\nu \\right)} + \\sinh^{2}{\\left(\\mu \\right)}} \\sin^{2}{\\left(\\nu \\right)} \\cos^{2}{\\left(\\nu \\right)} \\sinh^{2}{\\left(\\mu \\right)} \\cosh^{2}{\\left(\\mu \\right)} + a^{6} \\sqrt{\\sin^{2}{\\left(\\nu \\right)} + \\sinh^{2}{\\left(\\mu \\right)}} \\cos^{2}{\\left(\\nu \\right)} \\sinh^{4}{\\left(\\mu \\right)} \\cosh^{2}{\\left(\\mu \\right)}} + \\frac{2 a^{5} \\operatorname{A_{\\nu}}{\\left(\\mu,\\nu,\\phi \\right)} \\sin^{3}{\\left(\\nu \\right)} \\cos^{3}{\\left(\\nu \\right)} \\cosh^{2}{\\left(\\mu \\right)}}{a^{6} \\sqrt{\\sin^{2}{\\left(\\nu \\right)} + \\sinh^{2}{\\left(\\mu \\right)}} \\sin^{4}{\\left(\\nu \\right)} \\cos^{2}{\\left(\\nu \\right)} \\cosh^{2}{\\left(\\mu \\right)} + 2 a^{6} \\sqrt{\\sin^{2}{\\left(\\nu \\right)} + \\sinh^{2}{\\left(\\mu \\right)}} \\sin^{2}{\\left(\\nu \\right)} \\cos^{2}{\\left(\\nu \\right)} \\sinh^{2}{\\left(\\mu \\right)} \\cosh^{2}{\\left(\\mu \\right)} + a^{6} \\sqrt{\\sin^{2}{\\left(\\nu \\right)} + \\sinh^{2}{\\left(\\mu \\right)}} \\cos^{2}{\\left(\\nu \\right)} \\sinh^{4}{\\left(\\mu \\right)} \\cosh^{2}{\\left(\\mu \\right)}} - \\frac{2 a^{5} \\operatorname{A_{\\nu}}{\\left(\\mu,\\nu,\\phi \\right)} \\sin^{3}{\\left(\\nu \\right)} \\cos{\\left(\\nu \\right)} \\sinh^{2}{\\left(\\mu \\right)} \\cosh^{2}{\\left(\\mu \\right)}}{a^{6} \\sqrt{\\sin^{2}{\\left(\\nu \\right)} + \\sinh^{2}{\\left(\\mu \\right)}} \\sin^{4}{\\left(\\nu \\right)} \\cos^{2}{\\left(\\nu \\right)} \\cosh^{2}{\\left(\\mu \\right)} + 2 a^{6} \\sqrt{\\sin^{2}{\\left(\\nu \\right)} + \\sinh^{2}{\\left(\\mu \\right)}} \\sin^{2}{\\left(\\nu \\right)} \\cos^{2}{\\left(\\nu \\right)} \\sinh^{2}{\\left(\\mu \\right)} \\cosh^{2}{\\left(\\mu \\right)} + a^{6} \\sqrt{\\sin^{2}{\\left(\\nu \\right)} + \\sinh^{2}{\\left(\\mu \\right)}} \\cos^{2}{\\left(\\nu \\right)} \\sinh^{4}{\\left(\\mu \\right)} \\cosh^{2}{\\left(\\mu \\right)}} + \\frac{2 a^{5} \\operatorname{A_{\\nu}}{\\left(\\mu,\\nu,\\phi \\right)} \\sin{\\left(\\nu \\right)} \\cos^{3}{\\left(\\nu \\right)} \\sinh^{2}{\\left(\\mu \\right)} \\cosh^{2}{\\left(\\mu \\right)}}{a^{6} \\sqrt{\\sin^{2}{\\left(\\nu \\right)} + \\sinh^{2}{\\left(\\mu \\right)}} \\sin^{4}{\\left(\\nu \\right)} \\cos^{2}{\\left(\\nu \\right)} \\cosh^{2}{\\left(\\mu \\right)} + 2 a^{6} \\sqrt{\\sin^{2}{\\left(\\nu \\right)} + \\sinh^{2}{\\left(\\mu \\right)}} \\sin^{2}{\\left(\\nu \\right)} \\cos^{2}{\\left(\\nu \\right)} \\sinh^{2}{\\left(\\mu \\right)} \\cosh^{2}{\\left(\\mu \\right)} + a^{6} \\sqrt{\\sin^{2}{\\left(\\nu \\right)} + \\sinh^{2}{\\left(\\mu \\right)}} \\cos^{2}{\\left(\\nu \\right)} \\sinh^{4}{\\left(\\mu \\right)} \\cosh^{2}{\\left(\\mu \\right)}} - \\frac{a^{5} \\operatorname{A_{\\nu}}{\\left(\\mu,\\nu,\\phi \\right)} \\sin{\\left(\\nu \\right)} \\cos{\\left(\\nu \\right)} \\sinh^{4}{\\left(\\mu \\right)} \\cosh^{2}{\\left(\\mu \\right)}}{a^{6} \\sqrt{\\sin^{2}{\\left(\\nu \\right)} + \\sinh^{2}{\\left(\\mu \\right)}} \\sin^{4}{\\left(\\nu \\right)} \\cos^{2}{\\left(\\nu \\right)} \\cosh^{2}{\\left(\\mu \\right)} + 2 a^{6} \\sqrt{\\sin^{2}{\\left(\\nu \\right)} + \\sinh^{2}{\\left(\\mu \\right)}} \\sin^{2}{\\left(\\nu \\right)} \\cos^{2}{\\left(\\nu \\right)} \\sinh^{2}{\\left(\\mu \\right)} \\cosh^{2}{\\left(\\mu \\right)} + a^{6} \\sqrt{\\sin^{2}{\\left(\\nu \\right)} + \\sinh^{2}{\\left(\\mu \\right)}} \\cos^{2}{\\left(\\nu \\right)} \\sinh^{4}{\\left(\\mu \\right)} \\cosh^{2}{\\left(\\mu \\right)}} - \\frac{\\operatorname{A_{\\mu}}{\\left(\\mu,\\nu,\\phi \\right)} \\sinh{\\left(\\mu \\right)} \\cosh{\\left(\\mu \\right)}}{a \\sqrt{\\sin^{2}{\\left(\\nu \\right)} + \\sinh^{2}{\\left(\\mu \\right)}} \\sin^{2}{\\left(\\nu \\right)} + a \\sqrt{\\sin^{2}{\\left(\\nu \\right)} + \\sinh^{2}{\\left(\\mu \\right)}} \\sinh^{2}{\\left(\\mu \\right)}} - \\frac{\\operatorname{A_{\\nu}}{\\left(\\mu,\\nu,\\phi \\right)} \\sin{\\left(\\nu \\right)} \\cos{\\left(\\nu \\right)}}{a \\sqrt{\\sin^{2}{\\left(\\nu \\right)} + \\sinh^{2}{\\left(\\mu \\right)}} \\sin^{2}{\\left(\\nu \\right)} + a \\sqrt{\\sin^{2}{\\left(\\nu \\right)} + \\sinh^{2}{\\left(\\mu \\right)}} \\sinh^{2}{\\left(\\mu \\right)}} + \\frac{\\frac{\\partial}{\\partial \\phi} \\operatorname{A_{\\phi}}{\\left(\\mu,\\nu,\\phi \\right)}}{a \\cos{\\left(\\nu \\right)} \\cosh{\\left(\\mu \\right)}} + \\frac{\\frac{\\partial}{\\partial \\mu} \\operatorname{A_{\\mu}}{\\left(\\mu,\\nu,\\phi \\right)}}{a \\sqrt{\\sin^{2}{\\left(\\nu \\right)} + \\sinh^{2}{\\left(\\mu \\right)}}} + \\frac{\\frac{\\partial}{\\partial \\nu} \\operatorname{A_{\\nu}}{\\left(\\mu,\\nu,\\phi \\right)}}{a \\sqrt{\\sin^{2}{\\left(\\nu \\right)} + \\sinh^{2}{\\left(\\mu \\right)}}}$"
      ],
      "text/plain": [
       "a**5*A_\\mu(mu, nu, phi)*sin(nu)**4*cos(nu)**2*sinh(mu)*cosh(mu)/(a**6*sqrt(sin(nu)**2 + sinh(mu)**2)*sin(nu)**4*cos(nu)**2*cosh(mu)**2 + 2*a**6*sqrt(sin(nu)**2 + sinh(mu)**2)*sin(nu)**2*cos(nu)**2*sinh(mu)**2*cosh(mu)**2 + a**6*sqrt(sin(nu)**2 + sinh(mu)**2)*cos(nu)**2*sinh(mu)**4*cosh(mu)**2) + 2*a**5*A_\\mu(mu, nu, phi)*sin(nu)**2*cos(nu)**2*sinh(mu)**3*cosh(mu)/(a**6*sqrt(sin(nu)**2 + sinh(mu)**2)*sin(nu)**4*cos(nu)**2*cosh(mu)**2 + 2*a**6*sqrt(sin(nu)**2 + sinh(mu)**2)*sin(nu)**2*cos(nu)**2*sinh(mu)**2*cosh(mu)**2 + a**6*sqrt(sin(nu)**2 + sinh(mu)**2)*cos(nu)**2*sinh(mu)**4*cosh(mu)**2) + 2*a**5*A_\\mu(mu, nu, phi)*sin(nu)**2*cos(nu)**2*sinh(mu)*cosh(mu)**3/(a**6*sqrt(sin(nu)**2 + sinh(mu)**2)*sin(nu)**4*cos(nu)**2*cosh(mu)**2 + 2*a**6*sqrt(sin(nu)**2 + sinh(mu)**2)*sin(nu)**2*cos(nu)**2*sinh(mu)**2*cosh(mu)**2 + a**6*sqrt(sin(nu)**2 + sinh(mu)**2)*cos(nu)**2*sinh(mu)**4*cosh(mu)**2) + a**5*A_\\mu(mu, nu, phi)*cos(nu)**2*sinh(mu)**5*cosh(mu)/(a**6*sqrt(sin(nu)**2 + sinh(mu)**2)*sin(nu)**4*cos(nu)**2*cosh(mu)**2 + 2*a**6*sqrt(sin(nu)**2 + sinh(mu)**2)*sin(nu)**2*cos(nu)**2*sinh(mu)**2*cosh(mu)**2 + a**6*sqrt(sin(nu)**2 + sinh(mu)**2)*cos(nu)**2*sinh(mu)**4*cosh(mu)**2) + 2*a**5*A_\\mu(mu, nu, phi)*cos(nu)**2*sinh(mu)**3*cosh(mu)**3/(a**6*sqrt(sin(nu)**2 + sinh(mu)**2)*sin(nu)**4*cos(nu)**2*cosh(mu)**2 + 2*a**6*sqrt(sin(nu)**2 + sinh(mu)**2)*sin(nu)**2*cos(nu)**2*sinh(mu)**2*cosh(mu)**2 + a**6*sqrt(sin(nu)**2 + sinh(mu)**2)*cos(nu)**2*sinh(mu)**4*cosh(mu)**2) - a**5*A_\\nu(mu, nu, phi)*sin(nu)**5*cos(nu)*cosh(mu)**2/(a**6*sqrt(sin(nu)**2 + sinh(mu)**2)*sin(nu)**4*cos(nu)**2*cosh(mu)**2 + 2*a**6*sqrt(sin(nu)**2 + sinh(mu)**2)*sin(nu)**2*cos(nu)**2*sinh(mu)**2*cosh(mu)**2 + a**6*sqrt(sin(nu)**2 + sinh(mu)**2)*cos(nu)**2*sinh(mu)**4*cosh(mu)**2) + 2*a**5*A_\\nu(mu, nu, phi)*sin(nu)**3*cos(nu)**3*cosh(mu)**2/(a**6*sqrt(sin(nu)**2 + sinh(mu)**2)*sin(nu)**4*cos(nu)**2*cosh(mu)**2 + 2*a**6*sqrt(sin(nu)**2 + sinh(mu)**2)*sin(nu)**2*cos(nu)**2*sinh(mu)**2*cosh(mu)**2 + a**6*sqrt(sin(nu)**2 + sinh(mu)**2)*cos(nu)**2*sinh(mu)**4*cosh(mu)**2) - 2*a**5*A_\\nu(mu, nu, phi)*sin(nu)**3*cos(nu)*sinh(mu)**2*cosh(mu)**2/(a**6*sqrt(sin(nu)**2 + sinh(mu)**2)*sin(nu)**4*cos(nu)**2*cosh(mu)**2 + 2*a**6*sqrt(sin(nu)**2 + sinh(mu)**2)*sin(nu)**2*cos(nu)**2*sinh(mu)**2*cosh(mu)**2 + a**6*sqrt(sin(nu)**2 + sinh(mu)**2)*cos(nu)**2*sinh(mu)**4*cosh(mu)**2) + 2*a**5*A_\\nu(mu, nu, phi)*sin(nu)*cos(nu)**3*sinh(mu)**2*cosh(mu)**2/(a**6*sqrt(sin(nu)**2 + sinh(mu)**2)*sin(nu)**4*cos(nu)**2*cosh(mu)**2 + 2*a**6*sqrt(sin(nu)**2 + sinh(mu)**2)*sin(nu)**2*cos(nu)**2*sinh(mu)**2*cosh(mu)**2 + a**6*sqrt(sin(nu)**2 + sinh(mu)**2)*cos(nu)**2*sinh(mu)**4*cosh(mu)**2) - a**5*A_\\nu(mu, nu, phi)*sin(nu)*cos(nu)*sinh(mu)**4*cosh(mu)**2/(a**6*sqrt(sin(nu)**2 + sinh(mu)**2)*sin(nu)**4*cos(nu)**2*cosh(mu)**2 + 2*a**6*sqrt(sin(nu)**2 + sinh(mu)**2)*sin(nu)**2*cos(nu)**2*sinh(mu)**2*cosh(mu)**2 + a**6*sqrt(sin(nu)**2 + sinh(mu)**2)*cos(nu)**2*sinh(mu)**4*cosh(mu)**2) - A_\\mu(mu, nu, phi)*sinh(mu)*cosh(mu)/(a*sqrt(sin(nu)**2 + sinh(mu)**2)*sin(nu)**2 + a*sqrt(sin(nu)**2 + sinh(mu)**2)*sinh(mu)**2) - A_\\nu(mu, nu, phi)*sin(nu)*cos(nu)/(a*sqrt(sin(nu)**2 + sinh(mu)**2)*sin(nu)**2 + a*sqrt(sin(nu)**2 + sinh(mu)**2)*sinh(mu)**2) + Derivative(A_\\phi(mu, nu, phi), phi)/(a*cos(nu)*cosh(mu)) + Derivative(A_\\mu(mu, nu, phi), mu)/(a*sqrt(sin(nu)**2 + sinh(mu)**2)) + Derivative(A_\\nu(mu, nu, phi), nu)/(a*sqrt(sin(nu)**2 + sinh(mu)**2))"
      ]
     },
     "execution_count": 14,
     "metadata": {},
     "output_type": "execute_result"
    }
   ],
   "source": [
    "zz.divergence() # not simplifying"
   ]
  },
  {
   "cell_type": "code",
   "execution_count": 15,
   "id": "2ba22279-2538-465d-8c61-42e55aed3f87",
   "metadata": {},
   "outputs": [
    {
     "data": {
      "text/latex": [
       "$\\displaystyle \\left[\\begin{matrix}\\hat{\\mathbf{e_\\mu}} \\left(- \\frac{a^{2} \\sqrt{\\sin^{2}{\\left(\\nu \\right)} + \\sinh^{2}{\\left(\\mu \\right)}} \\operatorname{A_{\\phi}}{\\left(\\mu,\\nu,\\phi \\right)} \\sin{\\left(\\nu \\right)} \\cosh{\\left(\\mu \\right)}}{\\sqrt{a^{6} \\sin^{4}{\\left(\\nu \\right)} \\cos^{2}{\\left(\\nu \\right)} \\cosh^{2}{\\left(\\mu \\right)} + 2 a^{6} \\sin^{2}{\\left(\\nu \\right)} \\cos^{2}{\\left(\\nu \\right)} \\sinh^{2}{\\left(\\mu \\right)} \\cosh^{2}{\\left(\\mu \\right)} + a^{6} \\cos^{2}{\\left(\\nu \\right)} \\sinh^{4}{\\left(\\mu \\right)} \\cosh^{2}{\\left(\\mu \\right)}}} + \\frac{a^{2} \\sqrt{\\sin^{2}{\\left(\\nu \\right)} + \\sinh^{2}{\\left(\\mu \\right)}} \\cos{\\left(\\nu \\right)} \\cosh{\\left(\\mu \\right)} \\frac{\\partial}{\\partial \\nu} \\operatorname{A_{\\phi}}{\\left(\\mu,\\nu,\\phi \\right)}}{\\sqrt{a^{6} \\sin^{4}{\\left(\\nu \\right)} \\cos^{2}{\\left(\\nu \\right)} \\cosh^{2}{\\left(\\mu \\right)} + 2 a^{6} \\sin^{2}{\\left(\\nu \\right)} \\cos^{2}{\\left(\\nu \\right)} \\sinh^{2}{\\left(\\mu \\right)} \\cosh^{2}{\\left(\\mu \\right)} + a^{6} \\cos^{2}{\\left(\\nu \\right)} \\sinh^{4}{\\left(\\mu \\right)} \\cosh^{2}{\\left(\\mu \\right)}}} - \\frac{a^{2} \\sin^{2}{\\left(\\nu \\right)} \\frac{\\partial}{\\partial \\phi} \\operatorname{A_{\\nu}}{\\left(\\mu,\\nu,\\phi \\right)}}{\\sqrt{a^{6} \\sin^{4}{\\left(\\nu \\right)} \\cos^{2}{\\left(\\nu \\right)} \\cosh^{2}{\\left(\\mu \\right)} + 2 a^{6} \\sin^{2}{\\left(\\nu \\right)} \\cos^{2}{\\left(\\nu \\right)} \\sinh^{2}{\\left(\\mu \\right)} \\cosh^{2}{\\left(\\mu \\right)} + a^{6} \\cos^{2}{\\left(\\nu \\right)} \\sinh^{4}{\\left(\\mu \\right)} \\cosh^{2}{\\left(\\mu \\right)}}} - \\frac{a^{2} \\sinh^{2}{\\left(\\mu \\right)} \\frac{\\partial}{\\partial \\phi} \\operatorname{A_{\\nu}}{\\left(\\mu,\\nu,\\phi \\right)}}{\\sqrt{a^{6} \\sin^{4}{\\left(\\nu \\right)} \\cos^{2}{\\left(\\nu \\right)} \\cosh^{2}{\\left(\\mu \\right)} + 2 a^{6} \\sin^{2}{\\left(\\nu \\right)} \\cos^{2}{\\left(\\nu \\right)} \\sinh^{2}{\\left(\\mu \\right)} \\cosh^{2}{\\left(\\mu \\right)} + a^{6} \\cos^{2}{\\left(\\nu \\right)} \\sinh^{4}{\\left(\\mu \\right)} \\cosh^{2}{\\left(\\mu \\right)}}}\\right) + \\hat{\\mathbf{e_\\nu}} \\left(- \\frac{a^{2} \\sqrt{\\sin^{2}{\\left(\\nu \\right)} + \\sinh^{2}{\\left(\\mu \\right)}} \\operatorname{A_{\\phi}}{\\left(\\mu,\\nu,\\phi \\right)} \\cos{\\left(\\nu \\right)} \\sinh{\\left(\\mu \\right)}}{\\sqrt{a^{6} \\sin^{4}{\\left(\\nu \\right)} \\cos^{2}{\\left(\\nu \\right)} \\cosh^{2}{\\left(\\mu \\right)} + 2 a^{6} \\sin^{2}{\\left(\\nu \\right)} \\cos^{2}{\\left(\\nu \\right)} \\sinh^{2}{\\left(\\mu \\right)} \\cosh^{2}{\\left(\\mu \\right)} + a^{6} \\cos^{2}{\\left(\\nu \\right)} \\sinh^{4}{\\left(\\mu \\right)} \\cosh^{2}{\\left(\\mu \\right)}}} - \\frac{a^{2} \\sqrt{\\sin^{2}{\\left(\\nu \\right)} + \\sinh^{2}{\\left(\\mu \\right)}} \\cos{\\left(\\nu \\right)} \\cosh{\\left(\\mu \\right)} \\frac{\\partial}{\\partial \\mu} \\operatorname{A_{\\phi}}{\\left(\\mu,\\nu,\\phi \\right)}}{\\sqrt{a^{6} \\sin^{4}{\\left(\\nu \\right)} \\cos^{2}{\\left(\\nu \\right)} \\cosh^{2}{\\left(\\mu \\right)} + 2 a^{6} \\sin^{2}{\\left(\\nu \\right)} \\cos^{2}{\\left(\\nu \\right)} \\sinh^{2}{\\left(\\mu \\right)} \\cosh^{2}{\\left(\\mu \\right)} + a^{6} \\cos^{2}{\\left(\\nu \\right)} \\sinh^{4}{\\left(\\mu \\right)} \\cosh^{2}{\\left(\\mu \\right)}}} + \\frac{a^{2} \\sin^{2}{\\left(\\nu \\right)} \\frac{\\partial}{\\partial \\phi} \\operatorname{A_{\\mu}}{\\left(\\mu,\\nu,\\phi \\right)}}{\\sqrt{a^{6} \\sin^{4}{\\left(\\nu \\right)} \\cos^{2}{\\left(\\nu \\right)} \\cosh^{2}{\\left(\\mu \\right)} + 2 a^{6} \\sin^{2}{\\left(\\nu \\right)} \\cos^{2}{\\left(\\nu \\right)} \\sinh^{2}{\\left(\\mu \\right)} \\cosh^{2}{\\left(\\mu \\right)} + a^{6} \\cos^{2}{\\left(\\nu \\right)} \\sinh^{4}{\\left(\\mu \\right)} \\cosh^{2}{\\left(\\mu \\right)}}} + \\frac{a^{2} \\sinh^{2}{\\left(\\mu \\right)} \\frac{\\partial}{\\partial \\phi} \\operatorname{A_{\\mu}}{\\left(\\mu,\\nu,\\phi \\right)}}{\\sqrt{a^{6} \\sin^{4}{\\left(\\nu \\right)} \\cos^{2}{\\left(\\nu \\right)} \\cosh^{2}{\\left(\\mu \\right)} + 2 a^{6} \\sin^{2}{\\left(\\nu \\right)} \\cos^{2}{\\left(\\nu \\right)} \\sinh^{2}{\\left(\\mu \\right)} \\cosh^{2}{\\left(\\mu \\right)} + a^{6} \\cos^{2}{\\left(\\nu \\right)} \\sinh^{4}{\\left(\\mu \\right)} \\cosh^{2}{\\left(\\mu \\right)}}}\\right) + \\hat{\\mathbf{e_\\phi}} \\left(- \\frac{a^{2} \\sqrt{\\sin^{2}{\\left(\\nu \\right)} + \\sinh^{2}{\\left(\\mu \\right)}} \\cos{\\left(\\nu \\right)} \\cosh{\\left(\\mu \\right)} \\frac{\\partial}{\\partial \\nu} \\operatorname{A_{\\mu}}{\\left(\\mu,\\nu,\\phi \\right)}}{\\sqrt{a^{6} \\sin^{4}{\\left(\\nu \\right)} \\cos^{2}{\\left(\\nu \\right)} \\cosh^{2}{\\left(\\mu \\right)} + 2 a^{6} \\sin^{2}{\\left(\\nu \\right)} \\cos^{2}{\\left(\\nu \\right)} \\sinh^{2}{\\left(\\mu \\right)} \\cosh^{2}{\\left(\\mu \\right)} + a^{6} \\cos^{2}{\\left(\\nu \\right)} \\sinh^{4}{\\left(\\mu \\right)} \\cosh^{2}{\\left(\\mu \\right)}}} + \\frac{a^{2} \\sqrt{\\sin^{2}{\\left(\\nu \\right)} + \\sinh^{2}{\\left(\\mu \\right)}} \\cos{\\left(\\nu \\right)} \\cosh{\\left(\\mu \\right)} \\frac{\\partial}{\\partial \\mu} \\operatorname{A_{\\nu}}{\\left(\\mu,\\nu,\\phi \\right)}}{\\sqrt{a^{6} \\sin^{4}{\\left(\\nu \\right)} \\cos^{2}{\\left(\\nu \\right)} \\cosh^{2}{\\left(\\mu \\right)} + 2 a^{6} \\sin^{2}{\\left(\\nu \\right)} \\cos^{2}{\\left(\\nu \\right)} \\sinh^{2}{\\left(\\mu \\right)} \\cosh^{2}{\\left(\\mu \\right)} + a^{6} \\cos^{2}{\\left(\\nu \\right)} \\sinh^{4}{\\left(\\mu \\right)} \\cosh^{2}{\\left(\\mu \\right)}}} - \\frac{a^{2} \\operatorname{A_{\\mu}}{\\left(\\mu,\\nu,\\phi \\right)} \\sin{\\left(\\nu \\right)} \\cos^{2}{\\left(\\nu \\right)} \\cosh{\\left(\\mu \\right)}}{\\sqrt{\\sin^{2}{\\left(\\nu \\right)} + \\sinh^{2}{\\left(\\mu \\right)}} \\sqrt{a^{6} \\sin^{4}{\\left(\\nu \\right)} \\cos^{2}{\\left(\\nu \\right)} \\cosh^{2}{\\left(\\mu \\right)} + 2 a^{6} \\sin^{2}{\\left(\\nu \\right)} \\cos^{2}{\\left(\\nu \\right)} \\sinh^{2}{\\left(\\mu \\right)} \\cosh^{2}{\\left(\\mu \\right)} + a^{6} \\cos^{2}{\\left(\\nu \\right)} \\sinh^{4}{\\left(\\mu \\right)} \\cosh^{2}{\\left(\\mu \\right)}}} + \\frac{a^{2} \\operatorname{A_{\\nu}}{\\left(\\mu,\\nu,\\phi \\right)} \\cos{\\left(\\nu \\right)} \\sinh{\\left(\\mu \\right)} \\cosh^{2}{\\left(\\mu \\right)}}{\\sqrt{\\sin^{2}{\\left(\\nu \\right)} + \\sinh^{2}{\\left(\\mu \\right)}} \\sqrt{a^{6} \\sin^{4}{\\left(\\nu \\right)} \\cos^{2}{\\left(\\nu \\right)} \\cosh^{2}{\\left(\\mu \\right)} + 2 a^{6} \\sin^{2}{\\left(\\nu \\right)} \\cos^{2}{\\left(\\nu \\right)} \\sinh^{2}{\\left(\\mu \\right)} \\cosh^{2}{\\left(\\mu \\right)} + a^{6} \\cos^{2}{\\left(\\nu \\right)} \\sinh^{4}{\\left(\\mu \\right)} \\cosh^{2}{\\left(\\mu \\right)}}}\\right)\\end{matrix}\\right]$"
      ],
      "text/plain": [
       "Matrix([[\\hat{\\mathbf{e_\\mu}}*(-a**2*sqrt(sin(nu)**2 + sinh(mu)**2)*A_\\phi(mu, nu, phi)*sin(nu)*cosh(mu)/sqrt(a**6*sin(nu)**4*cos(nu)**2*cosh(mu)**2 + 2*a**6*sin(nu)**2*cos(nu)**2*sinh(mu)**2*cosh(mu)**2 + a**6*cos(nu)**2*sinh(mu)**4*cosh(mu)**2) + a**2*sqrt(sin(nu)**2 + sinh(mu)**2)*cos(nu)*cosh(mu)*Derivative(A_\\phi(mu, nu, phi), nu)/sqrt(a**6*sin(nu)**4*cos(nu)**2*cosh(mu)**2 + 2*a**6*sin(nu)**2*cos(nu)**2*sinh(mu)**2*cosh(mu)**2 + a**6*cos(nu)**2*sinh(mu)**4*cosh(mu)**2) - a**2*sin(nu)**2*Derivative(A_\\nu(mu, nu, phi), phi)/sqrt(a**6*sin(nu)**4*cos(nu)**2*cosh(mu)**2 + 2*a**6*sin(nu)**2*cos(nu)**2*sinh(mu)**2*cosh(mu)**2 + a**6*cos(nu)**2*sinh(mu)**4*cosh(mu)**2) - a**2*sinh(mu)**2*Derivative(A_\\nu(mu, nu, phi), phi)/sqrt(a**6*sin(nu)**4*cos(nu)**2*cosh(mu)**2 + 2*a**6*sin(nu)**2*cos(nu)**2*sinh(mu)**2*cosh(mu)**2 + a**6*cos(nu)**2*sinh(mu)**4*cosh(mu)**2)) + \\hat{\\mathbf{e_\\nu}}*(-a**2*sqrt(sin(nu)**2 + sinh(mu)**2)*A_\\phi(mu, nu, phi)*cos(nu)*sinh(mu)/sqrt(a**6*sin(nu)**4*cos(nu)**2*cosh(mu)**2 + 2*a**6*sin(nu)**2*cos(nu)**2*sinh(mu)**2*cosh(mu)**2 + a**6*cos(nu)**2*sinh(mu)**4*cosh(mu)**2) - a**2*sqrt(sin(nu)**2 + sinh(mu)**2)*cos(nu)*cosh(mu)*Derivative(A_\\phi(mu, nu, phi), mu)/sqrt(a**6*sin(nu)**4*cos(nu)**2*cosh(mu)**2 + 2*a**6*sin(nu)**2*cos(nu)**2*sinh(mu)**2*cosh(mu)**2 + a**6*cos(nu)**2*sinh(mu)**4*cosh(mu)**2) + a**2*sin(nu)**2*Derivative(A_\\mu(mu, nu, phi), phi)/sqrt(a**6*sin(nu)**4*cos(nu)**2*cosh(mu)**2 + 2*a**6*sin(nu)**2*cos(nu)**2*sinh(mu)**2*cosh(mu)**2 + a**6*cos(nu)**2*sinh(mu)**4*cosh(mu)**2) + a**2*sinh(mu)**2*Derivative(A_\\mu(mu, nu, phi), phi)/sqrt(a**6*sin(nu)**4*cos(nu)**2*cosh(mu)**2 + 2*a**6*sin(nu)**2*cos(nu)**2*sinh(mu)**2*cosh(mu)**2 + a**6*cos(nu)**2*sinh(mu)**4*cosh(mu)**2)) + \\hat{\\mathbf{e_\\phi}}*(-a**2*sqrt(sin(nu)**2 + sinh(mu)**2)*cos(nu)*cosh(mu)*Derivative(A_\\mu(mu, nu, phi), nu)/sqrt(a**6*sin(nu)**4*cos(nu)**2*cosh(mu)**2 + 2*a**6*sin(nu)**2*cos(nu)**2*sinh(mu)**2*cosh(mu)**2 + a**6*cos(nu)**2*sinh(mu)**4*cosh(mu)**2) + a**2*sqrt(sin(nu)**2 + sinh(mu)**2)*cos(nu)*cosh(mu)*Derivative(A_\\nu(mu, nu, phi), mu)/sqrt(a**6*sin(nu)**4*cos(nu)**2*cosh(mu)**2 + 2*a**6*sin(nu)**2*cos(nu)**2*sinh(mu)**2*cosh(mu)**2 + a**6*cos(nu)**2*sinh(mu)**4*cosh(mu)**2) - a**2*A_\\mu(mu, nu, phi)*sin(nu)*cos(nu)**2*cosh(mu)/(sqrt(sin(nu)**2 + sinh(mu)**2)*sqrt(a**6*sin(nu)**4*cos(nu)**2*cosh(mu)**2 + 2*a**6*sin(nu)**2*cos(nu)**2*sinh(mu)**2*cosh(mu)**2 + a**6*cos(nu)**2*sinh(mu)**4*cosh(mu)**2)) + a**2*A_\\nu(mu, nu, phi)*cos(nu)*sinh(mu)*cosh(mu)**2/(sqrt(sin(nu)**2 + sinh(mu)**2)*sqrt(a**6*sin(nu)**4*cos(nu)**2*cosh(mu)**2 + 2*a**6*sin(nu)**2*cos(nu)**2*sinh(mu)**2*cosh(mu)**2 + a**6*cos(nu)**2*sinh(mu)**4*cosh(mu)**2)))]])"
      ]
     },
     "execution_count": 15,
     "metadata": {},
     "output_type": "execute_result"
    }
   ],
   "source": [
    "zz.curl(vector=False)  # not simplifying"
   ]
  },
  {
   "cell_type": "code",
   "execution_count": 16,
   "id": "eb760216-0656-435b-b5f6-37b01ede80b2",
   "metadata": {},
   "outputs": [
    {
     "data": {
      "text/latex": [
       "$\\displaystyle - \\frac{4 \\cos{\\left(2 \\nu \\right)} \\frac{\\partial^{2}}{\\partial \\phi^{2}} f{\\left(\\mu,\\nu,\\phi \\right)}}{4 a^{2} \\cos{\\left(2 \\nu \\right)} \\sinh^{2}{\\left(\\mu \\right)} \\cosh^{2}{\\left(\\mu \\right)} - a^{2} \\cos{\\left(4 \\nu \\right)} \\cosh^{2}{\\left(\\mu \\right)} + 4 a^{2} \\sinh^{2}{\\left(\\mu \\right)} \\cosh^{2}{\\left(\\mu \\right)} + a^{2} \\cosh^{2}{\\left(\\mu \\right)}} - \\frac{4 \\frac{\\partial^{2}}{\\partial \\phi^{2}} f{\\left(\\mu,\\nu,\\phi \\right)}}{4 a^{2} \\cos{\\left(2 \\nu \\right)} \\sinh^{2}{\\left(\\mu \\right)} \\cosh^{2}{\\left(\\mu \\right)} - a^{2} \\cos{\\left(4 \\nu \\right)} \\cosh^{2}{\\left(\\mu \\right)} + 4 a^{2} \\sinh^{2}{\\left(\\mu \\right)} \\cosh^{2}{\\left(\\mu \\right)} + a^{2} \\cosh^{2}{\\left(\\mu \\right)}} - \\frac{4 \\sin{\\left(2 \\nu \\right)} \\frac{\\partial}{\\partial \\nu} f{\\left(\\mu,\\nu,\\phi \\right)}}{4 a^{2} \\cos{\\left(2 \\nu \\right)} \\sinh^{2}{\\left(\\mu \\right)} - a^{2} \\cos{\\left(4 \\nu \\right)} + 4 a^{2} \\sinh^{2}{\\left(\\mu \\right)} + a^{2}} + \\frac{4 \\cos{\\left(2 \\nu \\right)} \\tanh{\\left(\\mu \\right)} \\frac{\\partial}{\\partial \\mu} f{\\left(\\mu,\\nu,\\phi \\right)}}{4 a^{2} \\cos{\\left(2 \\nu \\right)} \\sinh^{2}{\\left(\\mu \\right)} - a^{2} \\cos{\\left(4 \\nu \\right)} + 4 a^{2} \\sinh^{2}{\\left(\\mu \\right)} + a^{2}} + \\frac{4 \\cos{\\left(2 \\nu \\right)} \\frac{\\partial^{2}}{\\partial \\mu^{2}} f{\\left(\\mu,\\nu,\\phi \\right)}}{4 a^{2} \\cos{\\left(2 \\nu \\right)} \\sinh^{2}{\\left(\\mu \\right)} - a^{2} \\cos{\\left(4 \\nu \\right)} + 4 a^{2} \\sinh^{2}{\\left(\\mu \\right)} + a^{2}} + \\frac{4 \\cos{\\left(2 \\nu \\right)} \\frac{\\partial^{2}}{\\partial \\nu^{2}} f{\\left(\\mu,\\nu,\\phi \\right)}}{4 a^{2} \\cos{\\left(2 \\nu \\right)} \\sinh^{2}{\\left(\\mu \\right)} - a^{2} \\cos{\\left(4 \\nu \\right)} + 4 a^{2} \\sinh^{2}{\\left(\\mu \\right)} + a^{2}} + \\frac{4 \\tanh{\\left(\\mu \\right)} \\frac{\\partial}{\\partial \\mu} f{\\left(\\mu,\\nu,\\phi \\right)}}{4 a^{2} \\cos{\\left(2 \\nu \\right)} \\sinh^{2}{\\left(\\mu \\right)} - a^{2} \\cos{\\left(4 \\nu \\right)} + 4 a^{2} \\sinh^{2}{\\left(\\mu \\right)} + a^{2}} + \\frac{4 \\frac{\\partial^{2}}{\\partial \\mu^{2}} f{\\left(\\mu,\\nu,\\phi \\right)}}{4 a^{2} \\cos{\\left(2 \\nu \\right)} \\sinh^{2}{\\left(\\mu \\right)} - a^{2} \\cos{\\left(4 \\nu \\right)} + 4 a^{2} \\sinh^{2}{\\left(\\mu \\right)} + a^{2}} + \\frac{4 \\frac{\\partial^{2}}{\\partial \\nu^{2}} f{\\left(\\mu,\\nu,\\phi \\right)}}{4 a^{2} \\cos{\\left(2 \\nu \\right)} \\sinh^{2}{\\left(\\mu \\right)} - a^{2} \\cos{\\left(4 \\nu \\right)} + 4 a^{2} \\sinh^{2}{\\left(\\mu \\right)} + a^{2}} + \\frac{8 \\frac{\\partial^{2}}{\\partial \\phi^{2}} f{\\left(\\mu,\\nu,\\phi \\right)}}{4 a^{2} \\cos{\\left(2 \\nu \\right)} \\sinh^{2}{\\left(\\mu \\right)} - a^{2} \\cos{\\left(4 \\nu \\right)} + 4 a^{2} \\sinh^{2}{\\left(\\mu \\right)} + a^{2}}$"
      ],
      "text/plain": [
       "-4*cos(2*nu)*Derivative(f(mu, nu, phi), (phi, 2))/(4*a**2*cos(2*nu)*sinh(mu)**2*cosh(mu)**2 - a**2*cos(4*nu)*cosh(mu)**2 + 4*a**2*sinh(mu)**2*cosh(mu)**2 + a**2*cosh(mu)**2) - 4*Derivative(f(mu, nu, phi), (phi, 2))/(4*a**2*cos(2*nu)*sinh(mu)**2*cosh(mu)**2 - a**2*cos(4*nu)*cosh(mu)**2 + 4*a**2*sinh(mu)**2*cosh(mu)**2 + a**2*cosh(mu)**2) - 4*sin(2*nu)*Derivative(f(mu, nu, phi), nu)/(4*a**2*cos(2*nu)*sinh(mu)**2 - a**2*cos(4*nu) + 4*a**2*sinh(mu)**2 + a**2) + 4*cos(2*nu)*tanh(mu)*Derivative(f(mu, nu, phi), mu)/(4*a**2*cos(2*nu)*sinh(mu)**2 - a**2*cos(4*nu) + 4*a**2*sinh(mu)**2 + a**2) + 4*cos(2*nu)*Derivative(f(mu, nu, phi), (mu, 2))/(4*a**2*cos(2*nu)*sinh(mu)**2 - a**2*cos(4*nu) + 4*a**2*sinh(mu)**2 + a**2) + 4*cos(2*nu)*Derivative(f(mu, nu, phi), (nu, 2))/(4*a**2*cos(2*nu)*sinh(mu)**2 - a**2*cos(4*nu) + 4*a**2*sinh(mu)**2 + a**2) + 4*tanh(mu)*Derivative(f(mu, nu, phi), mu)/(4*a**2*cos(2*nu)*sinh(mu)**2 - a**2*cos(4*nu) + 4*a**2*sinh(mu)**2 + a**2) + 4*Derivative(f(mu, nu, phi), (mu, 2))/(4*a**2*cos(2*nu)*sinh(mu)**2 - a**2*cos(4*nu) + 4*a**2*sinh(mu)**2 + a**2) + 4*Derivative(f(mu, nu, phi), (nu, 2))/(4*a**2*cos(2*nu)*sinh(mu)**2 - a**2*cos(4*nu) + 4*a**2*sinh(mu)**2 + a**2) + 8*Derivative(f(mu, nu, phi), (phi, 2))/(4*a**2*cos(2*nu)*sinh(mu)**2 - a**2*cos(4*nu) + 4*a**2*sinh(mu)**2 + a**2)"
      ]
     },
     "execution_count": 16,
     "metadata": {},
     "output_type": "execute_result"
    }
   ],
   "source": [
    "zz.Laplacian_scalar()  # not simplifying"
   ]
  },
  {
   "cell_type": "code",
   "execution_count": null,
   "id": "4e353977-9209-46cb-b1cf-f631683ddb97",
   "metadata": {},
   "outputs": [],
   "source": []
  },
  {
   "cell_type": "code",
   "execution_count": null,
   "id": "80d46e96-06ac-4230-bc03-f3bca49f9ff9",
   "metadata": {},
   "outputs": [],
   "source": []
  }
 ],
 "metadata": {
  "kernelspec": {
   "display_name": "Python 3 (ipykernel)",
   "language": "python",
   "name": "python3"
  },
  "language_info": {
   "codemirror_mode": {
    "name": "ipython",
    "version": 3
   },
   "file_extension": ".py",
   "mimetype": "text/x-python",
   "name": "python",
   "nbconvert_exporter": "python",
   "pygments_lexer": "ipython3",
   "version": "3.10.4"
  }
 },
 "nbformat": 4,
 "nbformat_minor": 5
}
