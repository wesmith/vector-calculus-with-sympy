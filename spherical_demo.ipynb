{
 "cells": [
  {
   "cell_type": "markdown",
   "id": "58db5a3f-ec97-4b64-bf6f-fbba0e568f64",
   "metadata": {},
   "source": [
    "# <center>spherical_demo.ipynb\n",
    "<h1> <center>WESmith 06/29/22"
   ]
  },
  {
   "cell_type": "code",
   "execution_count": 1,
   "id": "9901cabd-ed09-4ae3-b550-5be27c287c3c",
   "metadata": {},
   "outputs": [],
   "source": [
    "import operator_utils as ws\n",
    "import sympy as sy"
   ]
  },
  {
   "cell_type": "markdown",
   "id": "f6784c97-e3b3-4525-a509-245cfb3059bd",
   "metadata": {},
   "source": [
    "# <center>3D spherical coordinates"
   ]
  },
  {
   "cell_type": "code",
   "execution_count": 3,
   "id": "9f9993e6-e76f-45b2-8364-dcf9694ddfee",
   "metadata": {},
   "outputs": [
    {
     "data": {
      "text/markdown": [
       "<h3><center> Hello </center></h3>"
      ],
      "text/plain": [
       "<IPython.core.display.Markdown object>"
      ]
     },
     "execution_count": 3,
     "metadata": {},
     "output_type": "execute_result"
    }
   ],
   "source": [
    "ws.test_markdown()"
   ]
  },
  {
   "cell_type": "code",
   "execution_count": null,
   "id": "bc57c231-2e99-4e8f-b586-0bfa6740a37e",
   "metadata": {},
   "outputs": [],
   "source": [
    "aa = ws.coord_xforms()\n",
    "dd = ws.Operators(aa['spherical_3d'])"
   ]
  },
  {
   "cell_type": "code",
   "execution_count": null,
   "id": "67fb84e3-2496-41f7-ae4d-a4318546fa9d",
   "metadata": {},
   "outputs": [],
   "source": [
    "title = 'Transform used in {} coordinates:'.format(dd.name)\n",
    "ws.latex_block(dd.transform, title=title, center=True, lhs=dd.coords, h_title=1, h_eq=3)"
   ]
  },
  {
   "cell_type": "code",
   "execution_count": null,
   "id": "dc39fff6-7ae2-46d5-9df7-f745fc9552a8",
   "metadata": {},
   "outputs": [],
   "source": [
    "ws.latex_block(dd.transform, center=False, title=title, h_title=1, lhs=dd.coords, h_eq=2)"
   ]
  },
  {
   "cell_type": "code",
   "execution_count": null,
   "id": "bb3d974e-fe2b-48cd-a95d-7ff1ab4144f3",
   "metadata": {},
   "outputs": [],
   "source": [
    "ws.latex_block(dd.Jacobian, title='Jacobian', lhs='J')"
   ]
  },
  {
   "cell_type": "code",
   "execution_count": null,
   "id": "a3b741c3-2996-4a88-ad7c-1527c55671fd",
   "metadata": {},
   "outputs": [],
   "source": [
    "dd.Jacobian_inv"
   ]
  },
  {
   "cell_type": "code",
   "execution_count": null,
   "id": "df2c9df3-6d96-4ef8-8bc4-c3479aa105cd",
   "metadata": {},
   "outputs": [],
   "source": [
    "ws.simp(dd.Jacobian_inv) # simp() reduces expressions element-by-element"
   ]
  },
  {
   "cell_type": "code",
   "execution_count": null,
   "id": "02042e1c-1ca8-4436-ba39-93e06db3c84d",
   "metadata": {},
   "outputs": [],
   "source": [
    "ws.latex_block(ws.simp(dd.Jacobian_inv), title=\"Jacobian inverse\", lhs='inv(J)')"
   ]
  },
  {
   "cell_type": "code",
   "execution_count": null,
   "id": "6c5915fa-9593-4322-bf4b-7ee0e1c88bc9",
   "metadata": {},
   "outputs": [],
   "source": [
    "title = 'Primed basis in {} coordinates:'.format(dd.name)\n",
    "ws.latex_block(dd.primed_basis, title=title, lhs=dd.Zp, center=False, h_title=1, h_eq=5)"
   ]
  },
  {
   "cell_type": "code",
   "execution_count": null,
   "id": "c704ef2f-fb80-413b-9706-49f0fd53e93a",
   "metadata": {},
   "outputs": [],
   "source": [
    "dd.metric"
   ]
  },
  {
   "cell_type": "code",
   "execution_count": null,
   "id": "6a900b08-ea2a-4d34-866a-3d2164e4d773",
   "metadata": {},
   "outputs": [],
   "source": [
    "dd.metric_sqrt"
   ]
  },
  {
   "cell_type": "code",
   "execution_count": null,
   "id": "b145b68a-850a-4c5f-a7bf-5264aa3dc624",
   "metadata": {},
   "outputs": [],
   "source": [
    "dd.metric_inv_sqrt"
   ]
  },
  {
   "cell_type": "code",
   "execution_count": null,
   "id": "22d718cc-d108-421c-a3f4-7de7e76a4a80",
   "metadata": {},
   "outputs": [],
   "source": [
    "dd.det_sqrt"
   ]
  },
  {
   "cell_type": "code",
   "execution_count": null,
   "id": "9cecb96f-4cc8-4ef2-a023-09a7605ad4eb",
   "metadata": {},
   "outputs": [],
   "source": [
    "dd.gradient()"
   ]
  },
  {
   "cell_type": "code",
   "execution_count": null,
   "id": "d45706ed-8a59-438b-a0ce-dc3725d28731",
   "metadata": {},
   "outputs": [],
   "source": [
    "dd.gradient(vector=False)"
   ]
  },
  {
   "cell_type": "code",
   "execution_count": null,
   "id": "d29cbbf8-32f3-4da6-8cf6-84234cbdf09e",
   "metadata": {},
   "outputs": [],
   "source": [
    "dd.divergence()"
   ]
  },
  {
   "cell_type": "code",
   "execution_count": null,
   "id": "e3a0675f-4dd2-4e8b-852e-da1a1a1dbbd6",
   "metadata": {},
   "outputs": [],
   "source": [
    "dd.curl()"
   ]
  },
  {
   "cell_type": "code",
   "execution_count": null,
   "id": "6164896b-14eb-48cb-92eb-36f33fde1315",
   "metadata": {},
   "outputs": [],
   "source": [
    "dd.curl(vector=False)"
   ]
  },
  {
   "cell_type": "code",
   "execution_count": null,
   "id": "269eebaf-2bfa-43cb-90cd-22533b5a102d",
   "metadata": {},
   "outputs": [],
   "source": [
    "dd.Laplacian_scalar()  # of a general function"
   ]
  },
  {
   "cell_type": "code",
   "execution_count": null,
   "id": "2408144a-8e3d-4f86-939f-8ddd7b854b51",
   "metadata": {},
   "outputs": [],
   "source": [
    "r, theta, phi = dd.coords_p"
   ]
  },
  {
   "cell_type": "code",
   "execution_count": null,
   "id": "d36038f8-b20f-4807-b520-23979f9d71ae",
   "metadata": {},
   "outputs": [],
   "source": [
    "# separable function\n",
    "f, g, h, F = sy.symbols('f g h F', cls=sy.Function)\n",
    "f = f(r)\n",
    "g = g(theta)\n",
    "h = h(phi)\n",
    "F = f * g * h"
   ]
  },
  {
   "cell_type": "code",
   "execution_count": null,
   "id": "e623a199-ebcb-4fa2-9c32-5e1e7343eb82",
   "metadata": {},
   "outputs": [],
   "source": [
    "dd.gradient(F)"
   ]
  },
  {
   "cell_type": "code",
   "execution_count": null,
   "id": "432468dd-74ec-433e-9b83-d067eb4c7558",
   "metadata": {},
   "outputs": [],
   "source": [
    "title = 'Laplacian of a separable scalar field in {} coordinates'.format(dd.name)\n",
    "ws.latex_block(dd.Laplacian_scalar(F), title=title, lhs=dd.Laplacian_symbolic(F), h_title=2, h_eq=5)"
   ]
  },
  {
   "cell_type": "code",
   "execution_count": null,
   "id": "14133368-4da3-4949-8f07-965c78bcaf29",
   "metadata": {},
   "outputs": [],
   "source": [
    "title = 'Laplacian of a vector field in {} coordinates'.format(dd.name)\n",
    "Vname = dd._vector_field()\n",
    "ws.latex_block(dd.Laplacian_vector_reduced(Vname), title=title, lhs=dd.Laplacian_symbolic(Vname), h_eq=3)"
   ]
  },
  {
   "cell_type": "code",
   "execution_count": null,
   "id": "eaffe5fc-f7b7-423f-b3f4-c84319b6994f",
   "metadata": {},
   "outputs": [],
   "source": [
    "# Laplacian of f(r) only\n",
    "dd.Laplacian_scalar(f)"
   ]
  },
  {
   "cell_type": "code",
   "execution_count": null,
   "id": "d95123d4-913c-47bc-8109-7312d3b26d18",
   "metadata": {},
   "outputs": [],
   "source": [
    "dd.Laplacian_scalar(1/f) # this is correct"
   ]
  },
  {
   "cell_type": "code",
   "execution_count": null,
   "id": "ac1717d8-cdeb-489a-84e4-6a5fc6fb2a3b",
   "metadata": {},
   "outputs": [],
   "source": [
    "dd.divergence(dd.gradient(g*h)) # also the Laplacian: products of functions"
   ]
  },
  {
   "cell_type": "code",
   "execution_count": null,
   "id": "c14f73c3-4e76-4553-b289-491fbd68bc3a",
   "metadata": {},
   "outputs": [],
   "source": [
    "dd.Laplacian_vector_full(dd.gradient(h))"
   ]
  },
  {
   "cell_type": "code",
   "execution_count": null,
   "id": "db71774e-613f-4a6d-8530-8dae60b17b08",
   "metadata": {},
   "outputs": [],
   "source": [
    "vv = dd.Laplacian_vector_full()"
   ]
  },
  {
   "cell_type": "code",
   "execution_count": null,
   "id": "878152af-515d-4304-890d-51d4e6ef843c",
   "metadata": {},
   "outputs": [],
   "source": [
    "vv[0]"
   ]
  },
  {
   "cell_type": "code",
   "execution_count": null,
   "id": "afecb06e-d04f-4ae9-b442-484caa900ee7",
   "metadata": {},
   "outputs": [],
   "source": [
    "# successfully validated against Arfken p.82\n",
    "vr = dd.Laplacian_vector_reduced()"
   ]
  },
  {
   "cell_type": "code",
   "execution_count": null,
   "id": "131e08e0-b186-4124-b24b-38d26f9127f0",
   "metadata": {},
   "outputs": [],
   "source": [
    "vr[0]"
   ]
  },
  {
   "cell_type": "code",
   "execution_count": null,
   "id": "c7bc7bc3-024a-4b2b-a96a-16a220ee6f1b",
   "metadata": {},
   "outputs": [],
   "source": [
    "vr[1]"
   ]
  },
  {
   "cell_type": "code",
   "execution_count": null,
   "id": "86a2acca-6f63-48c0-bbe1-9e5fbe87ac7e",
   "metadata": {},
   "outputs": [],
   "source": [
    "vr[2]"
   ]
  },
  {
   "cell_type": "code",
   "execution_count": null,
   "id": "73d6774e-2d56-48c6-9b01-fb1e459f502e",
   "metadata": {},
   "outputs": [],
   "source": [
    "dd.material_derivative(vector=False)"
   ]
  },
  {
   "cell_type": "code",
   "execution_count": null,
   "id": "b66e7725-83f5-439f-a5f6-b1a708209cb3",
   "metadata": {},
   "outputs": [],
   "source": [
    "dd.curl(dd.curl())"
   ]
  },
  {
   "cell_type": "code",
   "execution_count": null,
   "id": "9b627b4d-1ca6-45ea-a469-a51bc4402156",
   "metadata": {},
   "outputs": [],
   "source": [
    "dd.gradient(dd.divergence())"
   ]
  },
  {
   "cell_type": "code",
   "execution_count": null,
   "id": "ca69d3bc-1bf5-43b3-8b86-43f6f3043324",
   "metadata": {},
   "outputs": [],
   "source": [
    "def Arfken_example_2_4_2(ops):\n",
    "    # ops is an Operators object defined with standard spherical coords r, theta, phi\n",
    "    # this was successfully validated against Arfken result p. 83 6/18/22\n",
    "    r, theta, phi = ops.coords_p\n",
    "    Aphi = sy.symbols('A_phi', cls=sy.Function, real=True)\n",
    "    Aphi = Aphi(r, theta)\n",
    "    A    = sy.Matrix([0, 0, Aphi])\n",
    "    v1   = ops.curl(ops.curl(A))\n",
    "    tmp  = []\n",
    "    for j, k in zip(v1, A):\n",
    "        tmp.append(j + ops.Laplacian_scalar(k) - ops.Laplacian_symbolic(k))\n",
    "    reduced = sy.trigsimp(ops.Zp.T * sy.Matrix(tmp))\n",
    "    full    = sy.trigsimp(ops.Zp.T * v1)\n",
    "    return full, reduced"
   ]
  },
  {
   "cell_type": "code",
   "execution_count": null,
   "id": "ec18cc4f-ec55-4e63-a563-a03f4006a57c",
   "metadata": {},
   "outputs": [],
   "source": [
    "full, reduced = Arfken_example_2_4_2(dd)\n",
    "full"
   ]
  },
  {
   "cell_type": "code",
   "execution_count": null,
   "id": "f89385f2-fcac-4f57-b2a2-af9156375936",
   "metadata": {},
   "outputs": [],
   "source": [
    "reduced"
   ]
  },
  {
   "cell_type": "markdown",
   "id": "d1a5c432-78cc-45c7-b36e-b6220a9811ab",
   "metadata": {},
   "source": [
    "# Basic checks"
   ]
  },
  {
   "cell_type": "code",
   "execution_count": null,
   "id": "6ddad1db-b961-47f8-8668-3cff85c560d7",
   "metadata": {},
   "outputs": [],
   "source": [
    "dd.Laplacian_scalar(1/r)  # should be 0"
   ]
  },
  {
   "cell_type": "code",
   "execution_count": null,
   "id": "0f7a45af-c290-41ee-86f4-0931c00953d2",
   "metadata": {},
   "outputs": [],
   "source": [
    "dd.gradient(1/r, vector=False)  # should be -1/r**2 in the r_hat direction"
   ]
  },
  {
   "cell_type": "code",
   "execution_count": null,
   "id": "f253e57f-6410-4314-91d5-e9848c6097c2",
   "metadata": {},
   "outputs": [],
   "source": [
    "xx = dd.curl(dd.gradient())  # should be 0 vector"
   ]
  },
  {
   "cell_type": "code",
   "execution_count": null,
   "id": "8a3b9988-bdae-4560-962a-f179016987ac",
   "metadata": {},
   "outputs": [],
   "source": [
    "xx"
   ]
  },
  {
   "cell_type": "code",
   "execution_count": null,
   "id": "d7a57182-ed17-4de7-8166-5f29a51db27f",
   "metadata": {},
   "outputs": [],
   "source": [
    "#(xx.T * xx).args[2][0]\n",
    "xx._eval_is_zero_matrix()"
   ]
  },
  {
   "cell_type": "code",
   "execution_count": null,
   "id": "f611c4ef-2f94-4d10-8531-2a06dcc24134",
   "metadata": {
    "tags": []
   },
   "outputs": [],
   "source": [
    "dd.divergence(dd.curl())  # should be 0"
   ]
  }
 ],
 "metadata": {
  "kernelspec": {
   "display_name": "Python 3 (ipykernel)",
   "language": "python",
   "name": "python3"
  },
  "language_info": {
   "codemirror_mode": {
    "name": "ipython",
    "version": 3
   },
   "file_extension": ".py",
   "mimetype": "text/x-python",
   "name": "python",
   "nbconvert_exporter": "python",
   "pygments_lexer": "ipython3",
   "version": "3.10.4"
  }
 },
 "nbformat": 4,
 "nbformat_minor": 5
}
