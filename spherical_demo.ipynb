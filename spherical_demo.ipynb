{
 "cells": [
  {
   "cell_type": "markdown",
   "id": "58db5a3f-ec97-4b64-bf6f-fbba0e568f64",
   "metadata": {},
   "source": [
    "# spherical_demo.ipynb\n",
    "# WESmith 06/29/22"
   ]
  },
  {
   "cell_type": "code",
   "execution_count": 1,
   "id": "9901cabd-ed09-4ae3-b550-5be27c287c3c",
   "metadata": {},
   "outputs": [],
   "source": [
    "import operator_utils as ws\n",
    "import sympy as sy"
   ]
  },
  {
   "cell_type": "markdown",
   "id": "f6784c97-e3b3-4525-a509-245cfb3059bd",
   "metadata": {},
   "source": [
    "# 3D spherical coordinates"
   ]
  },
  {
   "cell_type": "code",
   "execution_count": 2,
   "id": "bc57c231-2e99-4e8f-b586-0bfa6740a37e",
   "metadata": {},
   "outputs": [],
   "source": [
    "aa = ws.Coords()\n",
    "dd = ws.Operators(aa.spherical)"
   ]
  },
  {
   "cell_type": "code",
   "execution_count": 3,
   "id": "e898b7ac-2185-45f1-80d0-5a2dd17bb079",
   "metadata": {},
   "outputs": [
    {
     "data": {
      "text/latex": [
       "$\\displaystyle r \\sin{\\left(\\theta \\right)} \\cos{\\left(\\phi \\right)}$"
      ],
      "text/plain": [
       "<IPython.core.display.Math object>"
      ]
     },
     "metadata": {},
     "output_type": "display_data"
    },
    {
     "data": {
      "text/latex": [
       "$\\displaystyle r \\sin{\\left(\\phi \\right)} \\sin{\\left(\\theta \\right)}$"
      ],
      "text/plain": [
       "<IPython.core.display.Math object>"
      ]
     },
     "metadata": {},
     "output_type": "display_data"
    },
    {
     "data": {
      "text/latex": [
       "$\\displaystyle r \\cos{\\left(\\theta \\right)}$"
      ],
      "text/plain": [
       "<IPython.core.display.Math object>"
      ]
     },
     "metadata": {},
     "output_type": "display_data"
    }
   ],
   "source": [
    "for k in dd.transform: ws.pp(k)"
   ]
  },
  {
   "cell_type": "code",
   "execution_count": 4,
   "id": "e8b2f04e-01e6-4f05-aa67-524b1f61c92c",
   "metadata": {},
   "outputs": [
    {
     "data": {
      "text/latex": [
       "$\\displaystyle \\left[\\begin{matrix}\\hat{\\mathbf{e_x}}\\\\\\hat{\\mathbf{e_y}}\\\\\\hat{\\mathbf{e_z}}\\end{matrix}\\right]$"
      ],
      "text/plain": [
       "Matrix([\n",
       "[\\hat{\\mathbf{e_x}}],\n",
       "[\\hat{\\mathbf{e_y}}],\n",
       "[\\hat{\\mathbf{e_z}}]])"
      ]
     },
     "execution_count": 4,
     "metadata": {},
     "output_type": "execute_result"
    }
   ],
   "source": [
    "dd.Z"
   ]
  },
  {
   "cell_type": "code",
   "execution_count": 5,
   "id": "4bcfeee2-1cad-4096-aea2-777baaeae6dc",
   "metadata": {},
   "outputs": [
    {
     "data": {
      "text/latex": [
       "$\\displaystyle \\left[\\begin{matrix}\\hat{\\mathbf{e_r}}\\\\\\hat{\\mathbf{e_\\theta}}\\\\\\hat{\\mathbf{e_\\phi}}\\end{matrix}\\right]$"
      ],
      "text/plain": [
       "Matrix([\n",
       "[     \\hat{\\mathbf{e_r}}],\n",
       "[\\hat{\\mathbf{e_\\theta}}],\n",
       "[  \\hat{\\mathbf{e_\\phi}}]])"
      ]
     },
     "execution_count": 5,
     "metadata": {},
     "output_type": "execute_result"
    }
   ],
   "source": [
    "dd.Zp"
   ]
  },
  {
   "cell_type": "code",
   "execution_count": 6,
   "id": "b02f6104-2f36-42a0-94bc-ca49e28a5d36",
   "metadata": {},
   "outputs": [
    {
     "data": {
      "text/latex": [
       "$\\displaystyle \\left[\\begin{matrix}\\sin{\\left(\\theta \\right)} \\cos{\\left(\\phi \\right)} & r \\cos{\\left(\\phi \\right)} \\cos{\\left(\\theta \\right)} & - r \\sin{\\left(\\phi \\right)} \\sin{\\left(\\theta \\right)}\\\\\\sin{\\left(\\phi \\right)} \\sin{\\left(\\theta \\right)} & r \\sin{\\left(\\phi \\right)} \\cos{\\left(\\theta \\right)} & r \\sin{\\left(\\theta \\right)} \\cos{\\left(\\phi \\right)}\\\\\\cos{\\left(\\theta \\right)} & - r \\sin{\\left(\\theta \\right)} & 0\\end{matrix}\\right]$"
      ],
      "text/plain": [
       "Matrix([\n",
       "[sin(theta)*cos(phi), r*cos(phi)*cos(theta), -r*sin(phi)*sin(theta)],\n",
       "[sin(phi)*sin(theta), r*sin(phi)*cos(theta),  r*sin(theta)*cos(phi)],\n",
       "[         cos(theta),         -r*sin(theta),                      0]])"
      ]
     },
     "execution_count": 6,
     "metadata": {},
     "output_type": "execute_result"
    }
   ],
   "source": [
    "dd.Jacobian"
   ]
  },
  {
   "cell_type": "code",
   "execution_count": 7,
   "id": "a3b741c3-2996-4a88-ad7c-1527c55671fd",
   "metadata": {},
   "outputs": [
    {
     "data": {
      "text/latex": [
       "$\\displaystyle \\left[\\begin{matrix}\\sin{\\left(\\theta \\right)} \\cos{\\left(\\phi \\right)} & \\sin{\\left(\\phi \\right)} \\sin{\\left(\\theta \\right)} & \\cos{\\left(\\theta \\right)}\\\\\\frac{\\cos{\\left(\\phi \\right)} \\cos{\\left(\\theta \\right)}}{r} & \\frac{\\sin{\\left(\\phi \\right)} \\cos{\\left(\\theta \\right)}}{r} & - \\frac{\\sin{\\left(\\theta \\right)}}{r}\\\\- \\frac{\\sin{\\left(\\phi \\right)}}{r \\sin{\\left(\\theta \\right)}} & \\frac{\\cos{\\left(\\phi \\right)}}{r \\sin{\\left(\\theta \\right)}} & 0\\end{matrix}\\right]$"
      ],
      "text/plain": [
       "<IPython.core.display.Math object>"
      ]
     },
     "metadata": {},
     "output_type": "display_data"
    }
   ],
   "source": [
    "ws.pp(dd.Jacobian_inv)"
   ]
  },
  {
   "cell_type": "code",
   "execution_count": 8,
   "id": "7e81418a-3d3f-4934-b3d9-2b122e2f1c45",
   "metadata": {},
   "outputs": [
    {
     "data": {
      "text/latex": [
       "$\\displaystyle \\left[\\begin{matrix}\\hat{\\mathbf{e_x}} \\sin{\\left(\\theta \\right)} \\cos{\\left(\\phi \\right)} + \\hat{\\mathbf{e_y}} \\sin{\\left(\\phi \\right)} \\sin{\\left(\\theta \\right)} + \\hat{\\mathbf{e_z}} \\cos{\\left(\\theta \\right)}\\\\\\hat{\\mathbf{e_x}} \\cos{\\left(\\phi \\right)} \\cos{\\left(\\theta \\right)} + \\hat{\\mathbf{e_y}} \\sin{\\left(\\phi \\right)} \\cos{\\left(\\theta \\right)} - \\hat{\\mathbf{e_z}} \\sin{\\left(\\theta \\right)}\\\\- \\hat{\\mathbf{e_x}} \\sin{\\left(\\phi \\right)} + \\hat{\\mathbf{e_y}} \\cos{\\left(\\phi \\right)}\\end{matrix}\\right]$"
      ],
      "text/plain": [
       "<IPython.core.display.Math object>"
      ]
     },
     "metadata": {},
     "output_type": "display_data"
    }
   ],
   "source": [
    "ws.pp(dd.primed_basis)"
   ]
  },
  {
   "cell_type": "code",
   "execution_count": 9,
   "id": "c704ef2f-fb80-413b-9706-49f0fd53e93a",
   "metadata": {},
   "outputs": [
    {
     "data": {
      "text/latex": [
       "$\\displaystyle \\left[\\begin{matrix}1 & 0 & 0\\\\0 & r^{2} & 0\\\\0 & 0 & r^{2} \\sin^{2}{\\left(\\theta \\right)}\\end{matrix}\\right]$"
      ],
      "text/plain": [
       "Matrix([\n",
       "[1,    0,                  0],\n",
       "[0, r**2,                  0],\n",
       "[0,    0, r**2*sin(theta)**2]])"
      ]
     },
     "execution_count": 9,
     "metadata": {},
     "output_type": "execute_result"
    }
   ],
   "source": [
    "dd.metric"
   ]
  },
  {
   "cell_type": "code",
   "execution_count": 10,
   "id": "6a900b08-ea2a-4d34-866a-3d2164e4d773",
   "metadata": {},
   "outputs": [
    {
     "data": {
      "text/latex": [
       "$\\displaystyle \\left[\\begin{matrix}1 & 0 & 0\\\\0 & r & 0\\\\0 & 0 & r \\sin{\\left(\\theta \\right)}\\end{matrix}\\right]$"
      ],
      "text/plain": [
       "Matrix([\n",
       "[1, 0,            0],\n",
       "[0, r,            0],\n",
       "[0, 0, r*sin(theta)]])"
      ]
     },
     "execution_count": 10,
     "metadata": {},
     "output_type": "execute_result"
    }
   ],
   "source": [
    "dd.metric_sqrt"
   ]
  },
  {
   "cell_type": "code",
   "execution_count": 11,
   "id": "b145b68a-850a-4c5f-a7bf-5264aa3dc624",
   "metadata": {},
   "outputs": [
    {
     "data": {
      "text/latex": [
       "$\\displaystyle \\left[\\begin{matrix}1 & 0 & 0\\\\0 & \\frac{1}{r} & 0\\\\0 & 0 & \\frac{1}{r \\sin{\\left(\\theta \\right)}}\\end{matrix}\\right]$"
      ],
      "text/plain": [
       "Matrix([\n",
       "[1,   0,                0],\n",
       "[0, 1/r,                0],\n",
       "[0,   0, 1/(r*sin(theta))]])"
      ]
     },
     "execution_count": 11,
     "metadata": {},
     "output_type": "execute_result"
    }
   ],
   "source": [
    "dd.metric_inv_sqrt"
   ]
  },
  {
   "cell_type": "code",
   "execution_count": 12,
   "id": "22d718cc-d108-421c-a3f4-7de7e76a4a80",
   "metadata": {},
   "outputs": [
    {
     "data": {
      "text/latex": [
       "$\\displaystyle r^{2} \\sin{\\left(\\theta \\right)}$"
      ],
      "text/plain": [
       "r**2*sin(theta)"
      ]
     },
     "execution_count": 12,
     "metadata": {},
     "output_type": "execute_result"
    }
   ],
   "source": [
    "dd.det_sqrt"
   ]
  },
  {
   "cell_type": "code",
   "execution_count": 13,
   "id": "9cecb96f-4cc8-4ef2-a023-09a7605ad4eb",
   "metadata": {},
   "outputs": [
    {
     "data": {
      "text/latex": [
       "$\\displaystyle \\left[\\begin{matrix}\\frac{\\partial}{\\partial r} f{\\left(r,\\theta,\\phi \\right)}\\\\\\frac{\\frac{\\partial}{\\partial \\theta} f{\\left(r,\\theta,\\phi \\right)}}{r}\\\\\\frac{\\frac{\\partial}{\\partial \\phi} f{\\left(r,\\theta,\\phi \\right)}}{r \\sin{\\left(\\theta \\right)}}\\end{matrix}\\right]$"
      ],
      "text/plain": [
       "Matrix([\n",
       "[                 Derivative(f(r, theta, phi), r)],\n",
       "[           Derivative(f(r, theta, phi), theta)/r],\n",
       "[Derivative(f(r, theta, phi), phi)/(r*sin(theta))]])"
      ]
     },
     "execution_count": 13,
     "metadata": {},
     "output_type": "execute_result"
    }
   ],
   "source": [
    "dd.gradient()"
   ]
  },
  {
   "cell_type": "code",
   "execution_count": 14,
   "id": "d45706ed-8a59-438b-a0ce-dc3725d28731",
   "metadata": {},
   "outputs": [
    {
     "data": {
      "text/latex": [
       "$\\displaystyle \\left[\\begin{matrix}\\frac{\\hat{\\mathbf{e_\\phi}} \\frac{\\partial}{\\partial \\phi} f{\\left(r,\\theta,\\phi \\right)}}{r \\sin{\\left(\\theta \\right)}} + \\frac{\\hat{\\mathbf{e_\\theta}} \\frac{\\partial}{\\partial \\theta} f{\\left(r,\\theta,\\phi \\right)}}{r} + \\hat{\\mathbf{e_r}} \\frac{\\partial}{\\partial r} f{\\left(r,\\theta,\\phi \\right)}\\end{matrix}\\right]$"
      ],
      "text/plain": [
       "Matrix([[\\hat{\\mathbf{e_\\phi}}*Derivative(f(r, theta, phi), phi)/(r*sin(theta)) + \\hat{\\mathbf{e_\\theta}}*Derivative(f(r, theta, phi), theta)/r + \\hat{\\mathbf{e_r}}*Derivative(f(r, theta, phi), r)]])"
      ]
     },
     "execution_count": 14,
     "metadata": {},
     "output_type": "execute_result"
    }
   ],
   "source": [
    "dd.gradient(vector=False)"
   ]
  },
  {
   "cell_type": "code",
   "execution_count": 15,
   "id": "d29cbbf8-32f3-4da6-8cf6-84234cbdf09e",
   "metadata": {},
   "outputs": [
    {
     "data": {
      "text/latex": [
       "$\\displaystyle \\frac{\\partial}{\\partial r} \\operatorname{A_{r}}{\\left(r,\\theta,\\phi \\right)} + \\frac{\\operatorname{A_{\\theta}}{\\left(r,\\theta,\\phi \\right)} \\cos{\\left(\\theta \\right)}}{r \\sin{\\left(\\theta \\right)}} + \\frac{2 \\operatorname{A_{r}}{\\left(r,\\theta,\\phi \\right)}}{r} + \\frac{\\frac{\\partial}{\\partial \\theta} \\operatorname{A_{\\theta}}{\\left(r,\\theta,\\phi \\right)}}{r} + \\frac{\\frac{\\partial}{\\partial \\phi} \\operatorname{A_{\\phi}}{\\left(r,\\theta,\\phi \\right)}}{r \\sin{\\left(\\theta \\right)}}$"
      ],
      "text/plain": [
       "Derivative(A_r(r, theta, phi), r) + A_\\theta(r, theta, phi)*cos(theta)/(r*sin(theta)) + 2*A_r(r, theta, phi)/r + Derivative(A_\\theta(r, theta, phi), theta)/r + Derivative(A_\\phi(r, theta, phi), phi)/(r*sin(theta))"
      ]
     },
     "execution_count": 15,
     "metadata": {},
     "output_type": "execute_result"
    }
   ],
   "source": [
    "dd.divergence()"
   ]
  },
  {
   "cell_type": "code",
   "execution_count": 16,
   "id": "e3a0675f-4dd2-4e8b-852e-da1a1a1dbbd6",
   "metadata": {},
   "outputs": [
    {
     "data": {
      "text/latex": [
       "$\\displaystyle \\left[\\begin{matrix}\\frac{\\operatorname{A_{\\phi}}{\\left(r,\\theta,\\phi \\right)} \\cos{\\left(\\theta \\right)}}{r \\sin{\\left(\\theta \\right)}} + \\frac{\\frac{\\partial}{\\partial \\theta} \\operatorname{A_{\\phi}}{\\left(r,\\theta,\\phi \\right)}}{r} - \\frac{\\frac{\\partial}{\\partial \\phi} \\operatorname{A_{\\theta}}{\\left(r,\\theta,\\phi \\right)}}{r \\sin{\\left(\\theta \\right)}}\\\\- \\frac{\\partial}{\\partial r} \\operatorname{A_{\\phi}}{\\left(r,\\theta,\\phi \\right)} - \\frac{\\operatorname{A_{\\phi}}{\\left(r,\\theta,\\phi \\right)}}{r} + \\frac{\\frac{\\partial}{\\partial \\phi} \\operatorname{A_{r}}{\\left(r,\\theta,\\phi \\right)}}{r \\sin{\\left(\\theta \\right)}}\\\\\\frac{\\partial}{\\partial r} \\operatorname{A_{\\theta}}{\\left(r,\\theta,\\phi \\right)} + \\frac{\\operatorname{A_{\\theta}}{\\left(r,\\theta,\\phi \\right)}}{r} - \\frac{\\frac{\\partial}{\\partial \\theta} \\operatorname{A_{r}}{\\left(r,\\theta,\\phi \\right)}}{r}\\end{matrix}\\right]$"
      ],
      "text/plain": [
       "Matrix([\n",
       "[A_\\phi(r, theta, phi)*cos(theta)/(r*sin(theta)) + Derivative(A_\\phi(r, theta, phi), theta)/r - Derivative(A_\\theta(r, theta, phi), phi)/(r*sin(theta))],\n",
       "[                                  -Derivative(A_\\phi(r, theta, phi), r) - A_\\phi(r, theta, phi)/r + Derivative(A_r(r, theta, phi), phi)/(r*sin(theta))],\n",
       "[                                          Derivative(A_\\theta(r, theta, phi), r) + A_\\theta(r, theta, phi)/r - Derivative(A_r(r, theta, phi), theta)/r]])"
      ]
     },
     "execution_count": 16,
     "metadata": {},
     "output_type": "execute_result"
    }
   ],
   "source": [
    "dd.curl()"
   ]
  },
  {
   "cell_type": "code",
   "execution_count": 17,
   "id": "6164896b-14eb-48cb-92eb-36f33fde1315",
   "metadata": {},
   "outputs": [
    {
     "data": {
      "text/latex": [
       "$\\displaystyle \\left[\\begin{matrix}\\hat{\\mathbf{e_\\phi}} \\left(\\frac{\\partial}{\\partial r} \\operatorname{A_{\\theta}}{\\left(r,\\theta,\\phi \\right)} + \\frac{\\operatorname{A_{\\theta}}{\\left(r,\\theta,\\phi \\right)}}{r} - \\frac{\\frac{\\partial}{\\partial \\theta} \\operatorname{A_{r}}{\\left(r,\\theta,\\phi \\right)}}{r}\\right) + \\hat{\\mathbf{e_\\theta}} \\left(- \\frac{\\partial}{\\partial r} \\operatorname{A_{\\phi}}{\\left(r,\\theta,\\phi \\right)} - \\frac{\\operatorname{A_{\\phi}}{\\left(r,\\theta,\\phi \\right)}}{r} + \\frac{\\frac{\\partial}{\\partial \\phi} \\operatorname{A_{r}}{\\left(r,\\theta,\\phi \\right)}}{r \\sin{\\left(\\theta \\right)}}\\right) + \\hat{\\mathbf{e_r}} \\left(\\frac{\\operatorname{A_{\\phi}}{\\left(r,\\theta,\\phi \\right)} \\cos{\\left(\\theta \\right)}}{r \\sin{\\left(\\theta \\right)}} + \\frac{\\frac{\\partial}{\\partial \\theta} \\operatorname{A_{\\phi}}{\\left(r,\\theta,\\phi \\right)}}{r} - \\frac{\\frac{\\partial}{\\partial \\phi} \\operatorname{A_{\\theta}}{\\left(r,\\theta,\\phi \\right)}}{r \\sin{\\left(\\theta \\right)}}\\right)\\end{matrix}\\right]$"
      ],
      "text/plain": [
       "Matrix([[\\hat{\\mathbf{e_\\phi}}*(Derivative(A_\\theta(r, theta, phi), r) + A_\\theta(r, theta, phi)/r - Derivative(A_r(r, theta, phi), theta)/r) + \\hat{\\mathbf{e_\\theta}}*(-Derivative(A_\\phi(r, theta, phi), r) - A_\\phi(r, theta, phi)/r + Derivative(A_r(r, theta, phi), phi)/(r*sin(theta))) + \\hat{\\mathbf{e_r}}*(A_\\phi(r, theta, phi)*cos(theta)/(r*sin(theta)) + Derivative(A_\\phi(r, theta, phi), theta)/r - Derivative(A_\\theta(r, theta, phi), phi)/(r*sin(theta)))]])"
      ]
     },
     "execution_count": 17,
     "metadata": {},
     "output_type": "execute_result"
    }
   ],
   "source": [
    "dd.curl(vector=False)"
   ]
  },
  {
   "cell_type": "code",
   "execution_count": 18,
   "id": "269eebaf-2bfa-43cb-90cd-22533b5a102d",
   "metadata": {},
   "outputs": [
    {
     "data": {
      "text/latex": [
       "$\\displaystyle \\frac{\\partial^{2}}{\\partial r^{2}} f{\\left(r,\\theta,\\phi \\right)} + \\frac{2 \\frac{\\partial}{\\partial r} f{\\left(r,\\theta,\\phi \\right)}}{r} + \\frac{\\frac{\\partial^{2}}{\\partial \\theta^{2}} f{\\left(r,\\theta,\\phi \\right)}}{r^{2}} + \\frac{\\frac{\\partial}{\\partial \\theta} f{\\left(r,\\theta,\\phi \\right)}}{r^{2} \\tan{\\left(\\theta \\right)}} + \\frac{\\frac{\\partial^{2}}{\\partial \\phi^{2}} f{\\left(r,\\theta,\\phi \\right)}}{r^{2} \\sin^{2}{\\left(\\theta \\right)}}$"
      ],
      "text/plain": [
       "Derivative(f(r, theta, phi), (r, 2)) + 2*Derivative(f(r, theta, phi), r)/r + Derivative(f(r, theta, phi), (theta, 2))/r**2 + Derivative(f(r, theta, phi), theta)/(r**2*tan(theta)) + Derivative(f(r, theta, phi), (phi, 2))/(r**2*sin(theta)**2)"
      ]
     },
     "execution_count": 18,
     "metadata": {},
     "output_type": "execute_result"
    }
   ],
   "source": [
    "dd.Laplacian_scalar()  # of a general function"
   ]
  },
  {
   "cell_type": "code",
   "execution_count": 19,
   "id": "2408144a-8e3d-4f86-939f-8ddd7b854b51",
   "metadata": {},
   "outputs": [],
   "source": [
    "r, theta, phi = dd.coords_p"
   ]
  },
  {
   "cell_type": "code",
   "execution_count": 20,
   "id": "d36038f8-b20f-4807-b520-23979f9d71ae",
   "metadata": {},
   "outputs": [],
   "source": [
    "# separable function\n",
    "f, g, h, F = sy.symbols('f g h F', cls=sy.Function)\n",
    "f = f(r)\n",
    "g = g(theta)\n",
    "h = h(phi)\n",
    "F = f * g * h"
   ]
  },
  {
   "cell_type": "code",
   "execution_count": 21,
   "id": "e623a199-ebcb-4fa2-9c32-5e1e7343eb82",
   "metadata": {},
   "outputs": [
    {
     "data": {
      "text/latex": [
       "$\\displaystyle \\left[\\begin{matrix}g{\\left(\\theta \\right)} h{\\left(\\phi \\right)} \\frac{d}{d r} f{\\left(r \\right)}\\\\\\frac{f{\\left(r \\right)} h{\\left(\\phi \\right)} \\frac{d}{d \\theta} g{\\left(\\theta \\right)}}{r}\\\\\\frac{f{\\left(r \\right)} g{\\left(\\theta \\right)} \\frac{d}{d \\phi} h{\\left(\\phi \\right)}}{r \\sin{\\left(\\theta \\right)}}\\end{matrix}\\right]$"
      ],
      "text/plain": [
       "Matrix([\n",
       "[                 g(theta)*h(phi)*Derivative(f(r), r)],\n",
       "[           f(r)*h(phi)*Derivative(g(theta), theta)/r],\n",
       "[f(r)*g(theta)*Derivative(h(phi), phi)/(r*sin(theta))]])"
      ]
     },
     "execution_count": 21,
     "metadata": {},
     "output_type": "execute_result"
    }
   ],
   "source": [
    "dd.gradient(F)"
   ]
  },
  {
   "cell_type": "code",
   "execution_count": 22,
   "id": "3488b3bc-da75-4b8c-b23a-2939fac22e72",
   "metadata": {},
   "outputs": [
    {
     "data": {
      "text/latex": [
       "$\\displaystyle g{\\left(\\theta \\right)} h{\\left(\\phi \\right)} \\frac{d^{2}}{d r^{2}} f{\\left(r \\right)} + \\frac{2 g{\\left(\\theta \\right)} h{\\left(\\phi \\right)} \\frac{d}{d r} f{\\left(r \\right)}}{r} + \\frac{f{\\left(r \\right)} g{\\left(\\theta \\right)} \\frac{d^{2}}{d \\phi^{2}} h{\\left(\\phi \\right)}}{r^{2} \\sin^{2}{\\left(\\theta \\right)}} + \\frac{f{\\left(r \\right)} h{\\left(\\phi \\right)} \\frac{d^{2}}{d \\theta^{2}} g{\\left(\\theta \\right)}}{r^{2}} + \\frac{f{\\left(r \\right)} h{\\left(\\phi \\right)} \\frac{d}{d \\theta} g{\\left(\\theta \\right)}}{r^{2} \\tan{\\left(\\theta \\right)}}$"
      ],
      "text/plain": [
       "g(theta)*h(phi)*Derivative(f(r), (r, 2)) + 2*g(theta)*h(phi)*Derivative(f(r), r)/r + f(r)*g(theta)*Derivative(h(phi), (phi, 2))/(r**2*sin(theta)**2) + f(r)*h(phi)*Derivative(g(theta), (theta, 2))/r**2 + f(r)*h(phi)*Derivative(g(theta), theta)/(r**2*tan(theta))"
      ]
     },
     "execution_count": 22,
     "metadata": {},
     "output_type": "execute_result"
    }
   ],
   "source": [
    "dd.Laplacian_scalar(F)"
   ]
  },
  {
   "cell_type": "code",
   "execution_count": 23,
   "id": "eaffe5fc-f7b7-423f-b3f4-c84319b6994f",
   "metadata": {},
   "outputs": [
    {
     "data": {
      "text/latex": [
       "$\\displaystyle \\frac{d^{2}}{d r^{2}} f{\\left(r \\right)} + \\frac{2 \\frac{d}{d r} f{\\left(r \\right)}}{r}$"
      ],
      "text/plain": [
       "Derivative(f(r), (r, 2)) + 2*Derivative(f(r), r)/r"
      ]
     },
     "execution_count": 23,
     "metadata": {},
     "output_type": "execute_result"
    }
   ],
   "source": [
    "# Laplacian of f(r) only\n",
    "dd.Laplacian_scalar(f)"
   ]
  },
  {
   "cell_type": "code",
   "execution_count": 24,
   "id": "d95123d4-913c-47bc-8109-7312d3b26d18",
   "metadata": {},
   "outputs": [
    {
     "data": {
      "text/latex": [
       "$\\displaystyle - \\frac{\\frac{d^{2}}{d r^{2}} f{\\left(r \\right)}}{f^{2}{\\left(r \\right)}} + \\frac{2 \\left(\\frac{d}{d r} f{\\left(r \\right)}\\right)^{2}}{f^{3}{\\left(r \\right)}} - \\frac{2 \\frac{d}{d r} f{\\left(r \\right)}}{r f^{2}{\\left(r \\right)}}$"
      ],
      "text/plain": [
       "-Derivative(f(r), (r, 2))/f(r)**2 + 2*Derivative(f(r), r)**2/f(r)**3 - 2*Derivative(f(r), r)/(r*f(r)**2)"
      ]
     },
     "execution_count": 24,
     "metadata": {},
     "output_type": "execute_result"
    }
   ],
   "source": [
    "dd.Laplacian_scalar(1/f)  # this works"
   ]
  },
  {
   "cell_type": "code",
   "execution_count": 25,
   "id": "ac1717d8-cdeb-489a-84e4-6a5fc6fb2a3b",
   "metadata": {},
   "outputs": [
    {
     "data": {
      "text/latex": [
       "$\\displaystyle \\frac{g{\\left(\\theta \\right)} \\frac{d^{2}}{d \\phi^{2}} h{\\left(\\phi \\right)}}{r^{2} \\sin^{2}{\\left(\\theta \\right)}} + \\frac{h{\\left(\\phi \\right)} \\frac{d^{2}}{d \\theta^{2}} g{\\left(\\theta \\right)}}{r^{2}} + \\frac{h{\\left(\\phi \\right)} \\cos{\\left(\\theta \\right)} \\frac{d}{d \\theta} g{\\left(\\theta \\right)}}{r^{2} \\sin{\\left(\\theta \\right)}}$"
      ],
      "text/plain": [
       "g(theta)*Derivative(h(phi), (phi, 2))/(r**2*sin(theta)**2) + h(phi)*Derivative(g(theta), (theta, 2))/r**2 + h(phi)*cos(theta)*Derivative(g(theta), theta)/(r**2*sin(theta))"
      ]
     },
     "execution_count": 25,
     "metadata": {},
     "output_type": "execute_result"
    }
   ],
   "source": [
    "dd.divergence(dd.gradient(g*h)) # also the Laplacian: note that products of functions work"
   ]
  },
  {
   "cell_type": "code",
   "execution_count": 26,
   "id": "c14f73c3-4e76-4553-b289-491fbd68bc3a",
   "metadata": {},
   "outputs": [
    {
     "data": {
      "text/latex": [
       "$\\displaystyle \\left[\\begin{matrix}- \\frac{2 \\frac{d^{2}}{d \\phi^{2}} h{\\left(\\phi \\right)}}{r^{3} \\sin^{2}{\\left(\\theta \\right)}}\\\\- \\frac{2 \\cos{\\left(\\theta \\right)} \\frac{d^{2}}{d \\phi^{2}} h{\\left(\\phi \\right)}}{r^{3} \\sin^{3}{\\left(\\theta \\right)}}\\\\\\frac{\\frac{d^{3}}{d \\phi^{3}} h{\\left(\\phi \\right)}}{r^{3} \\sin^{3}{\\left(\\theta \\right)}}\\end{matrix}\\right]$"
      ],
      "text/plain": [
       "Matrix([\n",
       "[           -2*Derivative(h(phi), (phi, 2))/(r**3*sin(theta)**2)],\n",
       "[-2*cos(theta)*Derivative(h(phi), (phi, 2))/(r**3*sin(theta)**3)],\n",
       "[              Derivative(h(phi), (phi, 3))/(r**3*sin(theta)**3)]])"
      ]
     },
     "execution_count": 26,
     "metadata": {},
     "output_type": "execute_result"
    }
   ],
   "source": [
    "dd.Laplacian_vector_full(dd.gradient(h))"
   ]
  },
  {
   "cell_type": "code",
   "execution_count": 27,
   "id": "db71774e-613f-4a6d-8530-8dae60b17b08",
   "metadata": {},
   "outputs": [],
   "source": [
    "vv = dd.Laplacian_vector_full()"
   ]
  },
  {
   "cell_type": "code",
   "execution_count": 28,
   "id": "878152af-515d-4304-890d-51d4e6ef843c",
   "metadata": {},
   "outputs": [
    {
     "data": {
      "text/latex": [
       "$\\displaystyle \\frac{\\partial^{2}}{\\partial r^{2}} \\operatorname{A_{r}}{\\left(r,\\theta,\\phi \\right)} + \\frac{2 \\frac{\\partial}{\\partial r} \\operatorname{A_{r}}{\\left(r,\\theta,\\phi \\right)}}{r} - \\frac{2 \\operatorname{A_{\\theta}}{\\left(r,\\theta,\\phi \\right)}}{r^{2} \\tan{\\left(\\theta \\right)}} - \\frac{2 \\operatorname{A_{r}}{\\left(r,\\theta,\\phi \\right)}}{r^{2}} - \\frac{2 \\frac{\\partial}{\\partial \\theta} \\operatorname{A_{\\theta}}{\\left(r,\\theta,\\phi \\right)}}{r^{2}} + \\frac{\\frac{\\partial^{2}}{\\partial \\theta^{2}} \\operatorname{A_{r}}{\\left(r,\\theta,\\phi \\right)}}{r^{2}} + \\frac{\\frac{\\partial}{\\partial \\theta} \\operatorname{A_{r}}{\\left(r,\\theta,\\phi \\right)}}{r^{2} \\tan{\\left(\\theta \\right)}} - \\frac{2 \\frac{\\partial}{\\partial \\phi} \\operatorname{A_{\\phi}}{\\left(r,\\theta,\\phi \\right)}}{r^{2} \\sin{\\left(\\theta \\right)}} + \\frac{\\frac{\\partial^{2}}{\\partial \\phi^{2}} \\operatorname{A_{r}}{\\left(r,\\theta,\\phi \\right)}}{r^{2} \\sin^{2}{\\left(\\theta \\right)}}$"
      ],
      "text/plain": [
       "Derivative(A_r(r, theta, phi), (r, 2)) + 2*Derivative(A_r(r, theta, phi), r)/r - 2*A_\\theta(r, theta, phi)/(r**2*tan(theta)) - 2*A_r(r, theta, phi)/r**2 - 2*Derivative(A_\\theta(r, theta, phi), theta)/r**2 + Derivative(A_r(r, theta, phi), (theta, 2))/r**2 + Derivative(A_r(r, theta, phi), theta)/(r**2*tan(theta)) - 2*Derivative(A_\\phi(r, theta, phi), phi)/(r**2*sin(theta)) + Derivative(A_r(r, theta, phi), (phi, 2))/(r**2*sin(theta)**2)"
      ]
     },
     "execution_count": 28,
     "metadata": {},
     "output_type": "execute_result"
    }
   ],
   "source": [
    "vv[0]"
   ]
  },
  {
   "cell_type": "code",
   "execution_count": 29,
   "id": "afecb06e-d04f-4ae9-b442-484caa900ee7",
   "metadata": {},
   "outputs": [],
   "source": [
    "# successfully validated against Arfken p.82\n",
    "vr = dd.Laplacian_vector_reduced()"
   ]
  },
  {
   "cell_type": "code",
   "execution_count": 30,
   "id": "131e08e0-b186-4124-b24b-38d26f9127f0",
   "metadata": {},
   "outputs": [
    {
     "data": {
      "text/latex": [
       "$\\displaystyle \\nabla^{2}{\\left(\\operatorname{A_{r}}{\\left(r,\\theta,\\phi \\right)} \\right)} - \\frac{2 \\operatorname{A_{\\theta}}{\\left(r,\\theta,\\phi \\right)}}{r^{2} \\tan{\\left(\\theta \\right)}} - \\frac{2 \\operatorname{A_{r}}{\\left(r,\\theta,\\phi \\right)}}{r^{2}} - \\frac{2 \\frac{\\partial}{\\partial \\theta} \\operatorname{A_{\\theta}}{\\left(r,\\theta,\\phi \\right)}}{r^{2}} - \\frac{2 \\frac{\\partial}{\\partial \\phi} \\operatorname{A_{\\phi}}{\\left(r,\\theta,\\phi \\right)}}{r^{2} \\sin{\\left(\\theta \\right)}}$"
      ],
      "text/plain": [
       "\\nabla^{2}(A_r(r, theta, phi)) - 2*A_\\theta(r, theta, phi)/(r**2*tan(theta)) - 2*A_r(r, theta, phi)/r**2 - 2*Derivative(A_\\theta(r, theta, phi), theta)/r**2 - 2*Derivative(A_\\phi(r, theta, phi), phi)/(r**2*sin(theta))"
      ]
     },
     "execution_count": 30,
     "metadata": {},
     "output_type": "execute_result"
    }
   ],
   "source": [
    "vr[0]"
   ]
  },
  {
   "cell_type": "code",
   "execution_count": 31,
   "id": "c7bc7bc3-024a-4b2b-a96a-16a220ee6f1b",
   "metadata": {},
   "outputs": [
    {
     "data": {
      "text/latex": [
       "$\\displaystyle \\nabla^{2}{\\left(\\operatorname{A_{\\theta}}{\\left(r,\\theta,\\phi \\right)} \\right)} - \\frac{\\operatorname{A_{\\theta}}{\\left(r,\\theta,\\phi \\right)}}{r^{2} \\sin^{2}{\\left(\\theta \\right)}} + \\frac{2 \\frac{\\partial}{\\partial \\theta} \\operatorname{A_{r}}{\\left(r,\\theta,\\phi \\right)}}{r^{2}} - \\frac{2 \\cos{\\left(\\theta \\right)} \\frac{\\partial}{\\partial \\phi} \\operatorname{A_{\\phi}}{\\left(r,\\theta,\\phi \\right)}}{r^{2} \\sin^{2}{\\left(\\theta \\right)}}$"
      ],
      "text/plain": [
       "\\nabla^{2}(A_\\theta(r, theta, phi)) - A_\\theta(r, theta, phi)/(r**2*sin(theta)**2) + 2*Derivative(A_r(r, theta, phi), theta)/r**2 - 2*cos(theta)*Derivative(A_\\phi(r, theta, phi), phi)/(r**2*sin(theta)**2)"
      ]
     },
     "execution_count": 31,
     "metadata": {},
     "output_type": "execute_result"
    }
   ],
   "source": [
    "vr[1]"
   ]
  },
  {
   "cell_type": "code",
   "execution_count": 32,
   "id": "86a2acca-6f63-48c0-bbe1-9e5fbe87ac7e",
   "metadata": {},
   "outputs": [
    {
     "data": {
      "text/latex": [
       "$\\displaystyle \\nabla^{2}{\\left(\\operatorname{A_{\\phi}}{\\left(r,\\theta,\\phi \\right)} \\right)} - \\frac{\\operatorname{A_{\\phi}}{\\left(r,\\theta,\\phi \\right)}}{r^{2} \\sin^{2}{\\left(\\theta \\right)}} + \\frac{2 \\frac{\\partial}{\\partial \\phi} \\operatorname{A_{r}}{\\left(r,\\theta,\\phi \\right)}}{r^{2} \\sin{\\left(\\theta \\right)}} + \\frac{2 \\cos{\\left(\\theta \\right)} \\frac{\\partial}{\\partial \\phi} \\operatorname{A_{\\theta}}{\\left(r,\\theta,\\phi \\right)}}{r^{2} \\sin^{2}{\\left(\\theta \\right)}}$"
      ],
      "text/plain": [
       "\\nabla^{2}(A_\\phi(r, theta, phi)) - A_\\phi(r, theta, phi)/(r**2*sin(theta)**2) + 2*Derivative(A_r(r, theta, phi), phi)/(r**2*sin(theta)) + 2*cos(theta)*Derivative(A_\\theta(r, theta, phi), phi)/(r**2*sin(theta)**2)"
      ]
     },
     "execution_count": 32,
     "metadata": {},
     "output_type": "execute_result"
    }
   ],
   "source": [
    "vr[2]"
   ]
  },
  {
   "cell_type": "code",
   "execution_count": 33,
   "id": "73d6774e-2d56-48c6-9b01-fb1e459f502e",
   "metadata": {},
   "outputs": [
    {
     "data": {
      "text/latex": [
       "$\\displaystyle \\left[\\begin{matrix}\\hat{\\mathbf{e_\\phi}} \\left(\\operatorname{A_{r}}{\\left(r,\\theta,\\phi \\right)} \\frac{\\partial}{\\partial r} \\operatorname{B_{\\phi}}{\\left(r,\\theta,\\phi \\right)} + \\frac{\\operatorname{A_{\\phi}}{\\left(r,\\theta,\\phi \\right)} \\operatorname{B_{\\theta}}{\\left(r,\\theta,\\phi \\right)} \\cos{\\left(\\theta \\right)}}{r \\sin{\\left(\\theta \\right)}} + \\frac{\\operatorname{A_{\\phi}}{\\left(r,\\theta,\\phi \\right)} \\operatorname{B_{r}}{\\left(r,\\theta,\\phi \\right)}}{r} + \\frac{\\operatorname{A_{\\phi}}{\\left(r,\\theta,\\phi \\right)} \\frac{\\partial}{\\partial \\phi} \\operatorname{B_{\\phi}}{\\left(r,\\theta,\\phi \\right)}}{r \\sin{\\left(\\theta \\right)}} + \\frac{\\operatorname{A_{\\theta}}{\\left(r,\\theta,\\phi \\right)} \\frac{\\partial}{\\partial \\theta} \\operatorname{B_{\\phi}}{\\left(r,\\theta,\\phi \\right)}}{r}\\right) + \\hat{\\mathbf{e_\\theta}} \\left(\\operatorname{A_{r}}{\\left(r,\\theta,\\phi \\right)} \\frac{\\partial}{\\partial r} \\operatorname{B_{\\theta}}{\\left(r,\\theta,\\phi \\right)} - \\frac{\\operatorname{A_{\\phi}}{\\left(r,\\theta,\\phi \\right)} \\operatorname{B_{\\phi}}{\\left(r,\\theta,\\phi \\right)} \\cos{\\left(\\theta \\right)}}{r \\sin{\\left(\\theta \\right)}} + \\frac{\\operatorname{A_{\\phi}}{\\left(r,\\theta,\\phi \\right)} \\frac{\\partial}{\\partial \\phi} \\operatorname{B_{\\theta}}{\\left(r,\\theta,\\phi \\right)}}{r \\sin{\\left(\\theta \\right)}} + \\frac{\\operatorname{A_{\\theta}}{\\left(r,\\theta,\\phi \\right)} \\operatorname{B_{r}}{\\left(r,\\theta,\\phi \\right)}}{r} + \\frac{\\operatorname{A_{\\theta}}{\\left(r,\\theta,\\phi \\right)} \\frac{\\partial}{\\partial \\theta} \\operatorname{B_{\\theta}}{\\left(r,\\theta,\\phi \\right)}}{r}\\right) + \\hat{\\mathbf{e_r}} \\left(\\operatorname{A_{r}}{\\left(r,\\theta,\\phi \\right)} \\frac{\\partial}{\\partial r} \\operatorname{B_{r}}{\\left(r,\\theta,\\phi \\right)} - \\frac{\\operatorname{A_{\\phi}}{\\left(r,\\theta,\\phi \\right)} \\operatorname{B_{\\phi}}{\\left(r,\\theta,\\phi \\right)}}{r} + \\frac{\\operatorname{A_{\\phi}}{\\left(r,\\theta,\\phi \\right)} \\frac{\\partial}{\\partial \\phi} \\operatorname{B_{r}}{\\left(r,\\theta,\\phi \\right)}}{r \\sin{\\left(\\theta \\right)}} - \\frac{\\operatorname{A_{\\theta}}{\\left(r,\\theta,\\phi \\right)} \\operatorname{B_{\\theta}}{\\left(r,\\theta,\\phi \\right)}}{r} + \\frac{\\operatorname{A_{\\theta}}{\\left(r,\\theta,\\phi \\right)} \\frac{\\partial}{\\partial \\theta} \\operatorname{B_{r}}{\\left(r,\\theta,\\phi \\right)}}{r}\\right)\\end{matrix}\\right]$"
      ],
      "text/plain": [
       "Matrix([[\\hat{\\mathbf{e_\\phi}}*(A_r(r, theta, phi)*Derivative(B_\\phi(r, theta, phi), r) + A_\\phi(r, theta, phi)*B_\\theta(r, theta, phi)*cos(theta)/(r*sin(theta)) + A_\\phi(r, theta, phi)*B_r(r, theta, phi)/r + A_\\phi(r, theta, phi)*Derivative(B_\\phi(r, theta, phi), phi)/(r*sin(theta)) + A_\\theta(r, theta, phi)*Derivative(B_\\phi(r, theta, phi), theta)/r) + \\hat{\\mathbf{e_\\theta}}*(A_r(r, theta, phi)*Derivative(B_\\theta(r, theta, phi), r) - A_\\phi(r, theta, phi)*B_\\phi(r, theta, phi)*cos(theta)/(r*sin(theta)) + A_\\phi(r, theta, phi)*Derivative(B_\\theta(r, theta, phi), phi)/(r*sin(theta)) + A_\\theta(r, theta, phi)*B_r(r, theta, phi)/r + A_\\theta(r, theta, phi)*Derivative(B_\\theta(r, theta, phi), theta)/r) + \\hat{\\mathbf{e_r}}*(A_r(r, theta, phi)*Derivative(B_r(r, theta, phi), r) - A_\\phi(r, theta, phi)*B_\\phi(r, theta, phi)/r + A_\\phi(r, theta, phi)*Derivative(B_r(r, theta, phi), phi)/(r*sin(theta)) - A_\\theta(r, theta, phi)*B_\\theta(r, theta, phi)/r + A_\\theta(r, theta, phi)*Derivative(B_r(r, theta, phi), theta)/r)]])"
      ]
     },
     "execution_count": 33,
     "metadata": {},
     "output_type": "execute_result"
    }
   ],
   "source": [
    "dd.material_derivative(vector=False)"
   ]
  },
  {
   "cell_type": "code",
   "execution_count": 34,
   "id": "b66e7725-83f5-439f-a5f6-b1a708209cb3",
   "metadata": {},
   "outputs": [
    {
     "data": {
      "text/latex": [
       "$\\displaystyle \\left[\\begin{matrix}\\frac{\\frac{\\partial^{2}}{\\partial \\theta\\partial r} \\operatorname{A_{\\theta}}{\\left(r,\\theta,\\phi \\right)}}{r} + \\frac{\\cos{\\left(\\theta \\right)} \\frac{\\partial}{\\partial r} \\operatorname{A_{\\theta}}{\\left(r,\\theta,\\phi \\right)}}{r \\sin{\\left(\\theta \\right)}} + \\frac{\\frac{\\partial^{2}}{\\partial r\\partial \\phi} \\operatorname{A_{\\phi}}{\\left(r,\\theta,\\phi \\right)}}{r \\sin{\\left(\\theta \\right)}} + \\frac{\\operatorname{A_{\\theta}}{\\left(r,\\theta,\\phi \\right)} \\cos{\\left(\\theta \\right)}}{r^{2} \\sin{\\left(\\theta \\right)}} + \\frac{\\frac{\\partial}{\\partial \\theta} \\operatorname{A_{\\theta}}{\\left(r,\\theta,\\phi \\right)}}{r^{2}} - \\frac{\\frac{\\partial^{2}}{\\partial \\theta^{2}} \\operatorname{A_{r}}{\\left(r,\\theta,\\phi \\right)}}{r^{2}} - \\frac{\\cos{\\left(\\theta \\right)} \\frac{\\partial}{\\partial \\theta} \\operatorname{A_{r}}{\\left(r,\\theta,\\phi \\right)}}{r^{2} \\sin{\\left(\\theta \\right)}} + \\frac{\\frac{\\partial}{\\partial \\phi} \\operatorname{A_{\\phi}}{\\left(r,\\theta,\\phi \\right)}}{r^{2} \\sin{\\left(\\theta \\right)}} - \\frac{\\frac{\\partial^{2}}{\\partial \\phi^{2}} \\operatorname{A_{r}}{\\left(r,\\theta,\\phi \\right)}}{r^{2} \\sin^{2}{\\left(\\theta \\right)}}\\\\- \\frac{\\partial^{2}}{\\partial r^{2}} \\operatorname{A_{\\theta}}{\\left(r,\\theta,\\phi \\right)} - \\frac{2 \\frac{\\partial}{\\partial r} \\operatorname{A_{\\theta}}{\\left(r,\\theta,\\phi \\right)}}{r} + \\frac{\\frac{\\partial^{2}}{\\partial \\theta\\partial r} \\operatorname{A_{r}}{\\left(r,\\theta,\\phi \\right)}}{r} + \\frac{\\frac{\\partial^{2}}{\\partial \\theta\\partial \\phi} \\operatorname{A_{\\phi}}{\\left(r,\\theta,\\phi \\right)}}{r^{2} \\sin{\\left(\\theta \\right)}} + \\frac{\\cos{\\left(\\theta \\right)} \\frac{\\partial}{\\partial \\phi} \\operatorname{A_{\\phi}}{\\left(r,\\theta,\\phi \\right)}}{r^{2} \\sin^{2}{\\left(\\theta \\right)}} - \\frac{\\frac{\\partial^{2}}{\\partial \\phi^{2}} \\operatorname{A_{\\theta}}{\\left(r,\\theta,\\phi \\right)}}{r^{2} \\sin^{2}{\\left(\\theta \\right)}}\\\\- \\frac{\\partial^{2}}{\\partial r^{2}} \\operatorname{A_{\\phi}}{\\left(r,\\theta,\\phi \\right)} - \\frac{2 \\frac{\\partial}{\\partial r} \\operatorname{A_{\\phi}}{\\left(r,\\theta,\\phi \\right)}}{r} + \\frac{\\frac{\\partial^{2}}{\\partial r\\partial \\phi} \\operatorname{A_{r}}{\\left(r,\\theta,\\phi \\right)}}{r \\sin{\\left(\\theta \\right)}} + \\frac{\\operatorname{A_{\\phi}}{\\left(r,\\theta,\\phi \\right)}}{r^{2}} + \\frac{\\operatorname{A_{\\phi}}{\\left(r,\\theta,\\phi \\right)} \\cos^{2}{\\left(\\theta \\right)}}{r^{2} \\sin^{2}{\\left(\\theta \\right)}} - \\frac{\\frac{\\partial^{2}}{\\partial \\theta^{2}} \\operatorname{A_{\\phi}}{\\left(r,\\theta,\\phi \\right)}}{r^{2}} - \\frac{\\cos{\\left(\\theta \\right)} \\frac{\\partial}{\\partial \\theta} \\operatorname{A_{\\phi}}{\\left(r,\\theta,\\phi \\right)}}{r^{2} \\sin{\\left(\\theta \\right)}} + \\frac{\\frac{\\partial^{2}}{\\partial \\theta\\partial \\phi} \\operatorname{A_{\\theta}}{\\left(r,\\theta,\\phi \\right)}}{r^{2} \\sin{\\left(\\theta \\right)}} - \\frac{\\cos{\\left(\\theta \\right)} \\frac{\\partial}{\\partial \\phi} \\operatorname{A_{\\theta}}{\\left(r,\\theta,\\phi \\right)}}{r^{2} \\sin^{2}{\\left(\\theta \\right)}}\\end{matrix}\\right]$"
      ],
      "text/plain": [
       "Matrix([\n",
       "[Derivative(A_\\theta(r, theta, phi), r, theta)/r + cos(theta)*Derivative(A_\\theta(r, theta, phi), r)/(r*sin(theta)) + Derivative(A_\\phi(r, theta, phi), phi, r)/(r*sin(theta)) + A_\\theta(r, theta, phi)*cos(theta)/(r**2*sin(theta)) + Derivative(A_\\theta(r, theta, phi), theta)/r**2 - Derivative(A_r(r, theta, phi), (theta, 2))/r**2 - cos(theta)*Derivative(A_r(r, theta, phi), theta)/(r**2*sin(theta)) + Derivative(A_\\phi(r, theta, phi), phi)/(r**2*sin(theta)) - Derivative(A_r(r, theta, phi), (phi, 2))/(r**2*sin(theta)**2)],\n",
       "[                                                                                                                                                                                  -Derivative(A_\\theta(r, theta, phi), (r, 2)) - 2*Derivative(A_\\theta(r, theta, phi), r)/r + Derivative(A_r(r, theta, phi), r, theta)/r + Derivative(A_\\phi(r, theta, phi), phi, theta)/(r**2*sin(theta)) + cos(theta)*Derivative(A_\\phi(r, theta, phi), phi)/(r**2*sin(theta)**2) - Derivative(A_\\theta(r, theta, phi), (phi, 2))/(r**2*sin(theta)**2)],\n",
       "[                       -Derivative(A_\\phi(r, theta, phi), (r, 2)) - 2*Derivative(A_\\phi(r, theta, phi), r)/r + Derivative(A_r(r, theta, phi), phi, r)/(r*sin(theta)) + A_\\phi(r, theta, phi)/r**2 + A_\\phi(r, theta, phi)*cos(theta)**2/(r**2*sin(theta)**2) - Derivative(A_\\phi(r, theta, phi), (theta, 2))/r**2 - cos(theta)*Derivative(A_\\phi(r, theta, phi), theta)/(r**2*sin(theta)) + Derivative(A_\\theta(r, theta, phi), phi, theta)/(r**2*sin(theta)) - cos(theta)*Derivative(A_\\theta(r, theta, phi), phi)/(r**2*sin(theta)**2)]])"
      ]
     },
     "execution_count": 34,
     "metadata": {},
     "output_type": "execute_result"
    }
   ],
   "source": [
    "dd.curl(dd.curl())"
   ]
  },
  {
   "cell_type": "code",
   "execution_count": 35,
   "id": "9b627b4d-1ca6-45ea-a469-a51bc4402156",
   "metadata": {},
   "outputs": [
    {
     "data": {
      "text/latex": [
       "$\\displaystyle \\left[\\begin{matrix}\\frac{\\partial^{2}}{\\partial r^{2}} \\operatorname{A_{r}}{\\left(r,\\theta,\\phi \\right)} + \\frac{2 \\frac{\\partial}{\\partial r} \\operatorname{A_{r}}{\\left(r,\\theta,\\phi \\right)}}{r} + \\frac{\\frac{\\partial^{2}}{\\partial \\theta\\partial r} \\operatorname{A_{\\theta}}{\\left(r,\\theta,\\phi \\right)}}{r} + \\frac{\\cos{\\left(\\theta \\right)} \\frac{\\partial}{\\partial r} \\operatorname{A_{\\theta}}{\\left(r,\\theta,\\phi \\right)}}{r \\sin{\\left(\\theta \\right)}} + \\frac{\\frac{\\partial^{2}}{\\partial r\\partial \\phi} \\operatorname{A_{\\phi}}{\\left(r,\\theta,\\phi \\right)}}{r \\sin{\\left(\\theta \\right)}} - \\frac{\\operatorname{A_{\\theta}}{\\left(r,\\theta,\\phi \\right)} \\cos{\\left(\\theta \\right)}}{r^{2} \\sin{\\left(\\theta \\right)}} - \\frac{2 \\operatorname{A_{r}}{\\left(r,\\theta,\\phi \\right)}}{r^{2}} - \\frac{\\frac{\\partial}{\\partial \\theta} \\operatorname{A_{\\theta}}{\\left(r,\\theta,\\phi \\right)}}{r^{2}} - \\frac{\\frac{\\partial}{\\partial \\phi} \\operatorname{A_{\\phi}}{\\left(r,\\theta,\\phi \\right)}}{r^{2} \\sin{\\left(\\theta \\right)}}\\\\\\frac{\\frac{\\partial^{2}}{\\partial \\theta\\partial r} \\operatorname{A_{r}}{\\left(r,\\theta,\\phi \\right)}}{r} - \\frac{\\operatorname{A_{\\theta}}{\\left(r,\\theta,\\phi \\right)}}{r^{2}} - \\frac{\\operatorname{A_{\\theta}}{\\left(r,\\theta,\\phi \\right)} \\cos^{2}{\\left(\\theta \\right)}}{r^{2} \\sin^{2}{\\left(\\theta \\right)}} + \\frac{\\frac{\\partial^{2}}{\\partial \\theta^{2}} \\operatorname{A_{\\theta}}{\\left(r,\\theta,\\phi \\right)}}{r^{2}} + \\frac{2 \\frac{\\partial}{\\partial \\theta} \\operatorname{A_{r}}{\\left(r,\\theta,\\phi \\right)}}{r^{2}} + \\frac{\\cos{\\left(\\theta \\right)} \\frac{\\partial}{\\partial \\theta} \\operatorname{A_{\\theta}}{\\left(r,\\theta,\\phi \\right)}}{r^{2} \\sin{\\left(\\theta \\right)}} + \\frac{\\frac{\\partial^{2}}{\\partial \\theta\\partial \\phi} \\operatorname{A_{\\phi}}{\\left(r,\\theta,\\phi \\right)}}{r^{2} \\sin{\\left(\\theta \\right)}} - \\frac{\\cos{\\left(\\theta \\right)} \\frac{\\partial}{\\partial \\phi} \\operatorname{A_{\\phi}}{\\left(r,\\theta,\\phi \\right)}}{r^{2} \\sin^{2}{\\left(\\theta \\right)}}\\\\\\frac{\\frac{\\partial^{2}}{\\partial r\\partial \\phi} \\operatorname{A_{r}}{\\left(r,\\theta,\\phi \\right)}}{r \\sin{\\left(\\theta \\right)}} + \\frac{2 \\frac{\\partial}{\\partial \\phi} \\operatorname{A_{r}}{\\left(r,\\theta,\\phi \\right)}}{r^{2} \\sin{\\left(\\theta \\right)}} + \\frac{\\frac{\\partial^{2}}{\\partial \\theta\\partial \\phi} \\operatorname{A_{\\theta}}{\\left(r,\\theta,\\phi \\right)}}{r^{2} \\sin{\\left(\\theta \\right)}} + \\frac{\\cos{\\left(\\theta \\right)} \\frac{\\partial}{\\partial \\phi} \\operatorname{A_{\\theta}}{\\left(r,\\theta,\\phi \\right)}}{r^{2} \\sin^{2}{\\left(\\theta \\right)}} + \\frac{\\frac{\\partial^{2}}{\\partial \\phi^{2}} \\operatorname{A_{\\phi}}{\\left(r,\\theta,\\phi \\right)}}{r^{2} \\sin^{2}{\\left(\\theta \\right)}}\\end{matrix}\\right]$"
      ],
      "text/plain": [
       "Matrix([\n",
       "[   Derivative(A_r(r, theta, phi), (r, 2)) + 2*Derivative(A_r(r, theta, phi), r)/r + Derivative(A_\\theta(r, theta, phi), r, theta)/r + cos(theta)*Derivative(A_\\theta(r, theta, phi), r)/(r*sin(theta)) + Derivative(A_\\phi(r, theta, phi), phi, r)/(r*sin(theta)) - A_\\theta(r, theta, phi)*cos(theta)/(r**2*sin(theta)) - 2*A_r(r, theta, phi)/r**2 - Derivative(A_\\theta(r, theta, phi), theta)/r**2 - Derivative(A_\\phi(r, theta, phi), phi)/(r**2*sin(theta))],\n",
       "[Derivative(A_r(r, theta, phi), r, theta)/r - A_\\theta(r, theta, phi)/r**2 - A_\\theta(r, theta, phi)*cos(theta)**2/(r**2*sin(theta)**2) + Derivative(A_\\theta(r, theta, phi), (theta, 2))/r**2 + 2*Derivative(A_r(r, theta, phi), theta)/r**2 + cos(theta)*Derivative(A_\\theta(r, theta, phi), theta)/(r**2*sin(theta)) + Derivative(A_\\phi(r, theta, phi), phi, theta)/(r**2*sin(theta)) - cos(theta)*Derivative(A_\\phi(r, theta, phi), phi)/(r**2*sin(theta)**2)],\n",
       "[                                                                                                                                Derivative(A_r(r, theta, phi), phi, r)/(r*sin(theta)) + 2*Derivative(A_r(r, theta, phi), phi)/(r**2*sin(theta)) + Derivative(A_\\theta(r, theta, phi), phi, theta)/(r**2*sin(theta)) + cos(theta)*Derivative(A_\\theta(r, theta, phi), phi)/(r**2*sin(theta)**2) + Derivative(A_\\phi(r, theta, phi), (phi, 2))/(r**2*sin(theta)**2)]])"
      ]
     },
     "execution_count": 35,
     "metadata": {},
     "output_type": "execute_result"
    }
   ],
   "source": [
    "dd.gradient(dd.divergence())"
   ]
  },
  {
   "cell_type": "code",
   "execution_count": 36,
   "id": "ca69d3bc-1bf5-43b3-8b86-43f6f3043324",
   "metadata": {},
   "outputs": [],
   "source": [
    "def Arfken_example_2_4_2(ops):\n",
    "    # ops is an Operators object defined with standard spherical coords r, theta, phi\n",
    "    # this was successfully validated against Arfken result p. 83 6/18/22\n",
    "    r, theta, phi = ops.coords_p\n",
    "    Aphi = sy.symbols('A_phi', cls=sy.Function, real=True)\n",
    "    Aphi = Aphi(r, theta)\n",
    "    A    = sy.Matrix([0, 0, Aphi])\n",
    "    v1   = ops.curl(ops.curl(A))\n",
    "    tmp  = []\n",
    "    for j, k in zip(v1, A):\n",
    "        tmp.append(j + ops.Laplacian_scalar(k) - ops.Laplacian_symbolic(k))\n",
    "    reduced = sy.trigsimp(ops.Zp.T * sy.Matrix(tmp))\n",
    "    full    = sy.trigsimp(ops.Zp.T * v1)\n",
    "    return full, reduced"
   ]
  },
  {
   "cell_type": "code",
   "execution_count": 37,
   "id": "ec18cc4f-ec55-4e63-a563-a03f4006a57c",
   "metadata": {},
   "outputs": [
    {
     "data": {
      "text/latex": [
       "$\\displaystyle \\left[\\begin{matrix}\\hat{\\mathbf{e_\\phi}} \\left(- \\frac{\\partial^{2}}{\\partial r^{2}} \\operatorname{A_{\\phi}}{\\left(r,\\theta \\right)} - \\frac{2 \\frac{\\partial}{\\partial r} \\operatorname{A_{\\phi}}{\\left(r,\\theta \\right)}}{r} + \\frac{\\operatorname{A_{\\phi}}{\\left(r,\\theta \\right)}}{r^{2} \\sin^{2}{\\left(\\theta \\right)}} - \\frac{\\frac{\\partial^{2}}{\\partial \\theta^{2}} \\operatorname{A_{\\phi}}{\\left(r,\\theta \\right)}}{r^{2}} - \\frac{\\frac{\\partial}{\\partial \\theta} \\operatorname{A_{\\phi}}{\\left(r,\\theta \\right)}}{r^{2} \\tan{\\left(\\theta \\right)}}\\right)\\end{matrix}\\right]$"
      ],
      "text/plain": [
       "Matrix([[\\hat{\\mathbf{e_\\phi}}*(-Derivative(A_phi(r, theta), (r, 2)) - 2*Derivative(A_phi(r, theta), r)/r + A_phi(r, theta)/(r**2*sin(theta)**2) - Derivative(A_phi(r, theta), (theta, 2))/r**2 - Derivative(A_phi(r, theta), theta)/(r**2*tan(theta)))]])"
      ]
     },
     "execution_count": 37,
     "metadata": {},
     "output_type": "execute_result"
    }
   ],
   "source": [
    "full, reduced = Arfken_example_2_4_2(dd)\n",
    "full"
   ]
  },
  {
   "cell_type": "code",
   "execution_count": 38,
   "id": "f89385f2-fcac-4f57-b2a2-af9156375936",
   "metadata": {},
   "outputs": [
    {
     "data": {
      "text/latex": [
       "$\\displaystyle \\left[\\begin{matrix}\\hat{\\mathbf{e_\\phi}} \\left(- \\nabla^{2}{\\left(\\operatorname{A_{\\phi}}{\\left(r,\\theta \\right)} \\right)} + \\frac{\\operatorname{A_{\\phi}}{\\left(r,\\theta \\right)}}{r^{2} \\sin^{2}{\\left(\\theta \\right)}}\\right)\\end{matrix}\\right]$"
      ],
      "text/plain": [
       "Matrix([[\\hat{\\mathbf{e_\\phi}}*(-\\nabla^{2}(A_phi(r, theta)) + A_phi(r, theta)/(r**2*sin(theta)**2))]])"
      ]
     },
     "execution_count": 38,
     "metadata": {},
     "output_type": "execute_result"
    }
   ],
   "source": [
    "reduced"
   ]
  },
  {
   "cell_type": "markdown",
   "id": "d1a5c432-78cc-45c7-b36e-b6220a9811ab",
   "metadata": {},
   "source": [
    "# Basic checks"
   ]
  },
  {
   "cell_type": "code",
   "execution_count": 39,
   "id": "6ddad1db-b961-47f8-8668-3cff85c560d7",
   "metadata": {},
   "outputs": [
    {
     "data": {
      "text/latex": [
       "$\\displaystyle 0$"
      ],
      "text/plain": [
       "0"
      ]
     },
     "execution_count": 39,
     "metadata": {},
     "output_type": "execute_result"
    }
   ],
   "source": [
    "dd.Laplacian_scalar(1/r)  # should be 0"
   ]
  },
  {
   "cell_type": "code",
   "execution_count": 40,
   "id": "0f7a45af-c290-41ee-86f4-0931c00953d2",
   "metadata": {},
   "outputs": [
    {
     "data": {
      "text/latex": [
       "$\\displaystyle \\left[\\begin{matrix}- \\frac{\\hat{\\mathbf{e_r}}}{r^{2}}\\end{matrix}\\right]$"
      ],
      "text/plain": [
       "Matrix([[-\\hat{\\mathbf{e_r}}/r**2]])"
      ]
     },
     "execution_count": 40,
     "metadata": {},
     "output_type": "execute_result"
    }
   ],
   "source": [
    "dd.gradient(1/r, vector=False)  # should be -1/r**2 in the r_hat direction"
   ]
  },
  {
   "cell_type": "code",
   "execution_count": 63,
   "id": "f253e57f-6410-4314-91d5-e9848c6097c2",
   "metadata": {},
   "outputs": [],
   "source": [
    "xx = dd.curl(dd.gradient())  # should be 0 vector"
   ]
  },
  {
   "cell_type": "code",
   "execution_count": 64,
   "id": "8a3b9988-bdae-4560-962a-f179016987ac",
   "metadata": {},
   "outputs": [
    {
     "data": {
      "text/latex": [
       "$\\displaystyle \\left[\\begin{matrix}0\\\\0\\\\0\\end{matrix}\\right]$"
      ],
      "text/plain": [
       "Matrix([\n",
       "[0],\n",
       "[0],\n",
       "[0]])"
      ]
     },
     "execution_count": 64,
     "metadata": {},
     "output_type": "execute_result"
    }
   ],
   "source": [
    "xx"
   ]
  },
  {
   "cell_type": "code",
   "execution_count": 65,
   "id": "d7a57182-ed17-4de7-8166-5f29a51db27f",
   "metadata": {},
   "outputs": [
    {
     "data": {
      "text/plain": [
       "True"
      ]
     },
     "execution_count": 65,
     "metadata": {},
     "output_type": "execute_result"
    }
   ],
   "source": [
    "#(xx.T * xx).args[2][0]\n",
    "xx._eval_is_zero_matrix()"
   ]
  },
  {
   "cell_type": "code",
   "execution_count": 66,
   "id": "f611c4ef-2f94-4d10-8531-2a06dcc24134",
   "metadata": {
    "tags": []
   },
   "outputs": [
    {
     "data": {
      "text/latex": [
       "$\\displaystyle 0$"
      ],
      "text/plain": [
       "0"
      ]
     },
     "execution_count": 66,
     "metadata": {},
     "output_type": "execute_result"
    }
   ],
   "source": [
    "dd.divergence(dd.curl())  # should be 0"
   ]
  },
  {
   "cell_type": "code",
   "execution_count": null,
   "id": "ded67157-85e9-449d-8665-923f05b3f36b",
   "metadata": {},
   "outputs": [],
   "source": []
  }
 ],
 "metadata": {
  "kernelspec": {
   "display_name": "Python 3 (ipykernel)",
   "language": "python",
   "name": "python3"
  },
  "language_info": {
   "codemirror_mode": {
    "name": "ipython",
    "version": 3
   },
   "file_extension": ".py",
   "mimetype": "text/x-python",
   "name": "python",
   "nbconvert_exporter": "python",
   "pygments_lexer": "ipython3",
   "version": "3.10.4"
  }
 },
 "nbformat": 4,
 "nbformat_minor": 5
}
