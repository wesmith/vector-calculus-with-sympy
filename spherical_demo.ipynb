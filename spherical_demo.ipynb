{
 "cells": [
  {
   "cell_type": "markdown",
   "id": "58db5a3f-ec97-4b64-bf6f-fbba0e568f64",
   "metadata": {},
   "source": [
    "# operator_examples.ipynb\n",
    "# WESmith 06/29/22"
   ]
  },
  {
   "cell_type": "code",
   "execution_count": 1,
   "id": "9901cabd-ed09-4ae3-b550-5be27c287c3c",
   "metadata": {},
   "outputs": [],
   "source": [
    "import operator_utils as ws\n",
    "import sympy as sy\n",
    "import numpy as np\n",
    "import matplotlib.pyplot as plt\n",
    "from   sympy import sin, cos, latex\n",
    "from   IPython.display import display, Math"
   ]
  },
  {
   "cell_type": "code",
   "execution_count": 2,
   "id": "ca69d3bc-1bf5-43b3-8b86-43f6f3043324",
   "metadata": {},
   "outputs": [],
   "source": [
    "def Arfken_example_2_4_2(ops):\n",
    "    # ops is an Operators object defined with standard spherical coords r, theta, phi\n",
    "    # this was successfully validated against Arfken result p. 83 6/18/22\n",
    "    r, theta, phi = ops.coords_p\n",
    "    Aphi = sy.symbols('A_phi', cls=sy.Function, real=True)\n",
    "    Aphi = Aphi(r, theta)\n",
    "    A    = sy.Matrix([0, 0, Aphi])\n",
    "    v1   = ops.curl(ops.curl(A))\n",
    "    tmp  = []\n",
    "    for j, k in zip(v1, A):\n",
    "        tmp.append(j + ops.Laplacian_scalar(k) - ops.Laplacian_symbolic(k))\n",
    "    reduced = sy.trigsimp(ops.Zp.T * sy.Matrix(tmp))\n",
    "    full    = sy.trigsimp(ops.Zp.T * v1)\n",
    "    return full, reduced"
   ]
  },
  {
   "cell_type": "markdown",
   "id": "f6784c97-e3b3-4525-a509-245cfb3059bd",
   "metadata": {},
   "source": [
    "# 3D spherical coordinates"
   ]
  },
  {
   "cell_type": "code",
   "execution_count": 3,
   "id": "b85b96c2-053c-4ad9-8e2e-a3cff9e90df5",
   "metadata": {},
   "outputs": [],
   "source": [
    "# specifying positive and real variables helps in simplification of square-root expressions\n",
    "x, y, z          = sy.symbols('x y z', real=True)\n",
    "r, theta, phi    = sy.symbols('r theta, phi', positive=True, real=True)\n",
    "orig_coords      = (x, y, z)\n",
    "primed_coords    = (r, theta, phi)\n",
    "orig_from_primed = (r * sin(theta) * cos(phi), \n",
    "                    r * sin(theta) * sin(phi), \n",
    "                    r * cos(theta))"
   ]
  },
  {
   "cell_type": "code",
   "execution_count": 4,
   "id": "2adeda65-c62f-4d9e-a010-5834f2d2ecba",
   "metadata": {},
   "outputs": [],
   "source": [
    "dd = ws.Operators(orig_coords, primed_coords, orig_from_primed)"
   ]
  },
  {
   "cell_type": "code",
   "execution_count": 5,
   "id": "ec18cc4f-ec55-4e63-a563-a03f4006a57c",
   "metadata": {},
   "outputs": [
    {
     "data": {
      "text/latex": [
       "$\\displaystyle \\left[\\begin{matrix}\\hat{\\mathbf{e_\\phi}} \\left(- \\frac{\\partial^{2}}{\\partial r^{2}} \\operatorname{A_{\\phi}}{\\left(r,\\theta \\right)} - \\frac{2 \\frac{\\partial}{\\partial r} \\operatorname{A_{\\phi}}{\\left(r,\\theta \\right)}}{r} + \\frac{\\operatorname{A_{\\phi}}{\\left(r,\\theta \\right)}}{r^{2} \\sin^{2}{\\left(\\theta \\right)}} - \\frac{\\frac{\\partial^{2}}{\\partial \\theta^{2}} \\operatorname{A_{\\phi}}{\\left(r,\\theta \\right)}}{r^{2}} - \\frac{\\frac{\\partial}{\\partial \\theta} \\operatorname{A_{\\phi}}{\\left(r,\\theta \\right)}}{r^{2} \\tan{\\left(\\theta \\right)}}\\right)\\end{matrix}\\right]$"
      ],
      "text/plain": [
       "Matrix([[\\hat{\\mathbf{e_\\phi}}*(-Derivative(A_phi(r, theta), (r, 2)) - 2*Derivative(A_phi(r, theta), r)/r + A_phi(r, theta)/(r**2*sin(theta)**2) - Derivative(A_phi(r, theta), (theta, 2))/r**2 - Derivative(A_phi(r, theta), theta)/(r**2*tan(theta)))]])"
      ]
     },
     "execution_count": 5,
     "metadata": {},
     "output_type": "execute_result"
    }
   ],
   "source": [
    "full, reduced = Arfken_example_2_4_2(dd)\n",
    "full"
   ]
  },
  {
   "cell_type": "code",
   "execution_count": 6,
   "id": "4dcc5a97-1b91-4bee-ba6b-c46f02387004",
   "metadata": {},
   "outputs": [
    {
     "data": {
      "text/latex": [
       "$\\displaystyle \\left[\\begin{matrix}\\hat{\\mathbf{e_\\phi}} \\left(- \\nabla^{2}{\\left(\\operatorname{A_{\\phi}}{\\left(r,\\theta \\right)} \\right)} + \\frac{\\operatorname{A_{\\phi}}{\\left(r,\\theta \\right)}}{r^{2} \\sin^{2}{\\left(\\theta \\right)}}\\right)\\end{matrix}\\right]$"
      ],
      "text/plain": [
       "Matrix([[\\hat{\\mathbf{e_\\phi}}*(-\\nabla^{2}(A_phi(r, theta)) + A_phi(r, theta)/(r**2*sin(theta)**2))]])"
      ]
     },
     "execution_count": 6,
     "metadata": {},
     "output_type": "execute_result"
    }
   ],
   "source": [
    "reduced"
   ]
  },
  {
   "cell_type": "code",
   "execution_count": 7,
   "id": "c704ef2f-fb80-413b-9706-49f0fd53e93a",
   "metadata": {},
   "outputs": [
    {
     "data": {
      "text/latex": [
       "$\\displaystyle \\left[\\begin{matrix}1 & 0 & 0\\\\0 & r^{2} & 0\\\\0 & 0 & r^{2} \\sin^{2}{\\left(\\theta \\right)}\\end{matrix}\\right]$"
      ],
      "text/plain": [
       "Matrix([\n",
       "[1,    0,                  0],\n",
       "[0, r**2,                  0],\n",
       "[0,    0, r**2*sin(theta)**2]])"
      ]
     },
     "execution_count": 7,
     "metadata": {},
     "output_type": "execute_result"
    }
   ],
   "source": [
    "dd.metric"
   ]
  },
  {
   "cell_type": "code",
   "execution_count": 8,
   "id": "6a900b08-ea2a-4d34-866a-3d2164e4d773",
   "metadata": {},
   "outputs": [
    {
     "data": {
      "text/latex": [
       "$\\displaystyle \\left[\\begin{matrix}1 & 0 & 0\\\\0 & r & 0\\\\0 & 0 & r \\sin{\\left(\\theta \\right)}\\end{matrix}\\right]$"
      ],
      "text/plain": [
       "Matrix([\n",
       "[1, 0,            0],\n",
       "[0, r,            0],\n",
       "[0, 0, r*sin(theta)]])"
      ]
     },
     "execution_count": 8,
     "metadata": {},
     "output_type": "execute_result"
    }
   ],
   "source": [
    "dd.metric_sqrt"
   ]
  },
  {
   "cell_type": "code",
   "execution_count": 9,
   "id": "5e1c8067-560a-4379-8ac4-1cad90446536",
   "metadata": {},
   "outputs": [
    {
     "data": {
      "text/plain": [
       "(Matrix([\n",
       " [1,   0,                0],\n",
       " [0, 1/r,                0],\n",
       " [0,   0, 1/(r*sin(theta))]]),\n",
       " r**4*sin(theta)**2,\n",
       " r**2*sin(theta))"
      ]
     },
     "execution_count": 9,
     "metadata": {},
     "output_type": "execute_result"
    }
   ],
   "source": [
    "dd.metric_inv_sqrt, dd.det, dd.det_sqrt"
   ]
  },
  {
   "cell_type": "code",
   "execution_count": 10,
   "id": "9cecb96f-4cc8-4ef2-a023-09a7605ad4eb",
   "metadata": {},
   "outputs": [
    {
     "data": {
      "text/latex": [
       "$\\displaystyle \\left[\\begin{matrix}\\frac{\\partial}{\\partial r} F{\\left(r,\\theta,\\phi \\right)}\\\\\\frac{\\frac{\\partial}{\\partial \\theta} F{\\left(r,\\theta,\\phi \\right)}}{r}\\\\\\frac{\\frac{\\partial}{\\partial \\phi} F{\\left(r,\\theta,\\phi \\right)}}{r \\sin{\\left(\\theta \\right)}}\\end{matrix}\\right]$"
      ],
      "text/plain": [
       "Matrix([\n",
       "[                 Derivative(F(r, theta, phi), r)],\n",
       "[           Derivative(F(r, theta, phi), theta)/r],\n",
       "[Derivative(F(r, theta, phi), phi)/(r*sin(theta))]])"
      ]
     },
     "execution_count": 10,
     "metadata": {},
     "output_type": "execute_result"
    }
   ],
   "source": [
    "dd.gradient()"
   ]
  },
  {
   "cell_type": "code",
   "execution_count": 11,
   "id": "d29cbbf8-32f3-4da6-8cf6-84234cbdf09e",
   "metadata": {},
   "outputs": [
    {
     "data": {
      "text/latex": [
       "$\\displaystyle \\frac{\\partial}{\\partial r} \\operatorname{V_{r}}{\\left(r,\\theta,\\phi \\right)} + \\frac{\\operatorname{V_{\\theta}}{\\left(r,\\theta,\\phi \\right)} \\cos{\\left(\\theta \\right)}}{r \\sin{\\left(\\theta \\right)}} + \\frac{2 \\operatorname{V_{r}}{\\left(r,\\theta,\\phi \\right)}}{r} + \\frac{\\frac{\\partial}{\\partial \\theta} \\operatorname{V_{\\theta}}{\\left(r,\\theta,\\phi \\right)}}{r} + \\frac{\\frac{\\partial}{\\partial \\phi} \\operatorname{V_{\\phi}}{\\left(r,\\theta,\\phi \\right)}}{r \\sin{\\left(\\theta \\right)}}$"
      ],
      "text/plain": [
       "Derivative(V_r(r, theta, phi), r) + V_\\theta(r, theta, phi)*cos(theta)/(r*sin(theta)) + 2*V_r(r, theta, phi)/r + Derivative(V_\\theta(r, theta, phi), theta)/r + Derivative(V_\\phi(r, theta, phi), phi)/(r*sin(theta))"
      ]
     },
     "execution_count": 11,
     "metadata": {},
     "output_type": "execute_result"
    }
   ],
   "source": [
    "dd.divergence()"
   ]
  },
  {
   "cell_type": "code",
   "execution_count": 12,
   "id": "e3a0675f-4dd2-4e8b-852e-da1a1a1dbbd6",
   "metadata": {},
   "outputs": [
    {
     "data": {
      "text/latex": [
       "$\\displaystyle \\left[\\begin{matrix}\\frac{\\operatorname{V_{\\phi}}{\\left(r,\\theta,\\phi \\right)} \\cos{\\left(\\theta \\right)}}{r \\sin{\\left(\\theta \\right)}} + \\frac{\\frac{\\partial}{\\partial \\theta} \\operatorname{V_{\\phi}}{\\left(r,\\theta,\\phi \\right)}}{r} - \\frac{\\frac{\\partial}{\\partial \\phi} \\operatorname{V_{\\theta}}{\\left(r,\\theta,\\phi \\right)}}{r \\sin{\\left(\\theta \\right)}}\\\\- \\frac{\\partial}{\\partial r} \\operatorname{V_{\\phi}}{\\left(r,\\theta,\\phi \\right)} - \\frac{\\operatorname{V_{\\phi}}{\\left(r,\\theta,\\phi \\right)}}{r} + \\frac{\\frac{\\partial}{\\partial \\phi} \\operatorname{V_{r}}{\\left(r,\\theta,\\phi \\right)}}{r \\sin{\\left(\\theta \\right)}}\\\\\\frac{\\partial}{\\partial r} \\operatorname{V_{\\theta}}{\\left(r,\\theta,\\phi \\right)} + \\frac{\\operatorname{V_{\\theta}}{\\left(r,\\theta,\\phi \\right)}}{r} - \\frac{\\frac{\\partial}{\\partial \\theta} \\operatorname{V_{r}}{\\left(r,\\theta,\\phi \\right)}}{r}\\end{matrix}\\right]$"
      ],
      "text/plain": [
       "Matrix([\n",
       "[V_\\phi(r, theta, phi)*cos(theta)/(r*sin(theta)) + Derivative(V_\\phi(r, theta, phi), theta)/r - Derivative(V_\\theta(r, theta, phi), phi)/(r*sin(theta))],\n",
       "[                                  -Derivative(V_\\phi(r, theta, phi), r) - V_\\phi(r, theta, phi)/r + Derivative(V_r(r, theta, phi), phi)/(r*sin(theta))],\n",
       "[                                          Derivative(V_\\theta(r, theta, phi), r) + V_\\theta(r, theta, phi)/r - Derivative(V_r(r, theta, phi), theta)/r]])"
      ]
     },
     "execution_count": 12,
     "metadata": {},
     "output_type": "execute_result"
    }
   ],
   "source": [
    "dd.curl()"
   ]
  },
  {
   "cell_type": "code",
   "execution_count": 13,
   "id": "6164896b-14eb-48cb-92eb-36f33fde1315",
   "metadata": {},
   "outputs": [
    {
     "data": {
      "text/latex": [
       "$\\displaystyle \\left[\\begin{matrix}\\hat{\\mathbf{e_\\phi}} \\left(\\frac{\\partial}{\\partial r} \\operatorname{V_{\\theta}}{\\left(r,\\theta,\\phi \\right)} + \\frac{\\operatorname{V_{\\theta}}{\\left(r,\\theta,\\phi \\right)}}{r} - \\frac{\\frac{\\partial}{\\partial \\theta} \\operatorname{V_{r}}{\\left(r,\\theta,\\phi \\right)}}{r}\\right) + \\hat{\\mathbf{e_\\theta}} \\left(- \\frac{\\partial}{\\partial r} \\operatorname{V_{\\phi}}{\\left(r,\\theta,\\phi \\right)} - \\frac{\\operatorname{V_{\\phi}}{\\left(r,\\theta,\\phi \\right)}}{r} + \\frac{\\frac{\\partial}{\\partial \\phi} \\operatorname{V_{r}}{\\left(r,\\theta,\\phi \\right)}}{r \\sin{\\left(\\theta \\right)}}\\right) + \\hat{\\mathbf{e_r}} \\left(\\frac{\\operatorname{V_{\\phi}}{\\left(r,\\theta,\\phi \\right)} \\cos{\\left(\\theta \\right)}}{r \\sin{\\left(\\theta \\right)}} + \\frac{\\frac{\\partial}{\\partial \\theta} \\operatorname{V_{\\phi}}{\\left(r,\\theta,\\phi \\right)}}{r} - \\frac{\\frac{\\partial}{\\partial \\phi} \\operatorname{V_{\\theta}}{\\left(r,\\theta,\\phi \\right)}}{r \\sin{\\left(\\theta \\right)}}\\right)\\end{matrix}\\right]$"
      ],
      "text/plain": [
       "Matrix([[\\hat{\\mathbf{e_\\phi}}*(Derivative(V_\\theta(r, theta, phi), r) + V_\\theta(r, theta, phi)/r - Derivative(V_r(r, theta, phi), theta)/r) + \\hat{\\mathbf{e_\\theta}}*(-Derivative(V_\\phi(r, theta, phi), r) - V_\\phi(r, theta, phi)/r + Derivative(V_r(r, theta, phi), phi)/(r*sin(theta))) + \\hat{\\mathbf{e_r}}*(V_\\phi(r, theta, phi)*cos(theta)/(r*sin(theta)) + Derivative(V_\\phi(r, theta, phi), theta)/r - Derivative(V_\\theta(r, theta, phi), phi)/(r*sin(theta)))]])"
      ]
     },
     "execution_count": 13,
     "metadata": {},
     "output_type": "execute_result"
    }
   ],
   "source": [
    "dd.curl(vector=False)"
   ]
  },
  {
   "cell_type": "code",
   "execution_count": 14,
   "id": "269eebaf-2bfa-43cb-90cd-22533b5a102d",
   "metadata": {},
   "outputs": [
    {
     "data": {
      "text/latex": [
       "$\\displaystyle \\frac{\\partial^{2}}{\\partial r^{2}} F{\\left(r,\\theta,\\phi \\right)} + \\frac{2 \\frac{\\partial}{\\partial r} F{\\left(r,\\theta,\\phi \\right)}}{r} + \\frac{\\frac{\\partial^{2}}{\\partial \\theta^{2}} F{\\left(r,\\theta,\\phi \\right)}}{r^{2}} + \\frac{\\frac{\\partial}{\\partial \\theta} F{\\left(r,\\theta,\\phi \\right)}}{r^{2} \\tan{\\left(\\theta \\right)}} + \\frac{\\frac{\\partial^{2}}{\\partial \\phi^{2}} F{\\left(r,\\theta,\\phi \\right)}}{r^{2} \\sin^{2}{\\left(\\theta \\right)}}$"
      ],
      "text/plain": [
       "Derivative(F(r, theta, phi), (r, 2)) + 2*Derivative(F(r, theta, phi), r)/r + Derivative(F(r, theta, phi), (theta, 2))/r**2 + Derivative(F(r, theta, phi), theta)/(r**2*tan(theta)) + Derivative(F(r, theta, phi), (phi, 2))/(r**2*sin(theta)**2)"
      ]
     },
     "execution_count": 14,
     "metadata": {},
     "output_type": "execute_result"
    }
   ],
   "source": [
    "dd.Laplacian_scalar() # internally it takes divergence(gradient())"
   ]
  },
  {
   "cell_type": "code",
   "execution_count": 15,
   "id": "db71774e-613f-4a6d-8530-8dae60b17b08",
   "metadata": {},
   "outputs": [],
   "source": [
    "vv = dd.Laplacian_vector_full()"
   ]
  },
  {
   "cell_type": "code",
   "execution_count": 16,
   "id": "afecb06e-d04f-4ae9-b442-484caa900ee7",
   "metadata": {},
   "outputs": [],
   "source": [
    "# successfully validated against Arfken p.82\n",
    "vr = dd.Laplacian_vector_reduced()"
   ]
  },
  {
   "cell_type": "code",
   "execution_count": 17,
   "id": "131e08e0-b186-4124-b24b-38d26f9127f0",
   "metadata": {},
   "outputs": [
    {
     "data": {
      "text/latex": [
       "$\\displaystyle \\nabla^{2}{\\left(\\operatorname{V_{r}}{\\left(r,\\theta,\\phi \\right)} \\right)} - \\frac{2 \\operatorname{V_{\\theta}}{\\left(r,\\theta,\\phi \\right)}}{r^{2} \\tan{\\left(\\theta \\right)}} - \\frac{2 \\operatorname{V_{r}}{\\left(r,\\theta,\\phi \\right)}}{r^{2}} - \\frac{2 \\frac{\\partial}{\\partial \\theta} \\operatorname{V_{\\theta}}{\\left(r,\\theta,\\phi \\right)}}{r^{2}} - \\frac{2 \\frac{\\partial}{\\partial \\phi} \\operatorname{V_{\\phi}}{\\left(r,\\theta,\\phi \\right)}}{r^{2} \\sin{\\left(\\theta \\right)}}$"
      ],
      "text/plain": [
       "\\nabla^{2}(V_r(r, theta, phi)) - 2*V_\\theta(r, theta, phi)/(r**2*tan(theta)) - 2*V_r(r, theta, phi)/r**2 - 2*Derivative(V_\\theta(r, theta, phi), theta)/r**2 - 2*Derivative(V_\\phi(r, theta, phi), phi)/(r**2*sin(theta))"
      ]
     },
     "execution_count": 17,
     "metadata": {},
     "output_type": "execute_result"
    }
   ],
   "source": [
    "vr[0]"
   ]
  },
  {
   "cell_type": "code",
   "execution_count": 18,
   "id": "c7bc7bc3-024a-4b2b-a96a-16a220ee6f1b",
   "metadata": {},
   "outputs": [
    {
     "data": {
      "text/latex": [
       "$\\displaystyle \\nabla^{2}{\\left(\\operatorname{V_{\\theta}}{\\left(r,\\theta,\\phi \\right)} \\right)} - \\frac{\\operatorname{V_{\\theta}}{\\left(r,\\theta,\\phi \\right)}}{r^{2} \\sin^{2}{\\left(\\theta \\right)}} + \\frac{2 \\frac{\\partial}{\\partial \\theta} \\operatorname{V_{r}}{\\left(r,\\theta,\\phi \\right)}}{r^{2}} - \\frac{2 \\cos{\\left(\\theta \\right)} \\frac{\\partial}{\\partial \\phi} \\operatorname{V_{\\phi}}{\\left(r,\\theta,\\phi \\right)}}{r^{2} \\sin^{2}{\\left(\\theta \\right)}}$"
      ],
      "text/plain": [
       "\\nabla^{2}(V_\\theta(r, theta, phi)) - V_\\theta(r, theta, phi)/(r**2*sin(theta)**2) + 2*Derivative(V_r(r, theta, phi), theta)/r**2 - 2*cos(theta)*Derivative(V_\\phi(r, theta, phi), phi)/(r**2*sin(theta)**2)"
      ]
     },
     "execution_count": 18,
     "metadata": {},
     "output_type": "execute_result"
    }
   ],
   "source": [
    "vr[1]"
   ]
  },
  {
   "cell_type": "code",
   "execution_count": 19,
   "id": "86a2acca-6f63-48c0-bbe1-9e5fbe87ac7e",
   "metadata": {},
   "outputs": [
    {
     "data": {
      "text/latex": [
       "$\\displaystyle \\nabla^{2}{\\left(\\operatorname{V_{\\phi}}{\\left(r,\\theta,\\phi \\right)} \\right)} - \\frac{\\operatorname{V_{\\phi}}{\\left(r,\\theta,\\phi \\right)}}{r^{2} \\sin^{2}{\\left(\\theta \\right)}} + \\frac{2 \\frac{\\partial}{\\partial \\phi} \\operatorname{V_{r}}{\\left(r,\\theta,\\phi \\right)}}{r^{2} \\sin{\\left(\\theta \\right)}} + \\frac{2 \\cos{\\left(\\theta \\right)} \\frac{\\partial}{\\partial \\phi} \\operatorname{V_{\\theta}}{\\left(r,\\theta,\\phi \\right)}}{r^{2} \\sin^{2}{\\left(\\theta \\right)}}$"
      ],
      "text/plain": [
       "\\nabla^{2}(V_\\phi(r, theta, phi)) - V_\\phi(r, theta, phi)/(r**2*sin(theta)**2) + 2*Derivative(V_r(r, theta, phi), phi)/(r**2*sin(theta)) + 2*cos(theta)*Derivative(V_\\theta(r, theta, phi), phi)/(r**2*sin(theta)**2)"
      ]
     },
     "execution_count": 19,
     "metadata": {},
     "output_type": "execute_result"
    }
   ],
   "source": [
    "vr[2]"
   ]
  },
  {
   "cell_type": "code",
   "execution_count": 20,
   "id": "82ca7e32-79d1-4d4b-ba33-deab6974be5d",
   "metadata": {},
   "outputs": [
    {
     "data": {
      "text/latex": [
       "$\\displaystyle \\left[\\begin{matrix}0\\\\0\\\\0\\end{matrix}\\right]$"
      ],
      "text/plain": [
       "Matrix([\n",
       "[0],\n",
       "[0],\n",
       "[0]])"
      ]
     },
     "execution_count": 20,
     "metadata": {},
     "output_type": "execute_result"
    }
   ],
   "source": [
    "# test curl(grad): it should be 0\n",
    "dd.curl(dd.gradient())"
   ]
  },
  {
   "cell_type": "code",
   "execution_count": 21,
   "id": "15312c28-a600-41b9-9de7-c6e3491456bf",
   "metadata": {},
   "outputs": [
    {
     "data": {
      "text/latex": [
       "$\\displaystyle 0$"
      ],
      "text/plain": [
       "<IPython.core.display.Math object>"
      ]
     },
     "metadata": {},
     "output_type": "display_data"
    }
   ],
   "source": [
    "# test div(curl): it should be 0\n",
    "ws.pp(dd.divergence(dd.curl()))"
   ]
  },
  {
   "cell_type": "code",
   "execution_count": 22,
   "id": "b66e7725-83f5-439f-a5f6-b1a708209cb3",
   "metadata": {},
   "outputs": [
    {
     "data": {
      "text/latex": [
       "$\\displaystyle \\left[\\begin{matrix}\\frac{\\frac{\\partial^{2}}{\\partial \\theta\\partial r} \\operatorname{V_{\\theta}}{\\left(r,\\theta,\\phi \\right)}}{r} + \\frac{\\cos{\\left(\\theta \\right)} \\frac{\\partial}{\\partial r} \\operatorname{V_{\\theta}}{\\left(r,\\theta,\\phi \\right)}}{r \\sin{\\left(\\theta \\right)}} + \\frac{\\frac{\\partial^{2}}{\\partial r\\partial \\phi} \\operatorname{V_{\\phi}}{\\left(r,\\theta,\\phi \\right)}}{r \\sin{\\left(\\theta \\right)}} + \\frac{\\operatorname{V_{\\theta}}{\\left(r,\\theta,\\phi \\right)} \\cos{\\left(\\theta \\right)}}{r^{2} \\sin{\\left(\\theta \\right)}} + \\frac{\\frac{\\partial}{\\partial \\theta} \\operatorname{V_{\\theta}}{\\left(r,\\theta,\\phi \\right)}}{r^{2}} - \\frac{\\frac{\\partial^{2}}{\\partial \\theta^{2}} \\operatorname{V_{r}}{\\left(r,\\theta,\\phi \\right)}}{r^{2}} - \\frac{\\cos{\\left(\\theta \\right)} \\frac{\\partial}{\\partial \\theta} \\operatorname{V_{r}}{\\left(r,\\theta,\\phi \\right)}}{r^{2} \\sin{\\left(\\theta \\right)}} + \\frac{\\frac{\\partial}{\\partial \\phi} \\operatorname{V_{\\phi}}{\\left(r,\\theta,\\phi \\right)}}{r^{2} \\sin{\\left(\\theta \\right)}} - \\frac{\\frac{\\partial^{2}}{\\partial \\phi^{2}} \\operatorname{V_{r}}{\\left(r,\\theta,\\phi \\right)}}{r^{2} \\sin^{2}{\\left(\\theta \\right)}}\\\\- \\frac{\\partial^{2}}{\\partial r^{2}} \\operatorname{V_{\\theta}}{\\left(r,\\theta,\\phi \\right)} - \\frac{2 \\frac{\\partial}{\\partial r} \\operatorname{V_{\\theta}}{\\left(r,\\theta,\\phi \\right)}}{r} + \\frac{\\frac{\\partial^{2}}{\\partial \\theta\\partial r} \\operatorname{V_{r}}{\\left(r,\\theta,\\phi \\right)}}{r} + \\frac{\\frac{\\partial^{2}}{\\partial \\theta\\partial \\phi} \\operatorname{V_{\\phi}}{\\left(r,\\theta,\\phi \\right)}}{r^{2} \\sin{\\left(\\theta \\right)}} + \\frac{\\cos{\\left(\\theta \\right)} \\frac{\\partial}{\\partial \\phi} \\operatorname{V_{\\phi}}{\\left(r,\\theta,\\phi \\right)}}{r^{2} \\sin^{2}{\\left(\\theta \\right)}} - \\frac{\\frac{\\partial^{2}}{\\partial \\phi^{2}} \\operatorname{V_{\\theta}}{\\left(r,\\theta,\\phi \\right)}}{r^{2} \\sin^{2}{\\left(\\theta \\right)}}\\\\- \\frac{\\partial^{2}}{\\partial r^{2}} \\operatorname{V_{\\phi}}{\\left(r,\\theta,\\phi \\right)} - \\frac{2 \\frac{\\partial}{\\partial r} \\operatorname{V_{\\phi}}{\\left(r,\\theta,\\phi \\right)}}{r} + \\frac{\\frac{\\partial^{2}}{\\partial r\\partial \\phi} \\operatorname{V_{r}}{\\left(r,\\theta,\\phi \\right)}}{r \\sin{\\left(\\theta \\right)}} + \\frac{\\operatorname{V_{\\phi}}{\\left(r,\\theta,\\phi \\right)}}{r^{2}} + \\frac{\\operatorname{V_{\\phi}}{\\left(r,\\theta,\\phi \\right)} \\cos^{2}{\\left(\\theta \\right)}}{r^{2} \\sin^{2}{\\left(\\theta \\right)}} - \\frac{\\frac{\\partial^{2}}{\\partial \\theta^{2}} \\operatorname{V_{\\phi}}{\\left(r,\\theta,\\phi \\right)}}{r^{2}} - \\frac{\\cos{\\left(\\theta \\right)} \\frac{\\partial}{\\partial \\theta} \\operatorname{V_{\\phi}}{\\left(r,\\theta,\\phi \\right)}}{r^{2} \\sin{\\left(\\theta \\right)}} + \\frac{\\frac{\\partial^{2}}{\\partial \\theta\\partial \\phi} \\operatorname{V_{\\theta}}{\\left(r,\\theta,\\phi \\right)}}{r^{2} \\sin{\\left(\\theta \\right)}} - \\frac{\\cos{\\left(\\theta \\right)} \\frac{\\partial}{\\partial \\phi} \\operatorname{V_{\\theta}}{\\left(r,\\theta,\\phi \\right)}}{r^{2} \\sin^{2}{\\left(\\theta \\right)}}\\end{matrix}\\right]$"
      ],
      "text/plain": [
       "Matrix([\n",
       "[Derivative(V_\\theta(r, theta, phi), r, theta)/r + cos(theta)*Derivative(V_\\theta(r, theta, phi), r)/(r*sin(theta)) + Derivative(V_\\phi(r, theta, phi), phi, r)/(r*sin(theta)) + V_\\theta(r, theta, phi)*cos(theta)/(r**2*sin(theta)) + Derivative(V_\\theta(r, theta, phi), theta)/r**2 - Derivative(V_r(r, theta, phi), (theta, 2))/r**2 - cos(theta)*Derivative(V_r(r, theta, phi), theta)/(r**2*sin(theta)) + Derivative(V_\\phi(r, theta, phi), phi)/(r**2*sin(theta)) - Derivative(V_r(r, theta, phi), (phi, 2))/(r**2*sin(theta)**2)],\n",
       "[                                                                                                                                                                                  -Derivative(V_\\theta(r, theta, phi), (r, 2)) - 2*Derivative(V_\\theta(r, theta, phi), r)/r + Derivative(V_r(r, theta, phi), r, theta)/r + Derivative(V_\\phi(r, theta, phi), phi, theta)/(r**2*sin(theta)) + cos(theta)*Derivative(V_\\phi(r, theta, phi), phi)/(r**2*sin(theta)**2) - Derivative(V_\\theta(r, theta, phi), (phi, 2))/(r**2*sin(theta)**2)],\n",
       "[                       -Derivative(V_\\phi(r, theta, phi), (r, 2)) - 2*Derivative(V_\\phi(r, theta, phi), r)/r + Derivative(V_r(r, theta, phi), phi, r)/(r*sin(theta)) + V_\\phi(r, theta, phi)/r**2 + V_\\phi(r, theta, phi)*cos(theta)**2/(r**2*sin(theta)**2) - Derivative(V_\\phi(r, theta, phi), (theta, 2))/r**2 - cos(theta)*Derivative(V_\\phi(r, theta, phi), theta)/(r**2*sin(theta)) + Derivative(V_\\theta(r, theta, phi), phi, theta)/(r**2*sin(theta)) - cos(theta)*Derivative(V_\\theta(r, theta, phi), phi)/(r**2*sin(theta)**2)]])"
      ]
     },
     "execution_count": 22,
     "metadata": {},
     "output_type": "execute_result"
    }
   ],
   "source": [
    "dd.curl(dd.curl())"
   ]
  },
  {
   "cell_type": "code",
   "execution_count": 23,
   "id": "9b627b4d-1ca6-45ea-a469-a51bc4402156",
   "metadata": {},
   "outputs": [
    {
     "data": {
      "text/latex": [
       "$\\displaystyle \\left[\\begin{matrix}\\frac{\\partial^{2}}{\\partial r^{2}} \\operatorname{V_{r}}{\\left(r,\\theta,\\phi \\right)} + \\frac{2 \\frac{\\partial}{\\partial r} \\operatorname{V_{r}}{\\left(r,\\theta,\\phi \\right)}}{r} + \\frac{\\frac{\\partial^{2}}{\\partial \\theta\\partial r} \\operatorname{V_{\\theta}}{\\left(r,\\theta,\\phi \\right)}}{r} + \\frac{\\cos{\\left(\\theta \\right)} \\frac{\\partial}{\\partial r} \\operatorname{V_{\\theta}}{\\left(r,\\theta,\\phi \\right)}}{r \\sin{\\left(\\theta \\right)}} + \\frac{\\frac{\\partial^{2}}{\\partial r\\partial \\phi} \\operatorname{V_{\\phi}}{\\left(r,\\theta,\\phi \\right)}}{r \\sin{\\left(\\theta \\right)}} - \\frac{\\operatorname{V_{\\theta}}{\\left(r,\\theta,\\phi \\right)} \\cos{\\left(\\theta \\right)}}{r^{2} \\sin{\\left(\\theta \\right)}} - \\frac{2 \\operatorname{V_{r}}{\\left(r,\\theta,\\phi \\right)}}{r^{2}} - \\frac{\\frac{\\partial}{\\partial \\theta} \\operatorname{V_{\\theta}}{\\left(r,\\theta,\\phi \\right)}}{r^{2}} - \\frac{\\frac{\\partial}{\\partial \\phi} \\operatorname{V_{\\phi}}{\\left(r,\\theta,\\phi \\right)}}{r^{2} \\sin{\\left(\\theta \\right)}}\\\\\\frac{\\frac{\\partial^{2}}{\\partial \\theta\\partial r} \\operatorname{V_{r}}{\\left(r,\\theta,\\phi \\right)}}{r} - \\frac{\\operatorname{V_{\\theta}}{\\left(r,\\theta,\\phi \\right)}}{r^{2}} - \\frac{\\operatorname{V_{\\theta}}{\\left(r,\\theta,\\phi \\right)} \\cos^{2}{\\left(\\theta \\right)}}{r^{2} \\sin^{2}{\\left(\\theta \\right)}} + \\frac{\\frac{\\partial^{2}}{\\partial \\theta^{2}} \\operatorname{V_{\\theta}}{\\left(r,\\theta,\\phi \\right)}}{r^{2}} + \\frac{2 \\frac{\\partial}{\\partial \\theta} \\operatorname{V_{r}}{\\left(r,\\theta,\\phi \\right)}}{r^{2}} + \\frac{\\cos{\\left(\\theta \\right)} \\frac{\\partial}{\\partial \\theta} \\operatorname{V_{\\theta}}{\\left(r,\\theta,\\phi \\right)}}{r^{2} \\sin{\\left(\\theta \\right)}} + \\frac{\\frac{\\partial^{2}}{\\partial \\theta\\partial \\phi} \\operatorname{V_{\\phi}}{\\left(r,\\theta,\\phi \\right)}}{r^{2} \\sin{\\left(\\theta \\right)}} - \\frac{\\cos{\\left(\\theta \\right)} \\frac{\\partial}{\\partial \\phi} \\operatorname{V_{\\phi}}{\\left(r,\\theta,\\phi \\right)}}{r^{2} \\sin^{2}{\\left(\\theta \\right)}}\\\\\\frac{\\frac{\\partial^{2}}{\\partial r\\partial \\phi} \\operatorname{V_{r}}{\\left(r,\\theta,\\phi \\right)}}{r \\sin{\\left(\\theta \\right)}} + \\frac{2 \\frac{\\partial}{\\partial \\phi} \\operatorname{V_{r}}{\\left(r,\\theta,\\phi \\right)}}{r^{2} \\sin{\\left(\\theta \\right)}} + \\frac{\\frac{\\partial^{2}}{\\partial \\theta\\partial \\phi} \\operatorname{V_{\\theta}}{\\left(r,\\theta,\\phi \\right)}}{r^{2} \\sin{\\left(\\theta \\right)}} + \\frac{\\cos{\\left(\\theta \\right)} \\frac{\\partial}{\\partial \\phi} \\operatorname{V_{\\theta}}{\\left(r,\\theta,\\phi \\right)}}{r^{2} \\sin^{2}{\\left(\\theta \\right)}} + \\frac{\\frac{\\partial^{2}}{\\partial \\phi^{2}} \\operatorname{V_{\\phi}}{\\left(r,\\theta,\\phi \\right)}}{r^{2} \\sin^{2}{\\left(\\theta \\right)}}\\end{matrix}\\right]$"
      ],
      "text/plain": [
       "Matrix([\n",
       "[   Derivative(V_r(r, theta, phi), (r, 2)) + 2*Derivative(V_r(r, theta, phi), r)/r + Derivative(V_\\theta(r, theta, phi), r, theta)/r + cos(theta)*Derivative(V_\\theta(r, theta, phi), r)/(r*sin(theta)) + Derivative(V_\\phi(r, theta, phi), phi, r)/(r*sin(theta)) - V_\\theta(r, theta, phi)*cos(theta)/(r**2*sin(theta)) - 2*V_r(r, theta, phi)/r**2 - Derivative(V_\\theta(r, theta, phi), theta)/r**2 - Derivative(V_\\phi(r, theta, phi), phi)/(r**2*sin(theta))],\n",
       "[Derivative(V_r(r, theta, phi), r, theta)/r - V_\\theta(r, theta, phi)/r**2 - V_\\theta(r, theta, phi)*cos(theta)**2/(r**2*sin(theta)**2) + Derivative(V_\\theta(r, theta, phi), (theta, 2))/r**2 + 2*Derivative(V_r(r, theta, phi), theta)/r**2 + cos(theta)*Derivative(V_\\theta(r, theta, phi), theta)/(r**2*sin(theta)) + Derivative(V_\\phi(r, theta, phi), phi, theta)/(r**2*sin(theta)) - cos(theta)*Derivative(V_\\phi(r, theta, phi), phi)/(r**2*sin(theta)**2)],\n",
       "[                                                                                                                                Derivative(V_r(r, theta, phi), phi, r)/(r*sin(theta)) + 2*Derivative(V_r(r, theta, phi), phi)/(r**2*sin(theta)) + Derivative(V_\\theta(r, theta, phi), phi, theta)/(r**2*sin(theta)) + cos(theta)*Derivative(V_\\theta(r, theta, phi), phi)/(r**2*sin(theta)**2) + Derivative(V_\\phi(r, theta, phi), (phi, 2))/(r**2*sin(theta)**2)]])"
      ]
     },
     "execution_count": 23,
     "metadata": {},
     "output_type": "execute_result"
    }
   ],
   "source": [
    "dd.gradient(dd.divergence())"
   ]
  },
  {
   "cell_type": "code",
   "execution_count": 29,
   "id": "9edae879-b65c-4e4b-87a9-fa6f617a170d",
   "metadata": {},
   "outputs": [
    {
     "data": {
      "text/latex": [
       "$\\displaystyle \\left[\\begin{matrix}\\hat{\\mathbf{e_x}}\\\\\\hat{\\mathbf{e_y}}\\\\\\hat{\\mathbf{e_z}}\\end{matrix}\\right]$"
      ],
      "text/plain": [
       "Matrix([\n",
       "[\\hat{\\mathbf{e_x}}],\n",
       "[\\hat{\\mathbf{e_y}}],\n",
       "[\\hat{\\mathbf{e_z}}]])"
      ]
     },
     "execution_count": 29,
     "metadata": {},
     "output_type": "execute_result"
    }
   ],
   "source": [
    "dd.Z"
   ]
  },
  {
   "cell_type": "code",
   "execution_count": 30,
   "id": "85a5a0dd-54cb-4aef-94c8-eeb69ddcb692",
   "metadata": {},
   "outputs": [
    {
     "data": {
      "text/latex": [
       "$\\displaystyle \\left[\\begin{matrix}\\hat{\\mathbf{e_r}}\\\\\\hat{\\mathbf{e_\\theta}}\\\\\\hat{\\mathbf{e_\\phi}}\\end{matrix}\\right]$"
      ],
      "text/plain": [
       "Matrix([\n",
       "[     \\hat{\\mathbf{e_r}}],\n",
       "[\\hat{\\mathbf{e_\\theta}}],\n",
       "[  \\hat{\\mathbf{e_\\phi}}]])"
      ]
     },
     "execution_count": 30,
     "metadata": {},
     "output_type": "execute_result"
    }
   ],
   "source": [
    "dd.Zp "
   ]
  },
  {
   "cell_type": "code",
   "execution_count": 31,
   "id": "f8ca8c44-864d-4a9c-8b08-2e6b025dbac2",
   "metadata": {},
   "outputs": [
    {
     "data": {
      "text/latex": [
       "$\\displaystyle \\left[\\begin{matrix}1 & 0 & 0\\\\0 & r^{2} & 0\\\\0 & 0 & r^{2} \\sin^{2}{\\left(\\theta \\right)}\\end{matrix}\\right]$"
      ],
      "text/plain": [
       "Matrix([\n",
       "[1,    0,                  0],\n",
       "[0, r**2,                  0],\n",
       "[0,    0, r**2*sin(theta)**2]])"
      ]
     },
     "execution_count": 31,
     "metadata": {},
     "output_type": "execute_result"
    }
   ],
   "source": [
    "dd.metric"
   ]
  },
  {
   "cell_type": "code",
   "execution_count": 32,
   "id": "7f788306-84fe-463d-919a-989240c94600",
   "metadata": {},
   "outputs": [
    {
     "data": {
      "text/latex": [
       "$\\displaystyle \\left[\\begin{matrix}1 & 0 & 0\\\\0 & r & 0\\\\0 & 0 & r \\sin{\\left(\\theta \\right)}\\end{matrix}\\right]$"
      ],
      "text/plain": [
       "Matrix([\n",
       "[1, 0,            0],\n",
       "[0, r,            0],\n",
       "[0, 0, r*sin(theta)]])"
      ]
     },
     "execution_count": 32,
     "metadata": {},
     "output_type": "execute_result"
    }
   ],
   "source": [
    "dd.metric_sqrt"
   ]
  },
  {
   "cell_type": "code",
   "execution_count": 33,
   "id": "17981488-66e6-485a-8fea-20089a36839f",
   "metadata": {},
   "outputs": [
    {
     "data": {
      "text/latex": [
       "$\\displaystyle \\left[\\begin{matrix}1 & 0 & 0\\\\0 & \\frac{1}{r^{2}} & 0\\\\0 & 0 & \\frac{1}{r^{2} \\sin^{2}{\\left(\\theta \\right)}}\\end{matrix}\\right]$"
      ],
      "text/plain": [
       "Matrix([\n",
       "[1,       0,                      0],\n",
       "[0, r**(-2),                      0],\n",
       "[0,       0, 1/(r**2*sin(theta)**2)]])"
      ]
     },
     "execution_count": 33,
     "metadata": {},
     "output_type": "execute_result"
    }
   ],
   "source": [
    "dd.metric_inv"
   ]
  },
  {
   "cell_type": "code",
   "execution_count": 34,
   "id": "b5f1f89d-d76c-4b44-a46f-65fe823868d9",
   "metadata": {},
   "outputs": [
    {
     "data": {
      "text/latex": [
       "$\\displaystyle \\left[\\begin{matrix}1 & 0 & 0\\\\0 & \\frac{1}{r} & 0\\\\0 & 0 & \\frac{1}{r \\sin{\\left(\\theta \\right)}}\\end{matrix}\\right]$"
      ],
      "text/plain": [
       "Matrix([\n",
       "[1,   0,                0],\n",
       "[0, 1/r,                0],\n",
       "[0,   0, 1/(r*sin(theta))]])"
      ]
     },
     "execution_count": 34,
     "metadata": {},
     "output_type": "execute_result"
    }
   ],
   "source": [
    "dd.metric_inv_sqrt"
   ]
  },
  {
   "cell_type": "code",
   "execution_count": 35,
   "id": "d9f1d40d-34c9-49f7-ac25-7e099c513c44",
   "metadata": {},
   "outputs": [
    {
     "data": {
      "text/latex": [
       "$\\displaystyle \\left[\\begin{matrix}\\sin{\\left(\\theta \\right)} \\cos{\\left(\\phi \\right)} & r \\cos{\\left(\\phi \\right)} \\cos{\\left(\\theta \\right)} & - r \\sin{\\left(\\phi \\right)} \\sin{\\left(\\theta \\right)}\\\\\\sin{\\left(\\phi \\right)} \\sin{\\left(\\theta \\right)} & r \\sin{\\left(\\phi \\right)} \\cos{\\left(\\theta \\right)} & r \\sin{\\left(\\theta \\right)} \\cos{\\left(\\phi \\right)}\\\\\\cos{\\left(\\theta \\right)} & - r \\sin{\\left(\\theta \\right)} & 0\\end{matrix}\\right]$"
      ],
      "text/plain": [
       "Matrix([\n",
       "[sin(theta)*cos(phi), r*cos(phi)*cos(theta), -r*sin(phi)*sin(theta)],\n",
       "[sin(phi)*sin(theta), r*sin(phi)*cos(theta),  r*sin(theta)*cos(phi)],\n",
       "[         cos(theta),         -r*sin(theta),                      0]])"
      ]
     },
     "execution_count": 35,
     "metadata": {},
     "output_type": "execute_result"
    }
   ],
   "source": [
    "dd.Jacobian"
   ]
  },
  {
   "cell_type": "code",
   "execution_count": 38,
   "id": "79badd9c-3f6d-4b59-a454-990c92a200f6",
   "metadata": {},
   "outputs": [
    {
     "data": {
      "text/latex": [
       "$\\displaystyle \\left[\\begin{matrix}\\sin{\\left(\\theta \\right)} \\cos{\\left(\\phi \\right)} & \\sin{\\left(\\phi \\right)} \\sin{\\left(\\theta \\right)} & \\cos{\\left(\\theta \\right)}\\\\\\frac{\\cos{\\left(\\phi \\right)} \\cos{\\left(\\theta \\right)}}{r} & \\frac{\\sin{\\left(\\phi \\right)} \\cos{\\left(\\theta \\right)}}{r} & - \\frac{\\sin{\\left(\\theta \\right)}}{r}\\\\- \\frac{\\sin{\\left(\\phi \\right)}}{r \\sin{\\left(\\theta \\right)}} & \\frac{\\cos{\\left(\\phi \\right)}}{r \\sin{\\left(\\theta \\right)}} & 0\\end{matrix}\\right]$"
      ],
      "text/plain": [
       "<IPython.core.display.Math object>"
      ]
     },
     "metadata": {},
     "output_type": "display_data"
    }
   ],
   "source": [
    "ws.pp(dd.Jacobian_inv)"
   ]
  },
  {
   "cell_type": "code",
   "execution_count": 40,
   "id": "69b511d9-cbc7-4a1a-9b3c-ee2235612bb3",
   "metadata": {},
   "outputs": [
    {
     "data": {
      "text/latex": [
       "$\\displaystyle \\left[\\begin{matrix}\\hat{\\mathbf{e_x}} \\sin{\\left(\\theta \\right)} \\cos{\\left(\\phi \\right)} + \\hat{\\mathbf{e_y}} \\sin{\\left(\\phi \\right)} \\sin{\\left(\\theta \\right)} + \\hat{\\mathbf{e_z}} \\cos{\\left(\\theta \\right)}\\\\\\hat{\\mathbf{e_x}} \\cos{\\left(\\phi \\right)} \\cos{\\left(\\theta \\right)} + \\hat{\\mathbf{e_y}} \\sin{\\left(\\phi \\right)} \\cos{\\left(\\theta \\right)} - \\hat{\\mathbf{e_z}} \\sin{\\left(\\theta \\right)}\\\\- \\hat{\\mathbf{e_x}} \\sin{\\left(\\phi \\right)} + \\hat{\\mathbf{e_y}} \\cos{\\left(\\phi \\right)}\\end{matrix}\\right]$"
      ],
      "text/plain": [
       "<IPython.core.display.Math object>"
      ]
     },
     "metadata": {},
     "output_type": "display_data"
    }
   ],
   "source": [
    "ws.pp(dd.primed_basis)"
   ]
  },
  {
   "cell_type": "markdown",
   "id": "38da0396-0b98-4430-ab24-2d921ee8511e",
   "metadata": {
    "tags": []
   },
   "source": [
    "# 3D cylindrical coordinates"
   ]
  },
  {
   "cell_type": "code",
   "execution_count": 41,
   "id": "8ccb494f-1486-48c6-9f12-f04ffeaf7f75",
   "metadata": {},
   "outputs": [],
   "source": [
    "x, y, z          = sy.symbols('x y z', real=True)\n",
    "rho, phi         = sy.symbols('rho phi', positive=True, real=True)\n",
    "orig_coords      = (x, y, z)\n",
    "primed_coords    = (rho, phi, z)\n",
    "orig_from_primed = (rho * cos(phi), rho * sin(phi), z)"
   ]
  },
  {
   "cell_type": "code",
   "execution_count": 42,
   "id": "c1ff79fa-b796-469e-bf13-5ad74f3ee1a6",
   "metadata": {},
   "outputs": [],
   "source": [
    "aa = ws.Operators(orig_coords, primed_coords, orig_from_primed)"
   ]
  },
  {
   "cell_type": "code",
   "execution_count": 44,
   "id": "a1102d96-d656-426f-aeea-e12016270699",
   "metadata": {},
   "outputs": [
    {
     "data": {
      "text/latex": [
       "$\\displaystyle \\left[\\begin{matrix}1 & 0 & 0\\\\0 & \\rho^{2} & 0\\\\0 & 0 & 1\\end{matrix}\\right]$"
      ],
      "text/plain": [
       "Matrix([\n",
       "[1,      0, 0],\n",
       "[0, rho**2, 0],\n",
       "[0,      0, 1]])"
      ]
     },
     "execution_count": 44,
     "metadata": {},
     "output_type": "execute_result"
    }
   ],
   "source": [
    "aa.metric"
   ]
  },
  {
   "cell_type": "code",
   "execution_count": 45,
   "id": "8f720c91-d749-4f86-86cb-9ef1142b7d20",
   "metadata": {},
   "outputs": [
    {
     "data": {
      "text/latex": [
       "$\\displaystyle \\left[\\begin{matrix}1 & 0 & 0\\\\0 & \\rho & 0\\\\0 & 0 & 1\\end{matrix}\\right]$"
      ],
      "text/plain": [
       "Matrix([\n",
       "[1,   0, 0],\n",
       "[0, rho, 0],\n",
       "[0,   0, 1]])"
      ]
     },
     "execution_count": 45,
     "metadata": {},
     "output_type": "execute_result"
    }
   ],
   "source": [
    "aa.metric_sqrt"
   ]
  },
  {
   "cell_type": "code",
   "execution_count": 46,
   "id": "5e09b89b-032b-46fd-a4a2-e5067cf8a74a",
   "metadata": {},
   "outputs": [
    {
     "data": {
      "text/latex": [
       "$\\displaystyle \\left[\\begin{matrix}1 & 0 & 0\\\\0 & \\frac{1}{\\rho^{2}} & 0\\\\0 & 0 & 1\\end{matrix}\\right]$"
      ],
      "text/plain": [
       "Matrix([\n",
       "[1,         0, 0],\n",
       "[0, rho**(-2), 0],\n",
       "[0,         0, 1]])"
      ]
     },
     "execution_count": 46,
     "metadata": {},
     "output_type": "execute_result"
    }
   ],
   "source": [
    "aa.metric_inv"
   ]
  },
  {
   "cell_type": "code",
   "execution_count": 47,
   "id": "244215f4-bfb9-43cd-85fc-d87c178bc970",
   "metadata": {},
   "outputs": [
    {
     "data": {
      "text/latex": [
       "$\\displaystyle \\left[\\begin{matrix}1 & 0 & 0\\\\0 & \\frac{1}{\\rho} & 0\\\\0 & 0 & 1\\end{matrix}\\right]$"
      ],
      "text/plain": [
       "Matrix([\n",
       "[1,     0, 0],\n",
       "[0, 1/rho, 0],\n",
       "[0,     0, 1]])"
      ]
     },
     "execution_count": 47,
     "metadata": {},
     "output_type": "execute_result"
    }
   ],
   "source": [
    "aa.metric_inv_sqrt"
   ]
  },
  {
   "cell_type": "code",
   "execution_count": 48,
   "id": "d1dc4680-da09-4d1e-93e4-170c6b821aed",
   "metadata": {},
   "outputs": [
    {
     "data": {
      "text/latex": [
       "$\\displaystyle \\left[\\begin{matrix}\\frac{\\partial}{\\partial \\rho} F{\\left(\\rho,\\phi,z \\right)}\\\\\\frac{\\frac{\\partial}{\\partial \\phi} F{\\left(\\rho,\\phi,z \\right)}}{\\rho}\\\\\\frac{\\partial}{\\partial z} F{\\left(\\rho,\\phi,z \\right)}\\end{matrix}\\right]$"
      ],
      "text/plain": [
       "Matrix([\n",
       "[    Derivative(F(rho, phi, z), rho)],\n",
       "[Derivative(F(rho, phi, z), phi)/rho],\n",
       "[      Derivative(F(rho, phi, z), z)]])"
      ]
     },
     "execution_count": 48,
     "metadata": {},
     "output_type": "execute_result"
    }
   ],
   "source": [
    "aa.gradient()"
   ]
  },
  {
   "cell_type": "code",
   "execution_count": 49,
   "id": "c3f0a1ed-3fea-439b-aff4-4870efe9a389",
   "metadata": {},
   "outputs": [
    {
     "data": {
      "text/latex": [
       "$\\displaystyle \\frac{\\partial}{\\partial \\rho} \\operatorname{V_{\\rho}}{\\left(\\rho,\\phi,z \\right)} + \\frac{\\partial}{\\partial z} \\operatorname{V_{z}}{\\left(\\rho,\\phi,z \\right)} + \\frac{\\operatorname{V_{\\rho}}{\\left(\\rho,\\phi,z \\right)}}{\\rho} + \\frac{\\frac{\\partial}{\\partial \\phi} \\operatorname{V_{\\phi}}{\\left(\\rho,\\phi,z \\right)}}{\\rho}$"
      ],
      "text/plain": [
       "Derivative(V_\\rho(rho, phi, z), rho) + Derivative(V_z(rho, phi, z), z) + V_\\rho(rho, phi, z)/rho + Derivative(V_\\phi(rho, phi, z), phi)/rho"
      ]
     },
     "execution_count": 49,
     "metadata": {},
     "output_type": "execute_result"
    }
   ],
   "source": [
    "aa.divergence()"
   ]
  },
  {
   "cell_type": "code",
   "execution_count": 50,
   "id": "8f953a4c-f907-495a-965b-c1f57e26692d",
   "metadata": {},
   "outputs": [
    {
     "data": {
      "text/latex": [
       "$\\displaystyle \\left[\\begin{matrix}- \\frac{\\partial}{\\partial z} \\operatorname{V_{\\phi}}{\\left(\\rho,\\phi,z \\right)} + \\frac{\\frac{\\partial}{\\partial \\phi} \\operatorname{V_{z}}{\\left(\\rho,\\phi,z \\right)}}{\\rho}\\\\\\frac{\\partial}{\\partial z} \\operatorname{V_{\\rho}}{\\left(\\rho,\\phi,z \\right)} - \\frac{\\partial}{\\partial \\rho} \\operatorname{V_{z}}{\\left(\\rho,\\phi,z \\right)}\\\\\\frac{\\partial}{\\partial \\rho} \\operatorname{V_{\\phi}}{\\left(\\rho,\\phi,z \\right)} + \\frac{\\operatorname{V_{\\phi}}{\\left(\\rho,\\phi,z \\right)}}{\\rho} - \\frac{\\frac{\\partial}{\\partial \\phi} \\operatorname{V_{\\rho}}{\\left(\\rho,\\phi,z \\right)}}{\\rho}\\end{matrix}\\right]$"
      ],
      "text/plain": [
       "Matrix([\n",
       "[                              -Derivative(V_\\phi(rho, phi, z), z) + Derivative(V_z(rho, phi, z), phi)/rho],\n",
       "[                                   Derivative(V_\\rho(rho, phi, z), z) - Derivative(V_z(rho, phi, z), rho)],\n",
       "[Derivative(V_\\phi(rho, phi, z), rho) + V_\\phi(rho, phi, z)/rho - Derivative(V_\\rho(rho, phi, z), phi)/rho]])"
      ]
     },
     "execution_count": 50,
     "metadata": {},
     "output_type": "execute_result"
    }
   ],
   "source": [
    "aa.curl()"
   ]
  },
  {
   "cell_type": "code",
   "execution_count": 51,
   "id": "c5bb1dea-aac2-4263-9f1f-644c9d20697c",
   "metadata": {},
   "outputs": [
    {
     "data": {
      "text/latex": [
       "$\\displaystyle \\frac{\\partial^{2}}{\\partial \\rho^{2}} F{\\left(\\rho,\\phi,z \\right)} + \\frac{\\partial^{2}}{\\partial z^{2}} F{\\left(\\rho,\\phi,z \\right)} + \\frac{\\frac{\\partial}{\\partial \\rho} F{\\left(\\rho,\\phi,z \\right)}}{\\rho} + \\frac{\\frac{\\partial^{2}}{\\partial \\phi^{2}} F{\\left(\\rho,\\phi,z \\right)}}{\\rho^{2}}$"
      ],
      "text/plain": [
       "Derivative(F(rho, phi, z), (rho, 2)) + Derivative(F(rho, phi, z), (z, 2)) + Derivative(F(rho, phi, z), rho)/rho + Derivative(F(rho, phi, z), (phi, 2))/rho**2"
      ]
     },
     "execution_count": 51,
     "metadata": {},
     "output_type": "execute_result"
    }
   ],
   "source": [
    "aa.Laplacian_scalar()"
   ]
  },
  {
   "cell_type": "code",
   "execution_count": 52,
   "id": "3344c04d-f4a6-481d-9aa4-188a2af48e65",
   "metadata": {},
   "outputs": [
    {
     "data": {
      "text/latex": [
       "$\\displaystyle \\left[\\begin{matrix}\\frac{\\partial^{2}}{\\partial \\rho^{2}} \\operatorname{V_{\\rho}}{\\left(\\rho,\\phi,z \\right)} + \\frac{\\partial^{2}}{\\partial z^{2}} \\operatorname{V_{\\rho}}{\\left(\\rho,\\phi,z \\right)} + \\frac{\\frac{\\partial}{\\partial \\rho} \\operatorname{V_{\\rho}}{\\left(\\rho,\\phi,z \\right)}}{\\rho} - \\frac{\\operatorname{V_{\\rho}}{\\left(\\rho,\\phi,z \\right)}}{\\rho^{2}} - \\frac{2 \\frac{\\partial}{\\partial \\phi} \\operatorname{V_{\\phi}}{\\left(\\rho,\\phi,z \\right)}}{\\rho^{2}} + \\frac{\\frac{\\partial^{2}}{\\partial \\phi^{2}} \\operatorname{V_{\\rho}}{\\left(\\rho,\\phi,z \\right)}}{\\rho^{2}}\\\\\\frac{\\partial^{2}}{\\partial \\rho^{2}} \\operatorname{V_{\\phi}}{\\left(\\rho,\\phi,z \\right)} + \\frac{\\partial^{2}}{\\partial z^{2}} \\operatorname{V_{\\phi}}{\\left(\\rho,\\phi,z \\right)} + \\frac{\\frac{\\partial}{\\partial \\rho} \\operatorname{V_{\\phi}}{\\left(\\rho,\\phi,z \\right)}}{\\rho} - \\frac{\\operatorname{V_{\\phi}}{\\left(\\rho,\\phi,z \\right)}}{\\rho^{2}} + \\frac{\\frac{\\partial^{2}}{\\partial \\phi^{2}} \\operatorname{V_{\\phi}}{\\left(\\rho,\\phi,z \\right)}}{\\rho^{2}} + \\frac{2 \\frac{\\partial}{\\partial \\phi} \\operatorname{V_{\\rho}}{\\left(\\rho,\\phi,z \\right)}}{\\rho^{2}}\\\\\\frac{\\partial^{2}}{\\partial \\rho^{2}} \\operatorname{V_{z}}{\\left(\\rho,\\phi,z \\right)} + \\frac{\\partial^{2}}{\\partial z^{2}} \\operatorname{V_{z}}{\\left(\\rho,\\phi,z \\right)} + \\frac{\\frac{\\partial}{\\partial \\rho} \\operatorname{V_{z}}{\\left(\\rho,\\phi,z \\right)}}{\\rho} + \\frac{\\frac{\\partial^{2}}{\\partial \\phi^{2}} \\operatorname{V_{z}}{\\left(\\rho,\\phi,z \\right)}}{\\rho^{2}}\\end{matrix}\\right]$"
      ],
      "text/plain": [
       "Matrix([\n",
       "[Derivative(V_\\rho(rho, phi, z), (rho, 2)) + Derivative(V_\\rho(rho, phi, z), (z, 2)) + Derivative(V_\\rho(rho, phi, z), rho)/rho - V_\\rho(rho, phi, z)/rho**2 - 2*Derivative(V_\\phi(rho, phi, z), phi)/rho**2 + Derivative(V_\\rho(rho, phi, z), (phi, 2))/rho**2],\n",
       "[Derivative(V_\\phi(rho, phi, z), (rho, 2)) + Derivative(V_\\phi(rho, phi, z), (z, 2)) + Derivative(V_\\phi(rho, phi, z), rho)/rho - V_\\phi(rho, phi, z)/rho**2 + Derivative(V_\\phi(rho, phi, z), (phi, 2))/rho**2 + 2*Derivative(V_\\rho(rho, phi, z), phi)/rho**2],\n",
       "[                                                                                         Derivative(V_z(rho, phi, z), (rho, 2)) + Derivative(V_z(rho, phi, z), (z, 2)) + Derivative(V_z(rho, phi, z), rho)/rho + Derivative(V_z(rho, phi, z), (phi, 2))/rho**2]])"
      ]
     },
     "execution_count": 52,
     "metadata": {},
     "output_type": "execute_result"
    }
   ],
   "source": [
    "aa.Laplacian_vector_full()"
   ]
  },
  {
   "cell_type": "code",
   "execution_count": 53,
   "id": "daebbd18-4c8f-4532-b278-3e7641c77b4a",
   "metadata": {},
   "outputs": [
    {
     "data": {
      "text/latex": [
       "$\\displaystyle \\left[\\begin{matrix}\\nabla^{2}{\\left(\\operatorname{V_{\\rho}}{\\left(\\rho,\\phi,z \\right)} \\right)} - \\frac{\\operatorname{V_{\\rho}}{\\left(\\rho,\\phi,z \\right)}}{\\rho^{2}} - \\frac{2 \\frac{\\partial}{\\partial \\phi} \\operatorname{V_{\\phi}}{\\left(\\rho,\\phi,z \\right)}}{\\rho^{2}}\\\\\\nabla^{2}{\\left(\\operatorname{V_{\\phi}}{\\left(\\rho,\\phi,z \\right)} \\right)} - \\frac{\\operatorname{V_{\\phi}}{\\left(\\rho,\\phi,z \\right)}}{\\rho^{2}} + \\frac{2 \\frac{\\partial}{\\partial \\phi} \\operatorname{V_{\\rho}}{\\left(\\rho,\\phi,z \\right)}}{\\rho^{2}}\\\\\\nabla^{2}{\\left(\\operatorname{V_{z}}{\\left(\\rho,\\phi,z \\right)} \\right)}\\end{matrix}\\right]$"
      ],
      "text/plain": [
       "Matrix([\n",
       "[\\nabla^{2}(V_\\rho(rho, phi, z)) - V_\\rho(rho, phi, z)/rho**2 - 2*Derivative(V_\\phi(rho, phi, z), phi)/rho**2],\n",
       "[\\nabla^{2}(V_\\phi(rho, phi, z)) - V_\\phi(rho, phi, z)/rho**2 + 2*Derivative(V_\\rho(rho, phi, z), phi)/rho**2],\n",
       "[                                                                                \\nabla^{2}(V_z(rho, phi, z))]])"
      ]
     },
     "execution_count": 53,
     "metadata": {},
     "output_type": "execute_result"
    }
   ],
   "source": [
    "aa.Laplacian_vector_reduced()"
   ]
  },
  {
   "cell_type": "markdown",
   "id": "c1f4abdb-5359-4c40-a45f-fa214ef99cf8",
   "metadata": {},
   "source": [
    "### Example vector field to transform"
   ]
  },
  {
   "cell_type": "code",
   "execution_count": 54,
   "id": "5267371a-dd87-43f3-91c2-14f98ee16ab3",
   "metadata": {},
   "outputs": [
    {
     "data": {
      "text/latex": [
       "$\\displaystyle \\left[\\begin{matrix}3 x\\\\4 y\\\\0\\end{matrix}\\right]$"
      ],
      "text/plain": [
       "Matrix([\n",
       "[3*x],\n",
       "[4*y],\n",
       "[  0]])"
      ]
     },
     "execution_count": 54,
     "metadata": {},
     "output_type": "execute_result"
    }
   ],
   "source": [
    "# set up the original vector field\n",
    "x, y, z = sy.symbols('x y z')\n",
    "f, g, h = sy.symbols('f g h', cls=sy.Function)\n",
    "f = 3*x\n",
    "g = 4*y\n",
    "h = 0\n",
    "V = sy.Matrix((f, g, h))\n",
    "V"
   ]
  },
  {
   "cell_type": "code",
   "execution_count": 55,
   "id": "dc140b00-e166-473d-82c8-3f25bf6a492f",
   "metadata": {},
   "outputs": [
    {
     "data": {
      "text/latex": [
       "$\\displaystyle \\left[\\begin{matrix}3 x \\cos{\\left(\\phi \\right)} + 4 y \\sin{\\left(\\phi \\right)}\\\\\\frac{- 3 x \\sin{\\left(\\phi \\right)} + 4 y \\cos{\\left(\\phi \\right)}}{\\rho}\\\\0\\end{matrix}\\right]$"
      ],
      "text/plain": [
       "<IPython.core.display.Math object>"
      ]
     },
     "metadata": {},
     "output_type": "display_data"
    }
   ],
   "source": [
    "vp, ll, orig = aa.vec_components_and_length(V)\n",
    "ws.pp(vp)"
   ]
  },
  {
   "cell_type": "code",
   "execution_count": 56,
   "id": "e51bba5f-ccad-4ddc-96ab-a48662216b05",
   "metadata": {},
   "outputs": [
    {
     "data": {
      "text/latex": [
       "$\\displaystyle \\left[\\begin{matrix}9 x^{2} + 16 y^{2}\\end{matrix}\\right]$"
      ],
      "text/plain": [
       "<IPython.core.display.Math object>"
      ]
     },
     "metadata": {},
     "output_type": "display_data"
    }
   ],
   "source": [
    "ws.pp(ll)"
   ]
  },
  {
   "cell_type": "code",
   "execution_count": 57,
   "id": "196b2dee-e4c9-489b-bac2-411cceecd6fe",
   "metadata": {},
   "outputs": [
    {
     "data": {
      "text/latex": [
       "$\\displaystyle \\left[\\begin{matrix}9 x^{2} + 16 y^{2}\\end{matrix}\\right]$"
      ],
      "text/plain": [
       "<IPython.core.display.Math object>"
      ]
     },
     "metadata": {},
     "output_type": "display_data"
    }
   ],
   "source": [
    "ws.pp(orig)"
   ]
  },
  {
   "cell_type": "markdown",
   "id": "5a700d6d-361b-4012-bd6b-3a6048bfebde",
   "metadata": {},
   "source": [
    "# 3D Cartesian coordinates"
   ]
  },
  {
   "cell_type": "code",
   "execution_count": 58,
   "id": "821033cf-be12-4516-b5f3-48b9a37fc29f",
   "metadata": {},
   "outputs": [],
   "source": [
    "x, y, z          = sy.symbols('x y z', real=True)\n",
    "X, Y, Z          = sy.symbols('X, Y, Z', real=True)\n",
    "orig_coords      = (x, y, z)\n",
    "primed_coords    = (X, Y, Z)\n",
    "orig_from_primed = (X, Y, Z)"
   ]
  },
  {
   "cell_type": "code",
   "execution_count": 59,
   "id": "da86dccd-ff61-4247-8d8c-bc3cb0c31ef1",
   "metadata": {},
   "outputs": [
    {
     "data": {
      "text/latex": [
       "$\\displaystyle \\left[\\begin{matrix}0\\\\- X^{2}\\\\0\\end{matrix}\\right]$"
      ],
      "text/plain": [
       "Matrix([\n",
       "[    0],\n",
       "[-X**2],\n",
       "[    0]])"
      ]
     },
     "execution_count": 59,
     "metadata": {},
     "output_type": "execute_result"
    }
   ],
   "source": [
    "# an example vector field\n",
    "f, g, h = sy.symbols('f g h', cls=sy.Function)\n",
    "f, g, h = [Y, -X, 0]\n",
    "V1 = sy.Matrix((f, g, h))\n",
    "f, g, h = [0, -X**2, 0]\n",
    "V2 = sy.Matrix((f, g, h))"
   ]
  },
  {
   "cell_type": "code",
   "execution_count": 60,
   "id": "a64e2b43-ee45-4426-8a92-8ef8a08b25ee",
   "metadata": {},
   "outputs": [],
   "source": [
    "zz = ws.Operators(orig_coords, primed_coords, orig_from_primed)"
   ]
  },
  {
   "cell_type": "code",
   "execution_count": 61,
   "id": "f7c07f33-6d9b-4ed5-8d95-29bfc60be642",
   "metadata": {},
   "outputs": [
    {
     "data": {
      "text/latex": [
       "$\\displaystyle \\left[\\begin{matrix}0\\\\0\\\\-2\\end{matrix}\\right]$"
      ],
      "text/plain": [
       "Matrix([\n",
       "[ 0],\n",
       "[ 0],\n",
       "[-2]])"
      ]
     },
     "execution_count": 61,
     "metadata": {},
     "output_type": "execute_result"
    }
   ],
   "source": [
    "zz.curl(V1) # curl should be -2 in Z direction: see https://en.wikipedia.org/wiki/Curl_(mathematics)"
   ]
  },
  {
   "cell_type": "code",
   "execution_count": 62,
   "id": "aad03040-b101-4d3d-963a-7f5cfe9c02af",
   "metadata": {},
   "outputs": [
    {
     "data": {
      "text/latex": [
       "$\\displaystyle \\left[\\begin{matrix}0\\\\0\\\\- 2 X\\end{matrix}\\right]$"
      ],
      "text/plain": [
       "Matrix([\n",
       "[   0],\n",
       "[   0],\n",
       "[-2*X]])"
      ]
     },
     "execution_count": 62,
     "metadata": {},
     "output_type": "execute_result"
    }
   ],
   "source": [
    "zz.curl(V2) # curl should be -2X in the Z direction"
   ]
  },
  {
   "cell_type": "code",
   "execution_count": 63,
   "id": "f8057eb1-0d68-497d-8417-480b283a51d1",
   "metadata": {},
   "outputs": [
    {
     "data": {
      "text/latex": [
       "$\\displaystyle \\left[\\begin{matrix}1 & 0 & 0\\\\0 & 1 & 0\\\\0 & 0 & 1\\end{matrix}\\right]$"
      ],
      "text/plain": [
       "Matrix([\n",
       "[1, 0, 0],\n",
       "[0, 1, 0],\n",
       "[0, 0, 1]])"
      ]
     },
     "execution_count": 63,
     "metadata": {},
     "output_type": "execute_result"
    }
   ],
   "source": [
    "zz.metric"
   ]
  },
  {
   "cell_type": "code",
   "execution_count": 64,
   "id": "8bf73f2c-24df-4d2a-8904-17500621e7c5",
   "metadata": {},
   "outputs": [
    {
     "data": {
      "text/latex": [
       "$\\displaystyle \\left[\\begin{matrix}\\hat{\\mathbf{e_x}}\\\\\\hat{\\mathbf{e_y}}\\\\\\hat{\\mathbf{e_z}}\\end{matrix}\\right]$"
      ],
      "text/plain": [
       "Matrix([\n",
       "[\\hat{\\mathbf{e_x}}],\n",
       "[\\hat{\\mathbf{e_y}}],\n",
       "[\\hat{\\mathbf{e_z}}]])"
      ]
     },
     "execution_count": 64,
     "metadata": {},
     "output_type": "execute_result"
    }
   ],
   "source": [
    "zz.Z"
   ]
  },
  {
   "cell_type": "code",
   "execution_count": 65,
   "id": "cf36857c-896e-4bc7-b931-b0d622eef064",
   "metadata": {},
   "outputs": [
    {
     "data": {
      "text/latex": [
       "$\\displaystyle \\left[\\begin{matrix}\\hat{\\mathbf{e_X}}\\\\\\hat{\\mathbf{e_Y}}\\\\\\hat{\\mathbf{e_Z}}\\end{matrix}\\right]$"
      ],
      "text/plain": [
       "Matrix([\n",
       "[\\hat{\\mathbf{e_X}}],\n",
       "[\\hat{\\mathbf{e_Y}}],\n",
       "[\\hat{\\mathbf{e_Z}}]])"
      ]
     },
     "execution_count": 65,
     "metadata": {},
     "output_type": "execute_result"
    }
   ],
   "source": [
    "zz.Zp"
   ]
  },
  {
   "cell_type": "code",
   "execution_count": 66,
   "id": "a4958d83-b77e-4abb-9df6-417e1b61547d",
   "metadata": {},
   "outputs": [
    {
     "data": {
      "text/latex": [
       "$\\displaystyle \\left[\\begin{matrix}\\hat{\\mathbf{e_X}} \\frac{\\partial}{\\partial X} F{\\left(X,Y,Z \\right)} + \\hat{\\mathbf{e_Y}} \\frac{\\partial}{\\partial Y} F{\\left(X,Y,Z \\right)} + \\hat{\\mathbf{e_Z}} \\frac{\\partial}{\\partial Z} F{\\left(X,Y,Z \\right)}\\end{matrix}\\right]$"
      ],
      "text/plain": [
       "Matrix([[\\hat{\\mathbf{e_X}}*Derivative(F(X, Y, Z), X) + \\hat{\\mathbf{e_Y}}*Derivative(F(X, Y, Z), Y) + \\hat{\\mathbf{e_Z}}*Derivative(F(X, Y, Z), Z)]])"
      ]
     },
     "execution_count": 66,
     "metadata": {},
     "output_type": "execute_result"
    }
   ],
   "source": [
    "zz.gradient(vector=False)"
   ]
  },
  {
   "cell_type": "code",
   "execution_count": 67,
   "id": "099ada48-95cb-4dd3-8e29-d5d1917fa270",
   "metadata": {},
   "outputs": [
    {
     "data": {
      "text/latex": [
       "$\\displaystyle \\left[\\begin{matrix}\\frac{\\partial}{\\partial X} F{\\left(X,Y,Z \\right)}\\\\\\frac{\\partial}{\\partial Y} F{\\left(X,Y,Z \\right)}\\\\\\frac{\\partial}{\\partial Z} F{\\left(X,Y,Z \\right)}\\end{matrix}\\right]$"
      ],
      "text/plain": [
       "Matrix([\n",
       "[Derivative(F(X, Y, Z), X)],\n",
       "[Derivative(F(X, Y, Z), Y)],\n",
       "[Derivative(F(X, Y, Z), Z)]])"
      ]
     },
     "execution_count": 67,
     "metadata": {},
     "output_type": "execute_result"
    }
   ],
   "source": [
    "zz.gradient()"
   ]
  },
  {
   "cell_type": "code",
   "execution_count": 68,
   "id": "499dc363-7794-4c57-be96-044aa7635c08",
   "metadata": {},
   "outputs": [
    {
     "data": {
      "text/latex": [
       "$\\displaystyle \\frac{\\partial}{\\partial X} \\operatorname{V_{X}}{\\left(X,Y,Z \\right)} + \\frac{\\partial}{\\partial Y} \\operatorname{V_{Y}}{\\left(X,Y,Z \\right)} + \\frac{\\partial}{\\partial Z} \\operatorname{V_{Z}}{\\left(X,Y,Z \\right)}$"
      ],
      "text/plain": [
       "Derivative(V_X(X, Y, Z), X) + Derivative(V_Y(X, Y, Z), Y) + Derivative(V_Z(X, Y, Z), Z)"
      ]
     },
     "execution_count": 68,
     "metadata": {},
     "output_type": "execute_result"
    }
   ],
   "source": [
    "zz.divergence()"
   ]
  },
  {
   "cell_type": "code",
   "execution_count": 69,
   "id": "bd5ffb7c-ac25-4bed-83f8-30d894be8398",
   "metadata": {},
   "outputs": [
    {
     "data": {
      "text/latex": [
       "$\\displaystyle \\left[\\begin{matrix}- \\frac{\\partial}{\\partial Z} \\operatorname{V_{Y}}{\\left(X,Y,Z \\right)} + \\frac{\\partial}{\\partial Y} \\operatorname{V_{Z}}{\\left(X,Y,Z \\right)}\\\\\\frac{\\partial}{\\partial Z} \\operatorname{V_{X}}{\\left(X,Y,Z \\right)} - \\frac{\\partial}{\\partial X} \\operatorname{V_{Z}}{\\left(X,Y,Z \\right)}\\\\- \\frac{\\partial}{\\partial Y} \\operatorname{V_{X}}{\\left(X,Y,Z \\right)} + \\frac{\\partial}{\\partial X} \\operatorname{V_{Y}}{\\left(X,Y,Z \\right)}\\end{matrix}\\right]$"
      ],
      "text/plain": [
       "Matrix([\n",
       "[-Derivative(V_Y(X, Y, Z), Z) + Derivative(V_Z(X, Y, Z), Y)],\n",
       "[ Derivative(V_X(X, Y, Z), Z) - Derivative(V_Z(X, Y, Z), X)],\n",
       "[-Derivative(V_X(X, Y, Z), Y) + Derivative(V_Y(X, Y, Z), X)]])"
      ]
     },
     "execution_count": 69,
     "metadata": {},
     "output_type": "execute_result"
    }
   ],
   "source": [
    "zz.curl()"
   ]
  },
  {
   "cell_type": "code",
   "execution_count": 70,
   "id": "a9e0f65a-3157-4750-bf75-c261aeddb660",
   "metadata": {},
   "outputs": [
    {
     "data": {
      "text/latex": [
       "$\\displaystyle \\frac{\\partial^{2}}{\\partial X^{2}} F{\\left(X,Y,Z \\right)} + \\frac{\\partial^{2}}{\\partial Y^{2}} F{\\left(X,Y,Z \\right)} + \\frac{\\partial^{2}}{\\partial Z^{2}} F{\\left(X,Y,Z \\right)}$"
      ],
      "text/plain": [
       "Derivative(F(X, Y, Z), (X, 2)) + Derivative(F(X, Y, Z), (Y, 2)) + Derivative(F(X, Y, Z), (Z, 2))"
      ]
     },
     "execution_count": 70,
     "metadata": {},
     "output_type": "execute_result"
    }
   ],
   "source": [
    "zz.Laplacian_scalar()"
   ]
  },
  {
   "cell_type": "code",
   "execution_count": 71,
   "id": "9cb745a1-1547-436f-be76-25a7400988be",
   "metadata": {},
   "outputs": [
    {
     "data": {
      "text/latex": [
       "$\\displaystyle \\left[\\begin{matrix}\\frac{\\partial^{2}}{\\partial X^{2}} \\operatorname{V_{X}}{\\left(X,Y,Z \\right)} + \\frac{\\partial^{2}}{\\partial Y^{2}} \\operatorname{V_{X}}{\\left(X,Y,Z \\right)} + \\frac{\\partial^{2}}{\\partial Z^{2}} \\operatorname{V_{X}}{\\left(X,Y,Z \\right)}\\\\\\frac{\\partial^{2}}{\\partial X^{2}} \\operatorname{V_{Y}}{\\left(X,Y,Z \\right)} + \\frac{\\partial^{2}}{\\partial Y^{2}} \\operatorname{V_{Y}}{\\left(X,Y,Z \\right)} + \\frac{\\partial^{2}}{\\partial Z^{2}} \\operatorname{V_{Y}}{\\left(X,Y,Z \\right)}\\\\\\frac{\\partial^{2}}{\\partial X^{2}} \\operatorname{V_{Z}}{\\left(X,Y,Z \\right)} + \\frac{\\partial^{2}}{\\partial Y^{2}} \\operatorname{V_{Z}}{\\left(X,Y,Z \\right)} + \\frac{\\partial^{2}}{\\partial Z^{2}} \\operatorname{V_{Z}}{\\left(X,Y,Z \\right)}\\end{matrix}\\right]$"
      ],
      "text/plain": [
       "Matrix([\n",
       "[Derivative(V_X(X, Y, Z), (X, 2)) + Derivative(V_X(X, Y, Z), (Y, 2)) + Derivative(V_X(X, Y, Z), (Z, 2))],\n",
       "[Derivative(V_Y(X, Y, Z), (X, 2)) + Derivative(V_Y(X, Y, Z), (Y, 2)) + Derivative(V_Y(X, Y, Z), (Z, 2))],\n",
       "[Derivative(V_Z(X, Y, Z), (X, 2)) + Derivative(V_Z(X, Y, Z), (Y, 2)) + Derivative(V_Z(X, Y, Z), (Z, 2))]])"
      ]
     },
     "execution_count": 71,
     "metadata": {},
     "output_type": "execute_result"
    }
   ],
   "source": [
    "zz.Laplacian_vector_full()"
   ]
  },
  {
   "cell_type": "code",
   "execution_count": 72,
   "id": "36c389cc-405d-4762-bb07-9538f7a095e3",
   "metadata": {},
   "outputs": [
    {
     "data": {
      "text/latex": [
       "$\\displaystyle \\left[\\begin{matrix}\\nabla^{2}{\\left(\\operatorname{V_{X}}{\\left(X,Y,Z \\right)} \\right)}\\\\\\nabla^{2}{\\left(\\operatorname{V_{Y}}{\\left(X,Y,Z \\right)} \\right)}\\\\\\nabla^{2}{\\left(\\operatorname{V_{Z}}{\\left(X,Y,Z \\right)} \\right)}\\end{matrix}\\right]$"
      ],
      "text/plain": [
       "Matrix([\n",
       "[\\nabla^{2}(V_X(X, Y, Z))],\n",
       "[\\nabla^{2}(V_Y(X, Y, Z))],\n",
       "[\\nabla^{2}(V_Z(X, Y, Z))]])"
      ]
     },
     "execution_count": 72,
     "metadata": {},
     "output_type": "execute_result"
    }
   ],
   "source": [
    "zz.Laplacian_vector_reduced()"
   ]
  },
  {
   "cell_type": "code",
   "execution_count": null,
   "id": "acd460e1-e9a4-4157-a99c-c2e0dbb95275",
   "metadata": {},
   "outputs": [],
   "source": []
  }
 ],
 "metadata": {
  "kernelspec": {
   "display_name": "Python 3 (ipykernel)",
   "language": "python",
   "name": "python3"
  },
  "language_info": {
   "codemirror_mode": {
    "name": "ipython",
    "version": 3
   },
   "file_extension": ".py",
   "mimetype": "text/x-python",
   "name": "python",
   "nbconvert_exporter": "python",
   "pygments_lexer": "ipython3",
   "version": "3.10.4"
  }
 },
 "nbformat": 4,
 "nbformat_minor": 5
}
