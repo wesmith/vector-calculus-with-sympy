{
 "cells": [
  {
   "cell_type": "markdown",
   "id": "58db5a3f-ec97-4b64-bf6f-fbba0e568f64",
   "metadata": {},
   "source": [
    "# <center>spherical_demo.ipynb\n",
    "<h1> <center>WESmith 06/29/22"
   ]
  },
  {
   "cell_type": "code",
   "execution_count": 1,
   "id": "9901cabd-ed09-4ae3-b550-5be27c287c3c",
   "metadata": {},
   "outputs": [],
   "source": [
    "import operator_utils as ws\n",
    "import sympy as sy"
   ]
  },
  {
   "cell_type": "markdown",
   "id": "f6784c97-e3b3-4525-a509-245cfb3059bd",
   "metadata": {},
   "source": [
    "# <center> 3D spherical coordinates </center>"
   ]
  },
  {
   "cell_type": "code",
   "execution_count": 2,
   "id": "bc57c231-2e99-4e8f-b586-0bfa6740a37e",
   "metadata": {},
   "outputs": [],
   "source": [
    "aa = ws.coord_xforms()\n",
    "dd = ws.Operators(aa['spherical_3d'])"
   ]
  },
  {
   "cell_type": "code",
   "execution_count": 3,
   "id": "67fb84e3-2496-41f7-ae4d-a4318546fa9d",
   "metadata": {},
   "outputs": [
    {
     "data": {
      "text/markdown": [
       "# <center> The transform used in spherical_3d coordinates: </center>\n",
       "## $$ \\left( x, \\  y, \\  z\\right) = \\left( r \\sin{\\left(\\theta \\right)} \\cos{\\left(\\phi \\right)}, \\  r \\sin{\\left(\\phi \\right)} \\sin{\\left(\\theta \\right)}, \\  r \\cos{\\left(\\theta \\right)}\\right) $$"
      ],
      "text/plain": [
       "<IPython.core.display.Markdown object>"
      ]
     },
     "execution_count": 3,
     "metadata": {},
     "output_type": "execute_result"
    }
   ],
   "source": [
    "title = 'The transform used in {} coordinates:'.format(dd.name)\n",
    "ws.latex_block(dd.transform, title=title, center=True, lhs=dd.coords, h_title=1, h_eq=2)"
   ]
  },
  {
   "cell_type": "code",
   "execution_count": 4,
   "id": "bb3d974e-fe2b-48cd-a95d-7ff1ab4144f3",
   "metadata": {},
   "outputs": [
    {
     "data": {
      "text/markdown": [
       "# <center> The Jacobian in spherical_3d coordinates: </center>\n",
       "#### $$ \\mathtt{\\text{J}} = \\left[\\begin{matrix}\\sin{\\left(\\theta \\right)} \\cos{\\left(\\phi \\right)} & r \\cos{\\left(\\phi \\right)} \\cos{\\left(\\theta \\right)} & - r \\sin{\\left(\\phi \\right)} \\sin{\\left(\\theta \\right)}\\\\\\sin{\\left(\\phi \\right)} \\sin{\\left(\\theta \\right)} & r \\sin{\\left(\\phi \\right)} \\cos{\\left(\\theta \\right)} & r \\sin{\\left(\\theta \\right)} \\cos{\\left(\\phi \\right)}\\\\\\cos{\\left(\\theta \\right)} & - r \\sin{\\left(\\theta \\right)} & 0\\end{matrix}\\right] $$"
      ],
      "text/plain": [
       "<IPython.core.display.Markdown object>"
      ]
     },
     "execution_count": 4,
     "metadata": {},
     "output_type": "execute_result"
    }
   ],
   "source": [
    "ws.latex_block(dd.Jacobian, title='The Jacobian in {} coordinates:'.format(dd.name), lhs='J')"
   ]
  },
  {
   "cell_type": "code",
   "execution_count": 5,
   "id": "02042e1c-1ca8-4436-ba39-93e06db3c84d",
   "metadata": {},
   "outputs": [
    {
     "data": {
      "text/markdown": [
       "# <center> The inverse Jacobian in spherical_3d coordinates: </center>\n",
       "### $$ \\mathtt{\\text{inv(J)}} = \\left[\\begin{matrix}\\sin{\\left(\\theta \\right)} \\cos{\\left(\\phi \\right)} & \\sin{\\left(\\phi \\right)} \\sin{\\left(\\theta \\right)} & \\cos{\\left(\\theta \\right)}\\\\\\frac{\\cos{\\left(\\phi \\right)} \\cos{\\left(\\theta \\right)}}{r} & \\frac{\\sin{\\left(\\phi \\right)} \\cos{\\left(\\theta \\right)}}{r} & - \\frac{\\sin{\\left(\\theta \\right)}}{r}\\\\- \\frac{\\sin{\\left(\\phi \\right)}}{r \\sin{\\left(\\theta \\right)}} & \\frac{\\cos{\\left(\\phi \\right)}}{r \\sin{\\left(\\theta \\right)}} & 0\\end{matrix}\\right] $$"
      ],
      "text/plain": [
       "<IPython.core.display.Markdown object>"
      ]
     },
     "execution_count": 5,
     "metadata": {},
     "output_type": "execute_result"
    }
   ],
   "source": [
    "# simp() reduces expressions element-by-element\n",
    "ws.latex_block(ws.simp(dd.Jacobian_inv), title='The inverse Jacobian in {} coordinates:'.format(dd.name), lhs='inv(J)', h_eq=3)"
   ]
  },
  {
   "cell_type": "code",
   "execution_count": 6,
   "id": "6c5915fa-9593-4322-bf4b-7ee0e1c88bc9",
   "metadata": {},
   "outputs": [
    {
     "data": {
      "text/markdown": [
       "# <center> The primed basis in spherical_3d coordinates: </center>\n",
       "### $$ \\left[\\begin{matrix}\\hat{\\mathbf{e_r}}\\\\\\hat{\\mathbf{e_\\theta}}\\\\\\hat{\\mathbf{e_\\phi}}\\end{matrix}\\right] = \\left[\\begin{matrix}\\hat{\\mathbf{e_x}} \\sin{\\left(\\theta \\right)} \\cos{\\left(\\phi \\right)} + \\hat{\\mathbf{e_y}} \\sin{\\left(\\phi \\right)} \\sin{\\left(\\theta \\right)} + \\hat{\\mathbf{e_z}} \\cos{\\left(\\theta \\right)}\\\\\\hat{\\mathbf{e_x}} \\cos{\\left(\\phi \\right)} \\cos{\\left(\\theta \\right)} + \\hat{\\mathbf{e_y}} \\sin{\\left(\\phi \\right)} \\cos{\\left(\\theta \\right)} - \\hat{\\mathbf{e_z}} \\sin{\\left(\\theta \\right)}\\\\- \\hat{\\mathbf{e_x}} \\sin{\\left(\\phi \\right)} + \\hat{\\mathbf{e_y}} \\cos{\\left(\\phi \\right)}\\end{matrix}\\right] $$"
      ],
      "text/plain": [
       "<IPython.core.display.Markdown object>"
      ]
     },
     "execution_count": 6,
     "metadata": {},
     "output_type": "execute_result"
    }
   ],
   "source": [
    "title = 'The primed basis in {} coordinates:'.format(dd.name)\n",
    "ws.latex_block(dd.primed_basis, title=title, lhs=dd.Zp, center=True, h_title=1, h_eq=3)"
   ]
  },
  {
   "cell_type": "code",
   "execution_count": 7,
   "id": "c704ef2f-fb80-413b-9706-49f0fd53e93a",
   "metadata": {},
   "outputs": [
    {
     "data": {
      "text/markdown": [
       "# <center> The metric in spherical_3d coordinates: </center>\n",
       "### $$ \\mathtt{\\text{g}} = \\left[\\begin{matrix}1 & 0 & 0\\\\0 & r^{2} & 0\\\\0 & 0 & r^{2} \\sin^{2}{\\left(\\theta \\right)}\\end{matrix}\\right] $$"
      ],
      "text/plain": [
       "<IPython.core.display.Markdown object>"
      ]
     },
     "execution_count": 7,
     "metadata": {},
     "output_type": "execute_result"
    }
   ],
   "source": [
    "ws.latex_block(dd.metric, title='The metric in {} coordinates:'.format(dd.name), lhs='g', h_title=1, h_eq=3)"
   ]
  },
  {
   "cell_type": "code",
   "execution_count": 8,
   "id": "6a900b08-ea2a-4d34-866a-3d2164e4d773",
   "metadata": {},
   "outputs": [
    {
     "data": {
      "text/markdown": [
       "# <center> The inverse metric in spherical_3d coordinates: </center>\n",
       "### $$ \\mathtt{\\text{inv(g)}} = \\left[\\begin{matrix}1 & 0 & 0\\\\0 & \\frac{1}{r^{2}} & 0\\\\0 & 0 & \\frac{1}{r^{2} \\sin^{2}{\\left(\\theta \\right)}}\\end{matrix}\\right] $$"
      ],
      "text/plain": [
       "<IPython.core.display.Markdown object>"
      ]
     },
     "execution_count": 8,
     "metadata": {},
     "output_type": "execute_result"
    }
   ],
   "source": [
    "ws.latex_block(dd.metric_inv, title='The inverse metric in {} coordinates:'.format(dd.name), lhs='inv(g)', h_title=1, h_eq=3)"
   ]
  },
  {
   "cell_type": "code",
   "execution_count": 9,
   "id": "9cecb96f-4cc8-4ef2-a023-09a7605ad4eb",
   "metadata": {},
   "outputs": [
    {
     "data": {
      "text/markdown": [
       "# <center> The gradient of a general scalar field in spherical_3d coordinates: </center>\n",
       "### $$ \\nabla{\\left(F{\\left(r,\\theta,\\phi \\right)} \\right)} = \\left[\\begin{matrix}\\frac{\\partial}{\\partial r} F{\\left(r,\\theta,\\phi \\right)}\\\\\\frac{\\frac{\\partial}{\\partial \\theta} F{\\left(r,\\theta,\\phi \\right)}}{r}\\\\\\frac{\\frac{\\partial}{\\partial \\phi} F{\\left(r,\\theta,\\phi \\right)}}{r \\sin{\\left(\\theta \\right)}}\\end{matrix}\\right] $$"
      ],
      "text/plain": [
       "<IPython.core.display.Markdown object>"
      ]
     },
     "execution_count": 9,
     "metadata": {},
     "output_type": "execute_result"
    }
   ],
   "source": [
    "fname = dd._scalar_field('F')\n",
    "LHS = dd.gradient_symbolic(fname)\n",
    "title='The gradient of a general scalar field in {} coordinates:'.format(dd.name)\n",
    "ws.latex_block(dd.gradient(fname), title=title, lhs=LHS, h_title=1, h_eq=3)"
   ]
  },
  {
   "cell_type": "code",
   "execution_count": 10,
   "id": "5364866f-7b6f-4db8-a077-3c7cd88c21a7",
   "metadata": {},
   "outputs": [
    {
     "data": {
      "text/markdown": [
       "# <center> The gradient represented in the spherical_3d basis: </center>\n",
       "### $$ \\nabla{\\left(F{\\left(r,\\theta,\\phi \\right)} \\right)} = \\left[\\begin{matrix}\\frac{\\hat{\\mathbf{e_\\phi}} \\frac{\\partial}{\\partial \\phi} F{\\left(r,\\theta,\\phi \\right)}}{r \\sin{\\left(\\theta \\right)}} + \\frac{\\hat{\\mathbf{e_\\theta}} \\frac{\\partial}{\\partial \\theta} F{\\left(r,\\theta,\\phi \\right)}}{r} + \\hat{\\mathbf{e_r}} \\frac{\\partial}{\\partial r} F{\\left(r,\\theta,\\phi \\right)}\\end{matrix}\\right] $$"
      ],
      "text/plain": [
       "<IPython.core.display.Markdown object>"
      ]
     },
     "execution_count": 10,
     "metadata": {},
     "output_type": "execute_result"
    }
   ],
   "source": [
    "title = 'The gradient represented in the {} basis:'.format(dd.name)\n",
    "ws.latex_block(dd.gradient(fname, vector=False), title=title, lhs=LHS, h_title=1, h_eq=3)"
   ]
  },
  {
   "cell_type": "code",
   "execution_count": 11,
   "id": "d29cbbf8-32f3-4da6-8cf6-84234cbdf09e",
   "metadata": {},
   "outputs": [
    {
     "data": {
      "text/markdown": [
       "# <center> The divergence of a general vector field in spherical_3d coordinates: </center>\n",
       "#### $$ \\nabla\\bullet{\\left(\\left[\\begin{matrix}\\operatorname{V_{r}}{\\left(r,\\theta,\\phi \\right)}\\\\\\operatorname{V_{\\theta}}{\\left(r,\\theta,\\phi \\right)}\\\\\\operatorname{V_{\\phi}}{\\left(r,\\theta,\\phi \\right)}\\end{matrix}\\right] \\right)} = \\frac{\\partial}{\\partial r} \\operatorname{V_{r}}{\\left(r,\\theta,\\phi \\right)} + \\frac{\\operatorname{V_{\\theta}}{\\left(r,\\theta,\\phi \\right)} \\cos{\\left(\\theta \\right)}}{r \\sin{\\left(\\theta \\right)}} + \\frac{2 \\operatorname{V_{r}}{\\left(r,\\theta,\\phi \\right)}}{r} + \\frac{\\frac{\\partial}{\\partial \\theta} \\operatorname{V_{\\theta}}{\\left(r,\\theta,\\phi \\right)}}{r} + \\frac{\\frac{\\partial}{\\partial \\phi} \\operatorname{V_{\\phi}}{\\left(r,\\theta,\\phi \\right)}}{r \\sin{\\left(\\theta \\right)}} $$"
      ],
      "text/plain": [
       "<IPython.core.display.Markdown object>"
      ]
     },
     "execution_count": 11,
     "metadata": {},
     "output_type": "execute_result"
    }
   ],
   "source": [
    "vname = dd._vector_field()\n",
    "LHS   = dd.divergence_symbolic(vname)\n",
    "title = 'The divergence of a general vector field in {} coordinates:'.format(dd.name)\n",
    "ws.latex_block(dd.divergence(vname), title=title, lhs=LHS, h_title=1, h_eq=4)"
   ]
  },
  {
   "cell_type": "code",
   "execution_count": 12,
   "id": "d68d1ca6-41b5-46f3-9860-d35ad395a96b",
   "metadata": {},
   "outputs": [
    {
     "data": {
      "text/markdown": [
       "# <center> The curl of a general vector field in spherical_3d coordinates: </center>\n",
       "#### $$ \\nabla\\times{\\left(\\left[\\begin{matrix}\\operatorname{V_{r}}{\\left(r,\\theta,\\phi \\right)}\\\\\\operatorname{V_{\\theta}}{\\left(r,\\theta,\\phi \\right)}\\\\\\operatorname{V_{\\phi}}{\\left(r,\\theta,\\phi \\right)}\\end{matrix}\\right] \\right)} = \\left[\\begin{matrix}\\frac{\\operatorname{V_{\\phi}}{\\left(r,\\theta,\\phi \\right)} \\cos{\\left(\\theta \\right)}}{r \\sin{\\left(\\theta \\right)}} + \\frac{\\frac{\\partial}{\\partial \\theta} \\operatorname{V_{\\phi}}{\\left(r,\\theta,\\phi \\right)}}{r} - \\frac{\\frac{\\partial}{\\partial \\phi} \\operatorname{V_{\\theta}}{\\left(r,\\theta,\\phi \\right)}}{r \\sin{\\left(\\theta \\right)}}\\\\- \\frac{\\partial}{\\partial r} \\operatorname{V_{\\phi}}{\\left(r,\\theta,\\phi \\right)} - \\frac{\\operatorname{V_{\\phi}}{\\left(r,\\theta,\\phi \\right)}}{r} + \\frac{\\frac{\\partial}{\\partial \\phi} \\operatorname{V_{r}}{\\left(r,\\theta,\\phi \\right)}}{r \\sin{\\left(\\theta \\right)}}\\\\\\frac{\\partial}{\\partial r} \\operatorname{V_{\\theta}}{\\left(r,\\theta,\\phi \\right)} + \\frac{\\operatorname{V_{\\theta}}{\\left(r,\\theta,\\phi \\right)}}{r} - \\frac{\\frac{\\partial}{\\partial \\theta} \\operatorname{V_{r}}{\\left(r,\\theta,\\phi \\right)}}{r}\\end{matrix}\\right] $$"
      ],
      "text/plain": [
       "<IPython.core.display.Markdown object>"
      ]
     },
     "execution_count": 12,
     "metadata": {},
     "output_type": "execute_result"
    }
   ],
   "source": [
    "LHS   = dd.curl_symbolic(vname)\n",
    "title = 'The curl of a general vector field in {} coordinates:'.format(dd.name)\n",
    "ws.latex_block(dd.curl(vname), title=title, lhs=LHS, h_title=1, h_eq=4)"
   ]
  },
  {
   "cell_type": "code",
   "execution_count": 13,
   "id": "87461bae-e751-4058-84e6-ac601c919256",
   "metadata": {},
   "outputs": [
    {
     "data": {
      "text/markdown": [
       "# <center> The curl of a general vector field represented in the spherical_3d basis: </center>\n",
       "#### $$ \\nabla\\times{\\left(\\left[\\begin{matrix}\\operatorname{V_{r}}{\\left(r,\\theta,\\phi \\right)}\\\\\\operatorname{V_{\\theta}}{\\left(r,\\theta,\\phi \\right)}\\\\\\operatorname{V_{\\phi}}{\\left(r,\\theta,\\phi \\right)}\\end{matrix}\\right] \\right)} = \\left[\\begin{matrix}\\hat{\\mathbf{e_\\phi}} \\left(\\frac{\\partial}{\\partial r} \\operatorname{V_{\\theta}}{\\left(r,\\theta,\\phi \\right)} + \\frac{\\operatorname{V_{\\theta}}{\\left(r,\\theta,\\phi \\right)}}{r} - \\frac{\\frac{\\partial}{\\partial \\theta} \\operatorname{V_{r}}{\\left(r,\\theta,\\phi \\right)}}{r}\\right) + \\hat{\\mathbf{e_\\theta}} \\left(- \\frac{\\partial}{\\partial r} \\operatorname{V_{\\phi}}{\\left(r,\\theta,\\phi \\right)} - \\frac{\\operatorname{V_{\\phi}}{\\left(r,\\theta,\\phi \\right)}}{r} + \\frac{\\frac{\\partial}{\\partial \\phi} \\operatorname{V_{r}}{\\left(r,\\theta,\\phi \\right)}}{r \\sin{\\left(\\theta \\right)}}\\right) + \\hat{\\mathbf{e_r}} \\left(\\frac{\\operatorname{V_{\\phi}}{\\left(r,\\theta,\\phi \\right)} \\cos{\\left(\\theta \\right)}}{r \\sin{\\left(\\theta \\right)}} + \\frac{\\frac{\\partial}{\\partial \\theta} \\operatorname{V_{\\phi}}{\\left(r,\\theta,\\phi \\right)}}{r} - \\frac{\\frac{\\partial}{\\partial \\phi} \\operatorname{V_{\\theta}}{\\left(r,\\theta,\\phi \\right)}}{r \\sin{\\left(\\theta \\right)}}\\right)\\end{matrix}\\right] $$"
      ],
      "text/plain": [
       "<IPython.core.display.Markdown object>"
      ]
     },
     "execution_count": 13,
     "metadata": {},
     "output_type": "execute_result"
    }
   ],
   "source": [
    "LHS   = dd.curl_symbolic(vname)\n",
    "title = 'The curl of a general vector field represented in the {} basis:'.format(dd.name)\n",
    "ws.latex_block(dd.curl(vname, vector=False), title=title, lhs=LHS, h_title=1, h_eq=4)"
   ]
  },
  {
   "cell_type": "code",
   "execution_count": 14,
   "id": "269eebaf-2bfa-43cb-90cd-22533b5a102d",
   "metadata": {},
   "outputs": [
    {
     "data": {
      "text/markdown": [
       "# <center> The Laplacian of a general scalar field represented in spherical_3d coordinates: </center>\n",
       "### $$ \\nabla^{2}{\\left(F{\\left(r,\\theta,\\phi \\right)} \\right)} = \\frac{\\partial^{2}}{\\partial r^{2}} F{\\left(r,\\theta,\\phi \\right)} + \\frac{2 \\frac{\\partial}{\\partial r} F{\\left(r,\\theta,\\phi \\right)}}{r} + \\frac{\\frac{\\partial^{2}}{\\partial \\theta^{2}} F{\\left(r,\\theta,\\phi \\right)}}{r^{2}} + \\frac{\\frac{\\partial}{\\partial \\theta} F{\\left(r,\\theta,\\phi \\right)}}{r^{2} \\tan{\\left(\\theta \\right)}} + \\frac{\\frac{\\partial^{2}}{\\partial \\phi^{2}} F{\\left(r,\\theta,\\phi \\right)}}{r^{2} \\sin^{2}{\\left(\\theta \\right)}} $$"
      ],
      "text/plain": [
       "<IPython.core.display.Markdown object>"
      ]
     },
     "execution_count": 14,
     "metadata": {},
     "output_type": "execute_result"
    }
   ],
   "source": [
    "LHS   = dd.Laplacian_symbolic(fname)\n",
    "title = 'The Laplacian of a general scalar field represented in {} coordinates:'.format(dd.name)\n",
    "ws.latex_block(dd.Laplacian_scalar(fname), title=title, lhs=LHS, h_title=1, h_eq=3)"
   ]
  },
  {
   "cell_type": "code",
   "execution_count": 15,
   "id": "2408144a-8e3d-4f86-939f-8ddd7b854b51",
   "metadata": {},
   "outputs": [],
   "source": [
    "r, theta, phi = dd.coords_p"
   ]
  },
  {
   "cell_type": "code",
   "execution_count": 16,
   "id": "d36038f8-b20f-4807-b520-23979f9d71ae",
   "metadata": {},
   "outputs": [],
   "source": [
    "# separable function\n",
    "f, g, h, F = sy.symbols('f g h F', cls=sy.Function)\n",
    "f = f(r)\n",
    "g = g(theta)\n",
    "h = h(phi)\n",
    "F = f * g * h"
   ]
  },
  {
   "cell_type": "code",
   "execution_count": 17,
   "id": "432468dd-74ec-433e-9b83-d067eb4c7558",
   "metadata": {},
   "outputs": [
    {
     "data": {
      "text/markdown": [
       "# <center> The Laplacian of a separable scalar field in spherical_3d coordinates </center>\n",
       "### $$ \\nabla^{2}{\\left(f{\\left(r \\right)} g{\\left(\\theta \\right)} h{\\left(\\phi \\right)} \\right)} = g{\\left(\\theta \\right)} h{\\left(\\phi \\right)} \\frac{d^{2}}{d r^{2}} f{\\left(r \\right)} + \\frac{2 g{\\left(\\theta \\right)} h{\\left(\\phi \\right)} \\frac{d}{d r} f{\\left(r \\right)}}{r} + \\frac{f{\\left(r \\right)} g{\\left(\\theta \\right)} \\frac{d^{2}}{d \\phi^{2}} h{\\left(\\phi \\right)}}{r^{2} \\sin^{2}{\\left(\\theta \\right)}} + \\frac{f{\\left(r \\right)} h{\\left(\\phi \\right)} \\frac{d^{2}}{d \\theta^{2}} g{\\left(\\theta \\right)}}{r^{2}} + \\frac{f{\\left(r \\right)} h{\\left(\\phi \\right)} \\frac{d}{d \\theta} g{\\left(\\theta \\right)}}{r^{2} \\tan{\\left(\\theta \\right)}} $$"
      ],
      "text/plain": [
       "<IPython.core.display.Markdown object>"
      ]
     },
     "execution_count": 17,
     "metadata": {},
     "output_type": "execute_result"
    }
   ],
   "source": [
    "LHS   = dd.Laplacian_symbolic(F)\n",
    "title = 'The Laplacian of a separable scalar field in {} coordinates'.format(dd.name)\n",
    "ws.latex_block(dd.Laplacian_scalar(F), title=title, lhs=dd.Laplacian_symbolic(F), h_title=1, h_eq=3)"
   ]
  },
  {
   "cell_type": "code",
   "execution_count": 18,
   "id": "14133368-4da3-4949-8f07-965c78bcaf29",
   "metadata": {},
   "outputs": [
    {
     "data": {
      "text/markdown": [
       "# <center> The Laplacian of a vector field in spherical_3d coordinates (compressed form): </center>\n",
       "### $$ \\nabla^{2}{\\left(\\left[\\begin{matrix}\\operatorname{V_{r}}{\\left(r,\\theta,\\phi \\right)}\\\\\\operatorname{V_{\\theta}}{\\left(r,\\theta,\\phi \\right)}\\\\\\operatorname{V_{\\phi}}{\\left(r,\\theta,\\phi \\right)}\\end{matrix}\\right] \\right)} = \\left[\\begin{matrix}\\nabla^{2}{\\left(\\operatorname{V_{r}}{\\left(r,\\theta,\\phi \\right)} \\right)} - \\frac{2 \\operatorname{V_{\\theta}}{\\left(r,\\theta,\\phi \\right)}}{r^{2} \\tan{\\left(\\theta \\right)}} - \\frac{2 \\operatorname{V_{r}}{\\left(r,\\theta,\\phi \\right)}}{r^{2}} - \\frac{2 \\frac{\\partial}{\\partial \\theta} \\operatorname{V_{\\theta}}{\\left(r,\\theta,\\phi \\right)}}{r^{2}} - \\frac{2 \\frac{\\partial}{\\partial \\phi} \\operatorname{V_{\\phi}}{\\left(r,\\theta,\\phi \\right)}}{r^{2} \\sin{\\left(\\theta \\right)}}\\\\\\nabla^{2}{\\left(\\operatorname{V_{\\theta}}{\\left(r,\\theta,\\phi \\right)} \\right)} - \\frac{\\operatorname{V_{\\theta}}{\\left(r,\\theta,\\phi \\right)}}{r^{2} \\sin^{2}{\\left(\\theta \\right)}} + \\frac{2 \\frac{\\partial}{\\partial \\theta} \\operatorname{V_{r}}{\\left(r,\\theta,\\phi \\right)}}{r^{2}} - \\frac{2 \\cos{\\left(\\theta \\right)} \\frac{\\partial}{\\partial \\phi} \\operatorname{V_{\\phi}}{\\left(r,\\theta,\\phi \\right)}}{r^{2} \\sin^{2}{\\left(\\theta \\right)}}\\\\\\nabla^{2}{\\left(\\operatorname{V_{\\phi}}{\\left(r,\\theta,\\phi \\right)} \\right)} - \\frac{\\operatorname{V_{\\phi}}{\\left(r,\\theta,\\phi \\right)}}{r^{2} \\sin^{2}{\\left(\\theta \\right)}} + \\frac{2 \\frac{\\partial}{\\partial \\phi} \\operatorname{V_{r}}{\\left(r,\\theta,\\phi \\right)}}{r^{2} \\sin{\\left(\\theta \\right)}} + \\frac{2 \\cos{\\left(\\theta \\right)} \\frac{\\partial}{\\partial \\phi} \\operatorname{V_{\\theta}}{\\left(r,\\theta,\\phi \\right)}}{r^{2} \\sin^{2}{\\left(\\theta \\right)}}\\end{matrix}\\right] $$"
      ],
      "text/plain": [
       "<IPython.core.display.Markdown object>"
      ]
     },
     "execution_count": 18,
     "metadata": {},
     "output_type": "execute_result"
    }
   ],
   "source": [
    "title = 'The Laplacian of a vector field in {} coordinates (compressed form):'.format(dd.name)\n",
    "ws.latex_block(dd.Laplacian_vector_reduced(vname), title=title, lhs=dd.Laplacian_symbolic(vname), h_eq=3)"
   ]
  },
  {
   "cell_type": "code",
   "execution_count": 19,
   "id": "0edcbde8-53d7-4e00-a084-6b5002a6706a",
   "metadata": {},
   "outputs": [
    {
     "data": {
      "text/markdown": [
       "# <center> The Laplacian of a vector field in spherical_3d coordinates (full form): </center>\n",
       "### $$ \\nabla^{2}{\\left(\\left[\\begin{matrix}\\operatorname{V_{r}}{\\left(r,\\theta,\\phi \\right)}\\\\\\operatorname{V_{\\theta}}{\\left(r,\\theta,\\phi \\right)}\\\\\\operatorname{V_{\\phi}}{\\left(r,\\theta,\\phi \\right)}\\end{matrix}\\right] \\right)} = \\left[\\begin{matrix}\\frac{\\partial^{2}}{\\partial r^{2}} \\operatorname{V_{r}}{\\left(r,\\theta,\\phi \\right)} + \\frac{2 \\frac{\\partial}{\\partial r} \\operatorname{V_{r}}{\\left(r,\\theta,\\phi \\right)}}{r} - \\frac{2 \\operatorname{V_{\\theta}}{\\left(r,\\theta,\\phi \\right)}}{r^{2} \\tan{\\left(\\theta \\right)}} - \\frac{2 \\operatorname{V_{r}}{\\left(r,\\theta,\\phi \\right)}}{r^{2}} - \\frac{2 \\frac{\\partial}{\\partial \\theta} \\operatorname{V_{\\theta}}{\\left(r,\\theta,\\phi \\right)}}{r^{2}} + \\frac{\\frac{\\partial^{2}}{\\partial \\theta^{2}} \\operatorname{V_{r}}{\\left(r,\\theta,\\phi \\right)}}{r^{2}} + \\frac{\\frac{\\partial}{\\partial \\theta} \\operatorname{V_{r}}{\\left(r,\\theta,\\phi \\right)}}{r^{2} \\tan{\\left(\\theta \\right)}} - \\frac{2 \\frac{\\partial}{\\partial \\phi} \\operatorname{V_{\\phi}}{\\left(r,\\theta,\\phi \\right)}}{r^{2} \\sin{\\left(\\theta \\right)}} + \\frac{\\frac{\\partial^{2}}{\\partial \\phi^{2}} \\operatorname{V_{r}}{\\left(r,\\theta,\\phi \\right)}}{r^{2} \\sin^{2}{\\left(\\theta \\right)}}\\\\\\frac{\\partial^{2}}{\\partial r^{2}} \\operatorname{V_{\\theta}}{\\left(r,\\theta,\\phi \\right)} + \\frac{2 \\frac{\\partial}{\\partial r} \\operatorname{V_{\\theta}}{\\left(r,\\theta,\\phi \\right)}}{r} - \\frac{\\operatorname{V_{\\theta}}{\\left(r,\\theta,\\phi \\right)}}{r^{2} \\sin^{2}{\\left(\\theta \\right)}} + \\frac{\\frac{\\partial^{2}}{\\partial \\theta^{2}} \\operatorname{V_{\\theta}}{\\left(r,\\theta,\\phi \\right)}}{r^{2}} + \\frac{2 \\frac{\\partial}{\\partial \\theta} \\operatorname{V_{r}}{\\left(r,\\theta,\\phi \\right)}}{r^{2}} + \\frac{\\frac{\\partial}{\\partial \\theta} \\operatorname{V_{\\theta}}{\\left(r,\\theta,\\phi \\right)}}{r^{2} \\tan{\\left(\\theta \\right)}} - \\frac{2 \\cos{\\left(\\theta \\right)} \\frac{\\partial}{\\partial \\phi} \\operatorname{V_{\\phi}}{\\left(r,\\theta,\\phi \\right)}}{r^{2} \\sin^{2}{\\left(\\theta \\right)}} + \\frac{\\frac{\\partial^{2}}{\\partial \\phi^{2}} \\operatorname{V_{\\theta}}{\\left(r,\\theta,\\phi \\right)}}{r^{2} \\sin^{2}{\\left(\\theta \\right)}}\\\\\\frac{\\partial^{2}}{\\partial r^{2}} \\operatorname{V_{\\phi}}{\\left(r,\\theta,\\phi \\right)} + \\frac{2 \\frac{\\partial}{\\partial r} \\operatorname{V_{\\phi}}{\\left(r,\\theta,\\phi \\right)}}{r} - \\frac{\\operatorname{V_{\\phi}}{\\left(r,\\theta,\\phi \\right)}}{r^{2} \\sin^{2}{\\left(\\theta \\right)}} + \\frac{\\frac{\\partial^{2}}{\\partial \\theta^{2}} \\operatorname{V_{\\phi}}{\\left(r,\\theta,\\phi \\right)}}{r^{2}} + \\frac{\\frac{\\partial}{\\partial \\theta} \\operatorname{V_{\\phi}}{\\left(r,\\theta,\\phi \\right)}}{r^{2} \\tan{\\left(\\theta \\right)}} + \\frac{2 \\frac{\\partial}{\\partial \\phi} \\operatorname{V_{r}}{\\left(r,\\theta,\\phi \\right)}}{r^{2} \\sin{\\left(\\theta \\right)}} + \\frac{2 \\cos{\\left(\\theta \\right)} \\frac{\\partial}{\\partial \\phi} \\operatorname{V_{\\theta}}{\\left(r,\\theta,\\phi \\right)}}{r^{2} \\sin^{2}{\\left(\\theta \\right)}} + \\frac{\\frac{\\partial^{2}}{\\partial \\phi^{2}} \\operatorname{V_{\\phi}}{\\left(r,\\theta,\\phi \\right)}}{r^{2} \\sin^{2}{\\left(\\theta \\right)}}\\end{matrix}\\right] $$"
      ],
      "text/plain": [
       "<IPython.core.display.Markdown object>"
      ]
     },
     "execution_count": 19,
     "metadata": {},
     "output_type": "execute_result"
    }
   ],
   "source": [
    "title = 'The Laplacian of a vector field in {} coordinates (full form):'.format(dd.name)\n",
    "ws.latex_block(dd.Laplacian_vector_full(vname), title=title, lhs=dd.Laplacian_symbolic(vname), h_eq=3)"
   ]
  },
  {
   "cell_type": "code",
   "execution_count": 20,
   "id": "73d6774e-2d56-48c6-9b01-fb1e459f502e",
   "metadata": {},
   "outputs": [
    {
     "data": {
      "text/markdown": [
       "# <center> The material derivative of two vector fields in spherical_3d coordinates: </center>\n",
       "### $$ (A\\bullet\\nabla)B = \\left[\\begin{matrix}\\operatorname{A_{r}}{\\left(r,\\theta,\\phi \\right)} \\frac{\\partial}{\\partial r} \\operatorname{B_{r}}{\\left(r,\\theta,\\phi \\right)} - \\frac{\\operatorname{A_{\\phi}}{\\left(r,\\theta,\\phi \\right)} \\operatorname{B_{\\phi}}{\\left(r,\\theta,\\phi \\right)}}{r} + \\frac{\\operatorname{A_{\\phi}}{\\left(r,\\theta,\\phi \\right)} \\frac{\\partial}{\\partial \\phi} \\operatorname{B_{r}}{\\left(r,\\theta,\\phi \\right)}}{r \\sin{\\left(\\theta \\right)}} - \\frac{\\operatorname{A_{\\theta}}{\\left(r,\\theta,\\phi \\right)} \\operatorname{B_{\\theta}}{\\left(r,\\theta,\\phi \\right)}}{r} + \\frac{\\operatorname{A_{\\theta}}{\\left(r,\\theta,\\phi \\right)} \\frac{\\partial}{\\partial \\theta} \\operatorname{B_{r}}{\\left(r,\\theta,\\phi \\right)}}{r}\\\\\\operatorname{A_{r}}{\\left(r,\\theta,\\phi \\right)} \\frac{\\partial}{\\partial r} \\operatorname{B_{\\theta}}{\\left(r,\\theta,\\phi \\right)} - \\frac{\\operatorname{A_{\\phi}}{\\left(r,\\theta,\\phi \\right)} \\operatorname{B_{\\phi}}{\\left(r,\\theta,\\phi \\right)} \\cos{\\left(\\theta \\right)}}{r \\sin{\\left(\\theta \\right)}} + \\frac{\\operatorname{A_{\\phi}}{\\left(r,\\theta,\\phi \\right)} \\frac{\\partial}{\\partial \\phi} \\operatorname{B_{\\theta}}{\\left(r,\\theta,\\phi \\right)}}{r \\sin{\\left(\\theta \\right)}} + \\frac{\\operatorname{A_{\\theta}}{\\left(r,\\theta,\\phi \\right)} \\operatorname{B_{r}}{\\left(r,\\theta,\\phi \\right)}}{r} + \\frac{\\operatorname{A_{\\theta}}{\\left(r,\\theta,\\phi \\right)} \\frac{\\partial}{\\partial \\theta} \\operatorname{B_{\\theta}}{\\left(r,\\theta,\\phi \\right)}}{r}\\\\\\operatorname{A_{r}}{\\left(r,\\theta,\\phi \\right)} \\frac{\\partial}{\\partial r} \\operatorname{B_{\\phi}}{\\left(r,\\theta,\\phi \\right)} + \\frac{\\operatorname{A_{\\phi}}{\\left(r,\\theta,\\phi \\right)} \\operatorname{B_{\\theta}}{\\left(r,\\theta,\\phi \\right)} \\cos{\\left(\\theta \\right)}}{r \\sin{\\left(\\theta \\right)}} + \\frac{\\operatorname{A_{\\phi}}{\\left(r,\\theta,\\phi \\right)} \\operatorname{B_{r}}{\\left(r,\\theta,\\phi \\right)}}{r} + \\frac{\\operatorname{A_{\\phi}}{\\left(r,\\theta,\\phi \\right)} \\frac{\\partial}{\\partial \\phi} \\operatorname{B_{\\phi}}{\\left(r,\\theta,\\phi \\right)}}{r \\sin{\\left(\\theta \\right)}} + \\frac{\\operatorname{A_{\\theta}}{\\left(r,\\theta,\\phi \\right)} \\frac{\\partial}{\\partial \\theta} \\operatorname{B_{\\phi}}{\\left(r,\\theta,\\phi \\right)}}{r}\\end{matrix}\\right] $$"
      ],
      "text/plain": [
       "<IPython.core.display.Markdown object>"
      ]
     },
     "execution_count": 20,
     "metadata": {},
     "output_type": "execute_result"
    }
   ],
   "source": [
    "v1_name = 'A'\n",
    "v2_name = 'B'\n",
    "V1 = dd._vector_field(v1_name)\n",
    "V2 = dd._vector_field(v2_name)\n",
    "txt = '({}\\\\bullet\\\\nabla){}'.format(v1_name, v2_name)\n",
    "LHS = sy.symbols(txt) # TODO: need to put this into a 'symbolic_material_derivative' method\n",
    "title = 'The material derivative of two vector fields in {} coordinates:'.format(dd.name)\n",
    "ws.latex_block(dd.material_derivative(A=V1, B=V2, vector=True), title=title, lhs=LHS, h_eq=3)"
   ]
  },
  {
   "cell_type": "markdown",
   "id": "a3dae635-5473-42eb-bfc8-90a6f610d42b",
   "metadata": {},
   "source": [
    "# MISC EXAMPLES"
   ]
  },
  {
   "cell_type": "code",
   "execution_count": 21,
   "id": "e623a199-ebcb-4fa2-9c32-5e1e7343eb82",
   "metadata": {},
   "outputs": [
    {
     "data": {
      "text/latex": [
       "$\\displaystyle \\left[\\begin{matrix}g{\\left(\\theta \\right)} h{\\left(\\phi \\right)} \\frac{d}{d r} f{\\left(r \\right)}\\\\\\frac{f{\\left(r \\right)} h{\\left(\\phi \\right)} \\frac{d}{d \\theta} g{\\left(\\theta \\right)}}{r}\\\\\\frac{f{\\left(r \\right)} g{\\left(\\theta \\right)} \\frac{d}{d \\phi} h{\\left(\\phi \\right)}}{r \\sin{\\left(\\theta \\right)}}\\end{matrix}\\right]$"
      ],
      "text/plain": [
       "Matrix([\n",
       "[                 g(theta)*h(phi)*Derivative(f(r), r)],\n",
       "[           f(r)*h(phi)*Derivative(g(theta), theta)/r],\n",
       "[f(r)*g(theta)*Derivative(h(phi), phi)/(r*sin(theta))]])"
      ]
     },
     "execution_count": 21,
     "metadata": {},
     "output_type": "execute_result"
    }
   ],
   "source": [
    "dd.gradient(F)"
   ]
  },
  {
   "cell_type": "code",
   "execution_count": 22,
   "id": "eaffe5fc-f7b7-423f-b3f4-c84319b6994f",
   "metadata": {},
   "outputs": [
    {
     "data": {
      "text/latex": [
       "$\\displaystyle \\frac{d^{2}}{d r^{2}} f{\\left(r \\right)} + \\frac{2 \\frac{d}{d r} f{\\left(r \\right)}}{r}$"
      ],
      "text/plain": [
       "Derivative(f(r), (r, 2)) + 2*Derivative(f(r), r)/r"
      ]
     },
     "execution_count": 22,
     "metadata": {},
     "output_type": "execute_result"
    }
   ],
   "source": [
    "# Laplacian of f(r) only\n",
    "dd.Laplacian_scalar(f)"
   ]
  },
  {
   "cell_type": "code",
   "execution_count": 23,
   "id": "d95123d4-913c-47bc-8109-7312d3b26d18",
   "metadata": {},
   "outputs": [
    {
     "data": {
      "text/latex": [
       "$\\displaystyle - \\frac{\\frac{d^{2}}{d r^{2}} f{\\left(r \\right)}}{f^{2}{\\left(r \\right)}} + \\frac{2 \\left(\\frac{d}{d r} f{\\left(r \\right)}\\right)^{2}}{f^{3}{\\left(r \\right)}} - \\frac{2 \\frac{d}{d r} f{\\left(r \\right)}}{r f^{2}{\\left(r \\right)}}$"
      ],
      "text/plain": [
       "-Derivative(f(r), (r, 2))/f(r)**2 + 2*Derivative(f(r), r)**2/f(r)**3 - 2*Derivative(f(r), r)/(r*f(r)**2)"
      ]
     },
     "execution_count": 23,
     "metadata": {},
     "output_type": "execute_result"
    }
   ],
   "source": [
    "dd.Laplacian_scalar(1/f)"
   ]
  },
  {
   "cell_type": "code",
   "execution_count": 24,
   "id": "ac1717d8-cdeb-489a-84e4-6a5fc6fb2a3b",
   "metadata": {},
   "outputs": [
    {
     "data": {
      "text/latex": [
       "$\\displaystyle g{\\left(\\theta \\right)} h{\\left(\\phi \\right)} \\frac{d^{2}}{d r^{2}} f{\\left(r \\right)} + \\frac{2 g{\\left(\\theta \\right)} h{\\left(\\phi \\right)} \\frac{d}{d r} f{\\left(r \\right)}}{r} + \\frac{f{\\left(r \\right)} g{\\left(\\theta \\right)} \\frac{d^{2}}{d \\phi^{2}} h{\\left(\\phi \\right)}}{r^{2} \\sin^{2}{\\left(\\theta \\right)}} + \\frac{f{\\left(r \\right)} h{\\left(\\phi \\right)} \\frac{d^{2}}{d \\theta^{2}} g{\\left(\\theta \\right)}}{r^{2}} + \\frac{f{\\left(r \\right)} h{\\left(\\phi \\right)} \\cos{\\left(\\theta \\right)} \\frac{d}{d \\theta} g{\\left(\\theta \\right)}}{r^{2} \\sin{\\left(\\theta \\right)}}$"
      ],
      "text/plain": [
       "g(theta)*h(phi)*Derivative(f(r), (r, 2)) + 2*g(theta)*h(phi)*Derivative(f(r), r)/r + f(r)*g(theta)*Derivative(h(phi), (phi, 2))/(r**2*sin(theta)**2) + f(r)*h(phi)*Derivative(g(theta), (theta, 2))/r**2 + f(r)*h(phi)*cos(theta)*Derivative(g(theta), theta)/(r**2*sin(theta))"
      ]
     },
     "execution_count": 24,
     "metadata": {},
     "output_type": "execute_result"
    }
   ],
   "source": [
    "dd.divergence(dd.gradient(f*g*h)) # also the Laplacian: products of functions"
   ]
  },
  {
   "cell_type": "code",
   "execution_count": 25,
   "id": "c14f73c3-4e76-4553-b289-491fbd68bc3a",
   "metadata": {},
   "outputs": [
    {
     "data": {
      "text/latex": [
       "$\\displaystyle \\left[\\begin{matrix}- \\frac{2 \\frac{d^{2}}{d \\phi^{2}} h{\\left(\\phi \\right)}}{r^{3} \\sin^{2}{\\left(\\theta \\right)}}\\\\- \\frac{2 \\cos{\\left(\\theta \\right)} \\frac{d^{2}}{d \\phi^{2}} h{\\left(\\phi \\right)}}{r^{3} \\sin^{3}{\\left(\\theta \\right)}}\\\\\\frac{\\frac{d^{3}}{d \\phi^{3}} h{\\left(\\phi \\right)}}{r^{3} \\sin^{3}{\\left(\\theta \\right)}}\\end{matrix}\\right]$"
      ],
      "text/plain": [
       "Matrix([\n",
       "[           -2*Derivative(h(phi), (phi, 2))/(r**3*sin(theta)**2)],\n",
       "[-2*cos(theta)*Derivative(h(phi), (phi, 2))/(r**3*sin(theta)**3)],\n",
       "[              Derivative(h(phi), (phi, 3))/(r**3*sin(theta)**3)]])"
      ]
     },
     "execution_count": 25,
     "metadata": {},
     "output_type": "execute_result"
    }
   ],
   "source": [
    "dd.Laplacian_vector_full(dd.gradient(h))"
   ]
  },
  {
   "cell_type": "code",
   "execution_count": 26,
   "id": "b66e7725-83f5-439f-a5f6-b1a708209cb3",
   "metadata": {},
   "outputs": [
    {
     "data": {
      "text/latex": [
       "$\\displaystyle \\left[\\begin{matrix}\\frac{\\frac{\\partial^{2}}{\\partial \\theta\\partial r} \\operatorname{A_{\\theta}}{\\left(r,\\theta,\\phi \\right)}}{r} + \\frac{\\cos{\\left(\\theta \\right)} \\frac{\\partial}{\\partial r} \\operatorname{A_{\\theta}}{\\left(r,\\theta,\\phi \\right)}}{r \\sin{\\left(\\theta \\right)}} + \\frac{\\frac{\\partial^{2}}{\\partial r\\partial \\phi} \\operatorname{A_{\\phi}}{\\left(r,\\theta,\\phi \\right)}}{r \\sin{\\left(\\theta \\right)}} + \\frac{\\operatorname{A_{\\theta}}{\\left(r,\\theta,\\phi \\right)} \\cos{\\left(\\theta \\right)}}{r^{2} \\sin{\\left(\\theta \\right)}} + \\frac{\\frac{\\partial}{\\partial \\theta} \\operatorname{A_{\\theta}}{\\left(r,\\theta,\\phi \\right)}}{r^{2}} - \\frac{\\frac{\\partial^{2}}{\\partial \\theta^{2}} \\operatorname{A_{r}}{\\left(r,\\theta,\\phi \\right)}}{r^{2}} - \\frac{\\cos{\\left(\\theta \\right)} \\frac{\\partial}{\\partial \\theta} \\operatorname{A_{r}}{\\left(r,\\theta,\\phi \\right)}}{r^{2} \\sin{\\left(\\theta \\right)}} + \\frac{\\frac{\\partial}{\\partial \\phi} \\operatorname{A_{\\phi}}{\\left(r,\\theta,\\phi \\right)}}{r^{2} \\sin{\\left(\\theta \\right)}} - \\frac{\\frac{\\partial^{2}}{\\partial \\phi^{2}} \\operatorname{A_{r}}{\\left(r,\\theta,\\phi \\right)}}{r^{2} \\sin^{2}{\\left(\\theta \\right)}}\\\\- \\frac{\\partial^{2}}{\\partial r^{2}} \\operatorname{A_{\\theta}}{\\left(r,\\theta,\\phi \\right)} - \\frac{2 \\frac{\\partial}{\\partial r} \\operatorname{A_{\\theta}}{\\left(r,\\theta,\\phi \\right)}}{r} + \\frac{\\frac{\\partial^{2}}{\\partial \\theta\\partial r} \\operatorname{A_{r}}{\\left(r,\\theta,\\phi \\right)}}{r} + \\frac{\\frac{\\partial^{2}}{\\partial \\theta\\partial \\phi} \\operatorname{A_{\\phi}}{\\left(r,\\theta,\\phi \\right)}}{r^{2} \\sin{\\left(\\theta \\right)}} + \\frac{\\cos{\\left(\\theta \\right)} \\frac{\\partial}{\\partial \\phi} \\operatorname{A_{\\phi}}{\\left(r,\\theta,\\phi \\right)}}{r^{2} \\sin^{2}{\\left(\\theta \\right)}} - \\frac{\\frac{\\partial^{2}}{\\partial \\phi^{2}} \\operatorname{A_{\\theta}}{\\left(r,\\theta,\\phi \\right)}}{r^{2} \\sin^{2}{\\left(\\theta \\right)}}\\\\- \\frac{\\partial^{2}}{\\partial r^{2}} \\operatorname{A_{\\phi}}{\\left(r,\\theta,\\phi \\right)} - \\frac{2 \\frac{\\partial}{\\partial r} \\operatorname{A_{\\phi}}{\\left(r,\\theta,\\phi \\right)}}{r} + \\frac{\\frac{\\partial^{2}}{\\partial r\\partial \\phi} \\operatorname{A_{r}}{\\left(r,\\theta,\\phi \\right)}}{r \\sin{\\left(\\theta \\right)}} + \\frac{\\operatorname{A_{\\phi}}{\\left(r,\\theta,\\phi \\right)}}{r^{2}} + \\frac{\\operatorname{A_{\\phi}}{\\left(r,\\theta,\\phi \\right)} \\cos^{2}{\\left(\\theta \\right)}}{r^{2} \\sin^{2}{\\left(\\theta \\right)}} - \\frac{\\frac{\\partial^{2}}{\\partial \\theta^{2}} \\operatorname{A_{\\phi}}{\\left(r,\\theta,\\phi \\right)}}{r^{2}} - \\frac{\\cos{\\left(\\theta \\right)} \\frac{\\partial}{\\partial \\theta} \\operatorname{A_{\\phi}}{\\left(r,\\theta,\\phi \\right)}}{r^{2} \\sin{\\left(\\theta \\right)}} + \\frac{\\frac{\\partial^{2}}{\\partial \\theta\\partial \\phi} \\operatorname{A_{\\theta}}{\\left(r,\\theta,\\phi \\right)}}{r^{2} \\sin{\\left(\\theta \\right)}} - \\frac{\\cos{\\left(\\theta \\right)} \\frac{\\partial}{\\partial \\phi} \\operatorname{A_{\\theta}}{\\left(r,\\theta,\\phi \\right)}}{r^{2} \\sin^{2}{\\left(\\theta \\right)}}\\end{matrix}\\right]$"
      ],
      "text/plain": [
       "Matrix([\n",
       "[Derivative(A_\\theta(r, theta, phi), r, theta)/r + cos(theta)*Derivative(A_\\theta(r, theta, phi), r)/(r*sin(theta)) + Derivative(A_\\phi(r, theta, phi), phi, r)/(r*sin(theta)) + A_\\theta(r, theta, phi)*cos(theta)/(r**2*sin(theta)) + Derivative(A_\\theta(r, theta, phi), theta)/r**2 - Derivative(A_r(r, theta, phi), (theta, 2))/r**2 - cos(theta)*Derivative(A_r(r, theta, phi), theta)/(r**2*sin(theta)) + Derivative(A_\\phi(r, theta, phi), phi)/(r**2*sin(theta)) - Derivative(A_r(r, theta, phi), (phi, 2))/(r**2*sin(theta)**2)],\n",
       "[                                                                                                                                                                                  -Derivative(A_\\theta(r, theta, phi), (r, 2)) - 2*Derivative(A_\\theta(r, theta, phi), r)/r + Derivative(A_r(r, theta, phi), r, theta)/r + Derivative(A_\\phi(r, theta, phi), phi, theta)/(r**2*sin(theta)) + cos(theta)*Derivative(A_\\phi(r, theta, phi), phi)/(r**2*sin(theta)**2) - Derivative(A_\\theta(r, theta, phi), (phi, 2))/(r**2*sin(theta)**2)],\n",
       "[                       -Derivative(A_\\phi(r, theta, phi), (r, 2)) - 2*Derivative(A_\\phi(r, theta, phi), r)/r + Derivative(A_r(r, theta, phi), phi, r)/(r*sin(theta)) + A_\\phi(r, theta, phi)/r**2 + A_\\phi(r, theta, phi)*cos(theta)**2/(r**2*sin(theta)**2) - Derivative(A_\\phi(r, theta, phi), (theta, 2))/r**2 - cos(theta)*Derivative(A_\\phi(r, theta, phi), theta)/(r**2*sin(theta)) + Derivative(A_\\theta(r, theta, phi), phi, theta)/(r**2*sin(theta)) - cos(theta)*Derivative(A_\\theta(r, theta, phi), phi)/(r**2*sin(theta)**2)]])"
      ]
     },
     "execution_count": 26,
     "metadata": {},
     "output_type": "execute_result"
    }
   ],
   "source": [
    "dd.curl(dd.curl())"
   ]
  },
  {
   "cell_type": "code",
   "execution_count": 27,
   "id": "9b627b4d-1ca6-45ea-a469-a51bc4402156",
   "metadata": {},
   "outputs": [
    {
     "data": {
      "text/latex": [
       "$\\displaystyle \\left[\\begin{matrix}\\frac{\\partial^{2}}{\\partial r^{2}} \\operatorname{A_{r}}{\\left(r,\\theta,\\phi \\right)} + \\frac{2 \\frac{\\partial}{\\partial r} \\operatorname{A_{r}}{\\left(r,\\theta,\\phi \\right)}}{r} + \\frac{\\frac{\\partial^{2}}{\\partial \\theta\\partial r} \\operatorname{A_{\\theta}}{\\left(r,\\theta,\\phi \\right)}}{r} + \\frac{\\cos{\\left(\\theta \\right)} \\frac{\\partial}{\\partial r} \\operatorname{A_{\\theta}}{\\left(r,\\theta,\\phi \\right)}}{r \\sin{\\left(\\theta \\right)}} + \\frac{\\frac{\\partial^{2}}{\\partial r\\partial \\phi} \\operatorname{A_{\\phi}}{\\left(r,\\theta,\\phi \\right)}}{r \\sin{\\left(\\theta \\right)}} - \\frac{\\operatorname{A_{\\theta}}{\\left(r,\\theta,\\phi \\right)} \\cos{\\left(\\theta \\right)}}{r^{2} \\sin{\\left(\\theta \\right)}} - \\frac{2 \\operatorname{A_{r}}{\\left(r,\\theta,\\phi \\right)}}{r^{2}} - \\frac{\\frac{\\partial}{\\partial \\theta} \\operatorname{A_{\\theta}}{\\left(r,\\theta,\\phi \\right)}}{r^{2}} - \\frac{\\frac{\\partial}{\\partial \\phi} \\operatorname{A_{\\phi}}{\\left(r,\\theta,\\phi \\right)}}{r^{2} \\sin{\\left(\\theta \\right)}}\\\\\\frac{\\frac{\\partial^{2}}{\\partial \\theta\\partial r} \\operatorname{A_{r}}{\\left(r,\\theta,\\phi \\right)}}{r} - \\frac{\\operatorname{A_{\\theta}}{\\left(r,\\theta,\\phi \\right)}}{r^{2}} - \\frac{\\operatorname{A_{\\theta}}{\\left(r,\\theta,\\phi \\right)} \\cos^{2}{\\left(\\theta \\right)}}{r^{2} \\sin^{2}{\\left(\\theta \\right)}} + \\frac{\\frac{\\partial^{2}}{\\partial \\theta^{2}} \\operatorname{A_{\\theta}}{\\left(r,\\theta,\\phi \\right)}}{r^{2}} + \\frac{2 \\frac{\\partial}{\\partial \\theta} \\operatorname{A_{r}}{\\left(r,\\theta,\\phi \\right)}}{r^{2}} + \\frac{\\cos{\\left(\\theta \\right)} \\frac{\\partial}{\\partial \\theta} \\operatorname{A_{\\theta}}{\\left(r,\\theta,\\phi \\right)}}{r^{2} \\sin{\\left(\\theta \\right)}} + \\frac{\\frac{\\partial^{2}}{\\partial \\theta\\partial \\phi} \\operatorname{A_{\\phi}}{\\left(r,\\theta,\\phi \\right)}}{r^{2} \\sin{\\left(\\theta \\right)}} - \\frac{\\cos{\\left(\\theta \\right)} \\frac{\\partial}{\\partial \\phi} \\operatorname{A_{\\phi}}{\\left(r,\\theta,\\phi \\right)}}{r^{2} \\sin^{2}{\\left(\\theta \\right)}}\\\\\\frac{\\frac{\\partial^{2}}{\\partial r\\partial \\phi} \\operatorname{A_{r}}{\\left(r,\\theta,\\phi \\right)}}{r \\sin{\\left(\\theta \\right)}} + \\frac{2 \\frac{\\partial}{\\partial \\phi} \\operatorname{A_{r}}{\\left(r,\\theta,\\phi \\right)}}{r^{2} \\sin{\\left(\\theta \\right)}} + \\frac{\\frac{\\partial^{2}}{\\partial \\theta\\partial \\phi} \\operatorname{A_{\\theta}}{\\left(r,\\theta,\\phi \\right)}}{r^{2} \\sin{\\left(\\theta \\right)}} + \\frac{\\cos{\\left(\\theta \\right)} \\frac{\\partial}{\\partial \\phi} \\operatorname{A_{\\theta}}{\\left(r,\\theta,\\phi \\right)}}{r^{2} \\sin^{2}{\\left(\\theta \\right)}} + \\frac{\\frac{\\partial^{2}}{\\partial \\phi^{2}} \\operatorname{A_{\\phi}}{\\left(r,\\theta,\\phi \\right)}}{r^{2} \\sin^{2}{\\left(\\theta \\right)}}\\end{matrix}\\right]$"
      ],
      "text/plain": [
       "Matrix([\n",
       "[   Derivative(A_r(r, theta, phi), (r, 2)) + 2*Derivative(A_r(r, theta, phi), r)/r + Derivative(A_\\theta(r, theta, phi), r, theta)/r + cos(theta)*Derivative(A_\\theta(r, theta, phi), r)/(r*sin(theta)) + Derivative(A_\\phi(r, theta, phi), phi, r)/(r*sin(theta)) - A_\\theta(r, theta, phi)*cos(theta)/(r**2*sin(theta)) - 2*A_r(r, theta, phi)/r**2 - Derivative(A_\\theta(r, theta, phi), theta)/r**2 - Derivative(A_\\phi(r, theta, phi), phi)/(r**2*sin(theta))],\n",
       "[Derivative(A_r(r, theta, phi), r, theta)/r - A_\\theta(r, theta, phi)/r**2 - A_\\theta(r, theta, phi)*cos(theta)**2/(r**2*sin(theta)**2) + Derivative(A_\\theta(r, theta, phi), (theta, 2))/r**2 + 2*Derivative(A_r(r, theta, phi), theta)/r**2 + cos(theta)*Derivative(A_\\theta(r, theta, phi), theta)/(r**2*sin(theta)) + Derivative(A_\\phi(r, theta, phi), phi, theta)/(r**2*sin(theta)) - cos(theta)*Derivative(A_\\phi(r, theta, phi), phi)/(r**2*sin(theta)**2)],\n",
       "[                                                                                                                                Derivative(A_r(r, theta, phi), phi, r)/(r*sin(theta)) + 2*Derivative(A_r(r, theta, phi), phi)/(r**2*sin(theta)) + Derivative(A_\\theta(r, theta, phi), phi, theta)/(r**2*sin(theta)) + cos(theta)*Derivative(A_\\theta(r, theta, phi), phi)/(r**2*sin(theta)**2) + Derivative(A_\\phi(r, theta, phi), (phi, 2))/(r**2*sin(theta)**2)]])"
      ]
     },
     "execution_count": 27,
     "metadata": {},
     "output_type": "execute_result"
    }
   ],
   "source": [
    "dd.gradient(dd.divergence())"
   ]
  },
  {
   "cell_type": "code",
   "execution_count": 28,
   "id": "ca69d3bc-1bf5-43b3-8b86-43f6f3043324",
   "metadata": {},
   "outputs": [],
   "source": [
    "def Arfken_example_2_4_2(ops):\n",
    "    # ops is an Operators object defined with standard spherical coords r, theta, phi\n",
    "    # this was successfully validated against Arfken result p. 83 6/18/22\n",
    "    r, theta, phi = ops.coords_p\n",
    "    Aphi = sy.symbols('A_phi', cls=sy.Function, real=True)\n",
    "    Aphi = Aphi(r, theta)\n",
    "    A    = sy.Matrix([0, 0, Aphi])\n",
    "    v1   = ops.curl(ops.curl(A))\n",
    "    tmp  = []\n",
    "    for j, k in zip(v1, A):\n",
    "        tmp.append(j + ops.Laplacian_scalar(k) - ops.Laplacian_symbolic(k))\n",
    "    reduced = sy.trigsimp(ops.Zp.T * sy.Matrix(tmp))\n",
    "    full    = sy.trigsimp(ops.Zp.T * v1)\n",
    "    return full, reduced"
   ]
  },
  {
   "cell_type": "code",
   "execution_count": 29,
   "id": "ec18cc4f-ec55-4e63-a563-a03f4006a57c",
   "metadata": {},
   "outputs": [
    {
     "data": {
      "text/latex": [
       "$\\displaystyle \\left[\\begin{matrix}\\hat{\\mathbf{e_\\phi}} \\left(- \\frac{\\partial^{2}}{\\partial r^{2}} \\operatorname{A_{\\phi}}{\\left(r,\\theta \\right)} - \\frac{2 \\frac{\\partial}{\\partial r} \\operatorname{A_{\\phi}}{\\left(r,\\theta \\right)}}{r} + \\frac{\\operatorname{A_{\\phi}}{\\left(r,\\theta \\right)}}{r^{2} \\sin^{2}{\\left(\\theta \\right)}} - \\frac{\\frac{\\partial^{2}}{\\partial \\theta^{2}} \\operatorname{A_{\\phi}}{\\left(r,\\theta \\right)}}{r^{2}} - \\frac{\\frac{\\partial}{\\partial \\theta} \\operatorname{A_{\\phi}}{\\left(r,\\theta \\right)}}{r^{2} \\tan{\\left(\\theta \\right)}}\\right)\\end{matrix}\\right]$"
      ],
      "text/plain": [
       "Matrix([[\\hat{\\mathbf{e_\\phi}}*(-Derivative(A_phi(r, theta), (r, 2)) - 2*Derivative(A_phi(r, theta), r)/r + A_phi(r, theta)/(r**2*sin(theta)**2) - Derivative(A_phi(r, theta), (theta, 2))/r**2 - Derivative(A_phi(r, theta), theta)/(r**2*tan(theta)))]])"
      ]
     },
     "execution_count": 29,
     "metadata": {},
     "output_type": "execute_result"
    }
   ],
   "source": [
    "full, reduced = Arfken_example_2_4_2(dd)\n",
    "full"
   ]
  },
  {
   "cell_type": "code",
   "execution_count": 30,
   "id": "f89385f2-fcac-4f57-b2a2-af9156375936",
   "metadata": {},
   "outputs": [
    {
     "data": {
      "text/latex": [
       "$\\displaystyle \\left[\\begin{matrix}\\hat{\\mathbf{e_\\phi}} \\left(- \\nabla^{2}{\\left(\\operatorname{A_{\\phi}}{\\left(r,\\theta \\right)} \\right)} + \\frac{\\operatorname{A_{\\phi}}{\\left(r,\\theta \\right)}}{r^{2} \\sin^{2}{\\left(\\theta \\right)}}\\right) - \\hat{\\mathbf{e_\\theta}} \\nabla^{2}{\\left(0 \\right)} - \\hat{\\mathbf{e_r}} \\nabla^{2}{\\left(0 \\right)}\\end{matrix}\\right]$"
      ],
      "text/plain": [
       "Matrix([[\\hat{\\mathbf{e_\\phi}}*(-\\nabla^{2}(A_phi(r, theta)) + A_phi(r, theta)/(r**2*sin(theta)**2)) - \\hat{\\mathbf{e_\\theta}}*\\nabla^{2}(0) - \\hat{\\mathbf{e_r}}*\\nabla^{2}(0)]])"
      ]
     },
     "execution_count": 30,
     "metadata": {},
     "output_type": "execute_result"
    }
   ],
   "source": [
    "reduced"
   ]
  },
  {
   "cell_type": "markdown",
   "id": "d1a5c432-78cc-45c7-b36e-b6220a9811ab",
   "metadata": {},
   "source": [
    "# Basic checks"
   ]
  },
  {
   "cell_type": "code",
   "execution_count": 31,
   "id": "6ddad1db-b961-47f8-8668-3cff85c560d7",
   "metadata": {},
   "outputs": [
    {
     "data": {
      "text/latex": [
       "$\\displaystyle 0$"
      ],
      "text/plain": [
       "0"
      ]
     },
     "execution_count": 31,
     "metadata": {},
     "output_type": "execute_result"
    }
   ],
   "source": [
    "dd.Laplacian_scalar(1/r)  # should be 0"
   ]
  },
  {
   "cell_type": "code",
   "execution_count": 32,
   "id": "0f7a45af-c290-41ee-86f4-0931c00953d2",
   "metadata": {},
   "outputs": [
    {
     "data": {
      "text/latex": [
       "$\\displaystyle \\left[\\begin{matrix}- \\frac{\\hat{\\mathbf{e_r}}}{r^{2}}\\end{matrix}\\right]$"
      ],
      "text/plain": [
       "Matrix([[-\\hat{\\mathbf{e_r}}/r**2]])"
      ]
     },
     "execution_count": 32,
     "metadata": {},
     "output_type": "execute_result"
    }
   ],
   "source": [
    "dd.gradient(1/r, vector=False)  # should be -1/r**2 in the r_hat direction"
   ]
  },
  {
   "cell_type": "code",
   "execution_count": 33,
   "id": "f253e57f-6410-4314-91d5-e9848c6097c2",
   "metadata": {},
   "outputs": [
    {
     "data": {
      "text/latex": [
       "$\\displaystyle \\left[\\begin{matrix}0\\\\0\\\\0\\end{matrix}\\right]$"
      ],
      "text/plain": [
       "Matrix([\n",
       "[0],\n",
       "[0],\n",
       "[0]])"
      ]
     },
     "execution_count": 33,
     "metadata": {},
     "output_type": "execute_result"
    }
   ],
   "source": [
    "dd.curl(dd.gradient())  # should be 0 vector"
   ]
  },
  {
   "cell_type": "code",
   "execution_count": 34,
   "id": "d7a57182-ed17-4de7-8166-5f29a51db27f",
   "metadata": {},
   "outputs": [
    {
     "data": {
      "text/plain": [
       "True"
      ]
     },
     "execution_count": 34,
     "metadata": {},
     "output_type": "execute_result"
    }
   ],
   "source": [
    "#(xx.T * xx).args[2][0]\n",
    "dd.curl(dd.gradient())._eval_is_zero_matrix()"
   ]
  },
  {
   "cell_type": "code",
   "execution_count": 35,
   "id": "f611c4ef-2f94-4d10-8531-2a06dcc24134",
   "metadata": {
    "tags": []
   },
   "outputs": [
    {
     "data": {
      "text/latex": [
       "$\\displaystyle 0$"
      ],
      "text/plain": [
       "0"
      ]
     },
     "execution_count": 35,
     "metadata": {},
     "output_type": "execute_result"
    }
   ],
   "source": [
    "dd.divergence(dd.curl())  # should be 0"
   ]
  }
 ],
 "metadata": {
  "kernelspec": {
   "display_name": "Python 3 (ipykernel)",
   "language": "python",
   "name": "python3"
  },
  "language_info": {
   "codemirror_mode": {
    "name": "ipython",
    "version": 3
   },
   "file_extension": ".py",
   "mimetype": "text/x-python",
   "name": "python",
   "nbconvert_exporter": "python",
   "pygments_lexer": "ipython3",
   "version": "3.10.4"
  }
 },
 "nbformat": 4,
 "nbformat_minor": 5
}
