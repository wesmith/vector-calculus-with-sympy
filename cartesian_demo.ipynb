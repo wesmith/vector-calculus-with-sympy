{
 "cells": [
  {
   "cell_type": "markdown",
   "id": "58db5a3f-ec97-4b64-bf6f-fbba0e568f64",
   "metadata": {},
   "source": [
    "# cartesian_demo.ipynb\n",
    "# WESmith 06/29/22"
   ]
  },
  {
   "cell_type": "code",
   "execution_count": 1,
   "id": "9901cabd-ed09-4ae3-b550-5be27c287c3c",
   "metadata": {},
   "outputs": [],
   "source": [
    "import operator_utils as ws\n",
    "import sympy as sy\n",
    "import numpy as np\n",
    "import matplotlib.pyplot as plt\n",
    "from   sympy import sin, cos, latex\n",
    "from   IPython.display import display, Math"
   ]
  },
  {
   "cell_type": "markdown",
   "id": "5a700d6d-361b-4012-bd6b-3a6048bfebde",
   "metadata": {},
   "source": [
    "# 3D Cartesian coordinates"
   ]
  },
  {
   "cell_type": "code",
   "execution_count": 2,
   "id": "821033cf-be12-4516-b5f3-48b9a37fc29f",
   "metadata": {},
   "outputs": [],
   "source": [
    "x, y, z          = sy.symbols('x y z', real=True)\n",
    "X, Y, Z          = sy.symbols('X, Y, Z', real=True)\n",
    "orig_coords      = (x, y, z)\n",
    "primed_coords    = (X, Y, Z)\n",
    "orig_from_primed = (X, Y, Z)"
   ]
  },
  {
   "cell_type": "code",
   "execution_count": 3,
   "id": "a64e2b43-ee45-4426-8a92-8ef8a08b25ee",
   "metadata": {},
   "outputs": [],
   "source": [
    "zz = ws.Operators(orig_coords, primed_coords, orig_from_primed)"
   ]
  },
  {
   "cell_type": "code",
   "execution_count": 4,
   "id": "441a92ce-ca43-4beb-9d76-804ae6f929cf",
   "metadata": {},
   "outputs": [
    {
     "data": {
      "text/latex": [
       "$\\displaystyle \\left[\\begin{matrix}\\hat{\\mathbf{e_x}}\\\\\\hat{\\mathbf{e_y}}\\\\\\hat{\\mathbf{e_z}}\\end{matrix}\\right]$"
      ],
      "text/plain": [
       "<IPython.core.display.Math object>"
      ]
     },
     "metadata": {},
     "output_type": "display_data"
    }
   ],
   "source": [
    "ws.pp(zz.primed_basis)"
   ]
  },
  {
   "cell_type": "code",
   "execution_count": 5,
   "id": "f8057eb1-0d68-497d-8417-480b283a51d1",
   "metadata": {},
   "outputs": [
    {
     "data": {
      "text/latex": [
       "$\\displaystyle \\left[\\begin{matrix}1 & 0 & 0\\\\0 & 1 & 0\\\\0 & 0 & 1\\end{matrix}\\right]$"
      ],
      "text/plain": [
       "Matrix([\n",
       "[1, 0, 0],\n",
       "[0, 1, 0],\n",
       "[0, 0, 1]])"
      ]
     },
     "execution_count": 5,
     "metadata": {},
     "output_type": "execute_result"
    }
   ],
   "source": [
    "zz.metric"
   ]
  },
  {
   "cell_type": "code",
   "execution_count": 6,
   "id": "8bf73f2c-24df-4d2a-8904-17500621e7c5",
   "metadata": {},
   "outputs": [
    {
     "data": {
      "text/latex": [
       "$\\displaystyle \\left[\\begin{matrix}\\hat{\\mathbf{e_x}}\\\\\\hat{\\mathbf{e_y}}\\\\\\hat{\\mathbf{e_z}}\\end{matrix}\\right]$"
      ],
      "text/plain": [
       "Matrix([\n",
       "[\\hat{\\mathbf{e_x}}],\n",
       "[\\hat{\\mathbf{e_y}}],\n",
       "[\\hat{\\mathbf{e_z}}]])"
      ]
     },
     "execution_count": 6,
     "metadata": {},
     "output_type": "execute_result"
    }
   ],
   "source": [
    "zz.Z"
   ]
  },
  {
   "cell_type": "code",
   "execution_count": 7,
   "id": "cf36857c-896e-4bc7-b931-b0d622eef064",
   "metadata": {},
   "outputs": [
    {
     "data": {
      "text/latex": [
       "$\\displaystyle \\left[\\begin{matrix}\\hat{\\mathbf{e_X}}\\\\\\hat{\\mathbf{e_Y}}\\\\\\hat{\\mathbf{e_Z}}\\end{matrix}\\right]$"
      ],
      "text/plain": [
       "Matrix([\n",
       "[\\hat{\\mathbf{e_X}}],\n",
       "[\\hat{\\mathbf{e_Y}}],\n",
       "[\\hat{\\mathbf{e_Z}}]])"
      ]
     },
     "execution_count": 7,
     "metadata": {},
     "output_type": "execute_result"
    }
   ],
   "source": [
    "zz.Zp"
   ]
  },
  {
   "cell_type": "code",
   "execution_count": 8,
   "id": "a4958d83-b77e-4abb-9df6-417e1b61547d",
   "metadata": {},
   "outputs": [
    {
     "data": {
      "text/latex": [
       "$\\displaystyle \\left[\\begin{matrix}\\hat{\\mathbf{e_X}} \\frac{\\partial}{\\partial X} f{\\left(X,Y,Z \\right)} + \\hat{\\mathbf{e_Y}} \\frac{\\partial}{\\partial Y} f{\\left(X,Y,Z \\right)} + \\hat{\\mathbf{e_Z}} \\frac{\\partial}{\\partial Z} f{\\left(X,Y,Z \\right)}\\end{matrix}\\right]$"
      ],
      "text/plain": [
       "Matrix([[\\hat{\\mathbf{e_X}}*Derivative(f(X, Y, Z), X) + \\hat{\\mathbf{e_Y}}*Derivative(f(X, Y, Z), Y) + \\hat{\\mathbf{e_Z}}*Derivative(f(X, Y, Z), Z)]])"
      ]
     },
     "execution_count": 8,
     "metadata": {},
     "output_type": "execute_result"
    }
   ],
   "source": [
    "zz.gradient(vector=False)"
   ]
  },
  {
   "cell_type": "code",
   "execution_count": 9,
   "id": "099ada48-95cb-4dd3-8e29-d5d1917fa270",
   "metadata": {},
   "outputs": [
    {
     "data": {
      "text/latex": [
       "$\\displaystyle \\left[\\begin{matrix}\\frac{\\partial}{\\partial X} f{\\left(X,Y,Z \\right)}\\\\\\frac{\\partial}{\\partial Y} f{\\left(X,Y,Z \\right)}\\\\\\frac{\\partial}{\\partial Z} f{\\left(X,Y,Z \\right)}\\end{matrix}\\right]$"
      ],
      "text/plain": [
       "Matrix([\n",
       "[Derivative(f(X, Y, Z), X)],\n",
       "[Derivative(f(X, Y, Z), Y)],\n",
       "[Derivative(f(X, Y, Z), Z)]])"
      ]
     },
     "execution_count": 9,
     "metadata": {},
     "output_type": "execute_result"
    }
   ],
   "source": [
    "zz.gradient()"
   ]
  },
  {
   "cell_type": "code",
   "execution_count": 10,
   "id": "499dc363-7794-4c57-be96-044aa7635c08",
   "metadata": {},
   "outputs": [
    {
     "data": {
      "text/latex": [
       "$\\displaystyle \\frac{\\partial}{\\partial X} \\operatorname{A_{X}}{\\left(X,Y,Z \\right)} + \\frac{\\partial}{\\partial Y} \\operatorname{A_{Y}}{\\left(X,Y,Z \\right)} + \\frac{\\partial}{\\partial Z} \\operatorname{A_{Z}}{\\left(X,Y,Z \\right)}$"
      ],
      "text/plain": [
       "Derivative(A_X(X, Y, Z), X) + Derivative(A_Y(X, Y, Z), Y) + Derivative(A_Z(X, Y, Z), Z)"
      ]
     },
     "execution_count": 10,
     "metadata": {},
     "output_type": "execute_result"
    }
   ],
   "source": [
    "zz.divergence()"
   ]
  },
  {
   "cell_type": "code",
   "execution_count": 11,
   "id": "bd5ffb7c-ac25-4bed-83f8-30d894be8398",
   "metadata": {},
   "outputs": [
    {
     "data": {
      "text/latex": [
       "$\\displaystyle \\left[\\begin{matrix}- \\frac{\\partial}{\\partial Z} \\operatorname{A_{Y}}{\\left(X,Y,Z \\right)} + \\frac{\\partial}{\\partial Y} \\operatorname{A_{Z}}{\\left(X,Y,Z \\right)}\\\\\\frac{\\partial}{\\partial Z} \\operatorname{A_{X}}{\\left(X,Y,Z \\right)} - \\frac{\\partial}{\\partial X} \\operatorname{A_{Z}}{\\left(X,Y,Z \\right)}\\\\- \\frac{\\partial}{\\partial Y} \\operatorname{A_{X}}{\\left(X,Y,Z \\right)} + \\frac{\\partial}{\\partial X} \\operatorname{A_{Y}}{\\left(X,Y,Z \\right)}\\end{matrix}\\right]$"
      ],
      "text/plain": [
       "Matrix([\n",
       "[-Derivative(A_Y(X, Y, Z), Z) + Derivative(A_Z(X, Y, Z), Y)],\n",
       "[ Derivative(A_X(X, Y, Z), Z) - Derivative(A_Z(X, Y, Z), X)],\n",
       "[-Derivative(A_X(X, Y, Z), Y) + Derivative(A_Y(X, Y, Z), X)]])"
      ]
     },
     "execution_count": 11,
     "metadata": {},
     "output_type": "execute_result"
    }
   ],
   "source": [
    "zz.curl()"
   ]
  },
  {
   "cell_type": "code",
   "execution_count": 12,
   "id": "a9e0f65a-3157-4750-bf75-c261aeddb660",
   "metadata": {},
   "outputs": [
    {
     "data": {
      "text/latex": [
       "$\\displaystyle \\frac{\\partial^{2}}{\\partial X^{2}} f{\\left(X,Y,Z \\right)} + \\frac{\\partial^{2}}{\\partial Y^{2}} f{\\left(X,Y,Z \\right)} + \\frac{\\partial^{2}}{\\partial Z^{2}} f{\\left(X,Y,Z \\right)}$"
      ],
      "text/plain": [
       "Derivative(f(X, Y, Z), (X, 2)) + Derivative(f(X, Y, Z), (Y, 2)) + Derivative(f(X, Y, Z), (Z, 2))"
      ]
     },
     "execution_count": 12,
     "metadata": {},
     "output_type": "execute_result"
    }
   ],
   "source": [
    "zz.Laplacian_scalar()"
   ]
  },
  {
   "cell_type": "code",
   "execution_count": 13,
   "id": "9cb745a1-1547-436f-be76-25a7400988be",
   "metadata": {},
   "outputs": [
    {
     "data": {
      "text/latex": [
       "$\\displaystyle \\left[\\begin{matrix}\\frac{\\partial^{2}}{\\partial X^{2}} \\operatorname{A_{X}}{\\left(X,Y,Z \\right)} + \\frac{\\partial^{2}}{\\partial Y^{2}} \\operatorname{A_{X}}{\\left(X,Y,Z \\right)} + \\frac{\\partial^{2}}{\\partial Z^{2}} \\operatorname{A_{X}}{\\left(X,Y,Z \\right)}\\\\\\frac{\\partial^{2}}{\\partial X^{2}} \\operatorname{A_{Y}}{\\left(X,Y,Z \\right)} + \\frac{\\partial^{2}}{\\partial Y^{2}} \\operatorname{A_{Y}}{\\left(X,Y,Z \\right)} + \\frac{\\partial^{2}}{\\partial Z^{2}} \\operatorname{A_{Y}}{\\left(X,Y,Z \\right)}\\\\\\frac{\\partial^{2}}{\\partial X^{2}} \\operatorname{A_{Z}}{\\left(X,Y,Z \\right)} + \\frac{\\partial^{2}}{\\partial Y^{2}} \\operatorname{A_{Z}}{\\left(X,Y,Z \\right)} + \\frac{\\partial^{2}}{\\partial Z^{2}} \\operatorname{A_{Z}}{\\left(X,Y,Z \\right)}\\end{matrix}\\right]$"
      ],
      "text/plain": [
       "Matrix([\n",
       "[Derivative(A_X(X, Y, Z), (X, 2)) + Derivative(A_X(X, Y, Z), (Y, 2)) + Derivative(A_X(X, Y, Z), (Z, 2))],\n",
       "[Derivative(A_Y(X, Y, Z), (X, 2)) + Derivative(A_Y(X, Y, Z), (Y, 2)) + Derivative(A_Y(X, Y, Z), (Z, 2))],\n",
       "[Derivative(A_Z(X, Y, Z), (X, 2)) + Derivative(A_Z(X, Y, Z), (Y, 2)) + Derivative(A_Z(X, Y, Z), (Z, 2))]])"
      ]
     },
     "execution_count": 13,
     "metadata": {},
     "output_type": "execute_result"
    }
   ],
   "source": [
    "zz.Laplacian_vector_full()"
   ]
  },
  {
   "cell_type": "code",
   "execution_count": 14,
   "id": "36c389cc-405d-4762-bb07-9538f7a095e3",
   "metadata": {},
   "outputs": [
    {
     "data": {
      "text/latex": [
       "$\\displaystyle \\left[\\begin{matrix}\\nabla^{2}{\\left(\\operatorname{A_{X}}{\\left(X,Y,Z \\right)} \\right)}\\\\\\nabla^{2}{\\left(\\operatorname{A_{Y}}{\\left(X,Y,Z \\right)} \\right)}\\\\\\nabla^{2}{\\left(\\operatorname{A_{Z}}{\\left(X,Y,Z \\right)} \\right)}\\end{matrix}\\right]$"
      ],
      "text/plain": [
       "Matrix([\n",
       "[\\nabla^{2}(A_X(X, Y, Z))],\n",
       "[\\nabla^{2}(A_Y(X, Y, Z))],\n",
       "[\\nabla^{2}(A_Z(X, Y, Z))]])"
      ]
     },
     "execution_count": 14,
     "metadata": {},
     "output_type": "execute_result"
    }
   ],
   "source": [
    "zz.Laplacian_vector_reduced()"
   ]
  },
  {
   "cell_type": "code",
   "execution_count": 15,
   "id": "acd460e1-e9a4-4157-a99c-c2e0dbb95275",
   "metadata": {},
   "outputs": [
    {
     "data": {
      "text/latex": [
       "$\\displaystyle \\left[\\begin{matrix}\\operatorname{A_{X}}{\\left(X,Y,Z \\right)} \\frac{\\partial}{\\partial X} \\operatorname{B_{X}}{\\left(X,Y,Z \\right)} + \\operatorname{A_{Y}}{\\left(X,Y,Z \\right)} \\frac{\\partial}{\\partial Y} \\operatorname{B_{X}}{\\left(X,Y,Z \\right)} + \\operatorname{A_{Z}}{\\left(X,Y,Z \\right)} \\frac{\\partial}{\\partial Z} \\operatorname{B_{X}}{\\left(X,Y,Z \\right)}\\\\\\operatorname{A_{X}}{\\left(X,Y,Z \\right)} \\frac{\\partial}{\\partial X} \\operatorname{B_{Y}}{\\left(X,Y,Z \\right)} + \\operatorname{A_{Y}}{\\left(X,Y,Z \\right)} \\frac{\\partial}{\\partial Y} \\operatorname{B_{Y}}{\\left(X,Y,Z \\right)} + \\operatorname{A_{Z}}{\\left(X,Y,Z \\right)} \\frac{\\partial}{\\partial Z} \\operatorname{B_{Y}}{\\left(X,Y,Z \\right)}\\\\\\operatorname{A_{X}}{\\left(X,Y,Z \\right)} \\frac{\\partial}{\\partial X} \\operatorname{B_{Z}}{\\left(X,Y,Z \\right)} + \\operatorname{A_{Y}}{\\left(X,Y,Z \\right)} \\frac{\\partial}{\\partial Y} \\operatorname{B_{Z}}{\\left(X,Y,Z \\right)} + \\operatorname{A_{Z}}{\\left(X,Y,Z \\right)} \\frac{\\partial}{\\partial Z} \\operatorname{B_{Z}}{\\left(X,Y,Z \\right)}\\end{matrix}\\right]$"
      ],
      "text/plain": [
       "Matrix([\n",
       "[A_X(X, Y, Z)*Derivative(B_X(X, Y, Z), X) + A_Y(X, Y, Z)*Derivative(B_X(X, Y, Z), Y) + A_Z(X, Y, Z)*Derivative(B_X(X, Y, Z), Z)],\n",
       "[A_X(X, Y, Z)*Derivative(B_Y(X, Y, Z), X) + A_Y(X, Y, Z)*Derivative(B_Y(X, Y, Z), Y) + A_Z(X, Y, Z)*Derivative(B_Y(X, Y, Z), Z)],\n",
       "[A_X(X, Y, Z)*Derivative(B_Z(X, Y, Z), X) + A_Y(X, Y, Z)*Derivative(B_Z(X, Y, Z), Y) + A_Z(X, Y, Z)*Derivative(B_Z(X, Y, Z), Z)]])"
      ]
     },
     "execution_count": 15,
     "metadata": {},
     "output_type": "execute_result"
    }
   ],
   "source": [
    "zz.material_derivative()"
   ]
  },
  {
   "cell_type": "code",
   "execution_count": null,
   "id": "1c4d0dec-5929-4d01-a1b5-69d6d096677a",
   "metadata": {},
   "outputs": [],
   "source": []
  }
 ],
 "metadata": {
  "kernelspec": {
   "display_name": "Python 3 (ipykernel)",
   "language": "python",
   "name": "python3"
  },
  "language_info": {
   "codemirror_mode": {
    "name": "ipython",
    "version": 3
   },
   "file_extension": ".py",
   "mimetype": "text/x-python",
   "name": "python",
   "nbconvert_exporter": "python",
   "pygments_lexer": "ipython3",
   "version": "3.10.4"
  }
 },
 "nbformat": 4,
 "nbformat_minor": 5
}
