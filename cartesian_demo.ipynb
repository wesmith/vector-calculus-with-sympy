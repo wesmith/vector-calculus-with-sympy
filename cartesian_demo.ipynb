{
 "cells": [
  {
   "cell_type": "markdown",
   "id": "58db5a3f-ec97-4b64-bf6f-fbba0e568f64",
   "metadata": {},
   "source": [
    "# cartesian_demo.ipynb\n",
    "# WESmith 06/29/22"
   ]
  },
  {
   "cell_type": "code",
   "execution_count": 1,
   "id": "9901cabd-ed09-4ae3-b550-5be27c287c3c",
   "metadata": {},
   "outputs": [],
   "source": [
    "import operator_utils as ws"
   ]
  },
  {
   "cell_type": "markdown",
   "id": "5a700d6d-361b-4012-bd6b-3a6048bfebde",
   "metadata": {},
   "source": [
    "# 3D Cartesian coordinates: a rotation"
   ]
  },
  {
   "cell_type": "code",
   "execution_count": 2,
   "id": "96b771cb-b465-48ef-a973-7da6cc122962",
   "metadata": {},
   "outputs": [],
   "source": [
    "aa = ws.Coords()"
   ]
  },
  {
   "cell_type": "code",
   "execution_count": 3,
   "id": "69ee17fc-5b7f-4bc7-b9fd-28a797464108",
   "metadata": {},
   "outputs": [],
   "source": [
    "zz = ws.Operators(aa.cartesian)"
   ]
  },
  {
   "cell_type": "code",
   "execution_count": 4,
   "id": "5e91d295-fe23-4ce2-9479-f6302aa07efa",
   "metadata": {},
   "outputs": [
    {
     "data": {
      "text/latex": [
       "$\\displaystyle Xp \\cos{\\left(\\theta \\right)} - Yp \\sin{\\left(\\theta \\right)}$"
      ],
      "text/plain": [
       "<IPython.core.display.Math object>"
      ]
     },
     "metadata": {},
     "output_type": "display_data"
    },
    {
     "data": {
      "text/latex": [
       "$\\displaystyle Xp \\sin{\\left(\\theta \\right)} + Yp \\cos{\\left(\\theta \\right)}$"
      ],
      "text/plain": [
       "<IPython.core.display.Math object>"
      ]
     },
     "metadata": {},
     "output_type": "display_data"
    },
    {
     "data": {
      "text/latex": [
       "$\\displaystyle Zp$"
      ],
      "text/plain": [
       "<IPython.core.display.Math object>"
      ]
     },
     "metadata": {},
     "output_type": "display_data"
    }
   ],
   "source": [
    "for k in zz.transform: ws.pp(k)"
   ]
  },
  {
   "cell_type": "code",
   "execution_count": 5,
   "id": "aacd13f2-78fc-4d7c-8759-81f8205175fc",
   "metadata": {},
   "outputs": [
    {
     "data": {
      "text/latex": [
       "$\\displaystyle \\left[\\begin{matrix}\\cos{\\left(\\theta \\right)} & - \\sin{\\left(\\theta \\right)} & 0\\\\\\sin{\\left(\\theta \\right)} & \\cos{\\left(\\theta \\right)} & 0\\\\0 & 0 & 1\\end{matrix}\\right]$"
      ],
      "text/plain": [
       "Matrix([\n",
       "[cos(theta), -sin(theta), 0],\n",
       "[sin(theta),  cos(theta), 0],\n",
       "[         0,           0, 1]])"
      ]
     },
     "execution_count": 5,
     "metadata": {},
     "output_type": "execute_result"
    }
   ],
   "source": [
    "zz.Jacobian"
   ]
  },
  {
   "cell_type": "code",
   "execution_count": 6,
   "id": "441a92ce-ca43-4beb-9d76-804ae6f929cf",
   "metadata": {},
   "outputs": [
    {
     "data": {
      "text/latex": [
       "$\\displaystyle \\left[\\begin{matrix}\\hat{\\mathbf{e_x}} \\cos{\\left(\\theta \\right)} + \\hat{\\mathbf{e_y}} \\sin{\\left(\\theta \\right)}\\\\- \\hat{\\mathbf{e_x}} \\sin{\\left(\\theta \\right)} + \\hat{\\mathbf{e_y}} \\cos{\\left(\\theta \\right)}\\\\\\hat{\\mathbf{e_z}}\\end{matrix}\\right]$"
      ],
      "text/plain": [
       "<IPython.core.display.Math object>"
      ]
     },
     "metadata": {},
     "output_type": "display_data"
    }
   ],
   "source": [
    "ws.pp(zz.primed_basis)"
   ]
  },
  {
   "cell_type": "code",
   "execution_count": 7,
   "id": "f8057eb1-0d68-497d-8417-480b283a51d1",
   "metadata": {},
   "outputs": [
    {
     "data": {
      "text/latex": [
       "$\\displaystyle \\left[\\begin{matrix}1 & 0 & 0\\\\0 & 1 & 0\\\\0 & 0 & 1\\end{matrix}\\right]$"
      ],
      "text/plain": [
       "Matrix([\n",
       "[1, 0, 0],\n",
       "[0, 1, 0],\n",
       "[0, 0, 1]])"
      ]
     },
     "execution_count": 7,
     "metadata": {},
     "output_type": "execute_result"
    }
   ],
   "source": [
    "zz.metric"
   ]
  },
  {
   "cell_type": "code",
   "execution_count": 8,
   "id": "8bf73f2c-24df-4d2a-8904-17500621e7c5",
   "metadata": {},
   "outputs": [
    {
     "data": {
      "text/latex": [
       "$\\displaystyle \\left[\\begin{matrix}\\hat{\\mathbf{e_x}}\\\\\\hat{\\mathbf{e_y}}\\\\\\hat{\\mathbf{e_z}}\\end{matrix}\\right]$"
      ],
      "text/plain": [
       "Matrix([\n",
       "[\\hat{\\mathbf{e_x}}],\n",
       "[\\hat{\\mathbf{e_y}}],\n",
       "[\\hat{\\mathbf{e_z}}]])"
      ]
     },
     "execution_count": 8,
     "metadata": {},
     "output_type": "execute_result"
    }
   ],
   "source": [
    "zz.Z"
   ]
  },
  {
   "cell_type": "code",
   "execution_count": 9,
   "id": "cf36857c-896e-4bc7-b931-b0d622eef064",
   "metadata": {},
   "outputs": [
    {
     "data": {
      "text/latex": [
       "$\\displaystyle \\left[\\begin{matrix}\\hat{\\mathbf{e_Xp}}\\\\\\hat{\\mathbf{e_Yp}}\\\\\\hat{\\mathbf{e_Zp}}\\end{matrix}\\right]$"
      ],
      "text/plain": [
       "Matrix([\n",
       "[\\hat{\\mathbf{e_Xp}}],\n",
       "[\\hat{\\mathbf{e_Yp}}],\n",
       "[\\hat{\\mathbf{e_Zp}}]])"
      ]
     },
     "execution_count": 9,
     "metadata": {},
     "output_type": "execute_result"
    }
   ],
   "source": [
    "zz.Zp"
   ]
  },
  {
   "cell_type": "code",
   "execution_count": 10,
   "id": "a4958d83-b77e-4abb-9df6-417e1b61547d",
   "metadata": {},
   "outputs": [
    {
     "data": {
      "text/latex": [
       "$\\displaystyle \\left[\\begin{matrix}\\hat{\\mathbf{e_Xp}} \\frac{\\partial}{\\partial Xp} f{\\left(Xp,Yp,Zp \\right)} + \\hat{\\mathbf{e_Yp}} \\frac{\\partial}{\\partial Yp} f{\\left(Xp,Yp,Zp \\right)} + \\hat{\\mathbf{e_Zp}} \\frac{\\partial}{\\partial Zp} f{\\left(Xp,Yp,Zp \\right)}\\end{matrix}\\right]$"
      ],
      "text/plain": [
       "Matrix([[\\hat{\\mathbf{e_Xp}}*Derivative(f(Xp, Yp, Zp), Xp) + \\hat{\\mathbf{e_Yp}}*Derivative(f(Xp, Yp, Zp), Yp) + \\hat{\\mathbf{e_Zp}}*Derivative(f(Xp, Yp, Zp), Zp)]])"
      ]
     },
     "execution_count": 10,
     "metadata": {},
     "output_type": "execute_result"
    }
   ],
   "source": [
    "zz.gradient(vector=False)"
   ]
  },
  {
   "cell_type": "code",
   "execution_count": 11,
   "id": "099ada48-95cb-4dd3-8e29-d5d1917fa270",
   "metadata": {},
   "outputs": [
    {
     "data": {
      "text/latex": [
       "$\\displaystyle \\left[\\begin{matrix}\\frac{\\partial}{\\partial Xp} f{\\left(Xp,Yp,Zp \\right)}\\\\\\frac{\\partial}{\\partial Yp} f{\\left(Xp,Yp,Zp \\right)}\\\\\\frac{\\partial}{\\partial Zp} f{\\left(Xp,Yp,Zp \\right)}\\end{matrix}\\right]$"
      ],
      "text/plain": [
       "Matrix([\n",
       "[Derivative(f(Xp, Yp, Zp), Xp)],\n",
       "[Derivative(f(Xp, Yp, Zp), Yp)],\n",
       "[Derivative(f(Xp, Yp, Zp), Zp)]])"
      ]
     },
     "execution_count": 11,
     "metadata": {},
     "output_type": "execute_result"
    }
   ],
   "source": [
    "zz.gradient()"
   ]
  },
  {
   "cell_type": "code",
   "execution_count": 12,
   "id": "499dc363-7794-4c57-be96-044aa7635c08",
   "metadata": {},
   "outputs": [
    {
     "data": {
      "text/latex": [
       "$\\displaystyle \\frac{\\partial}{\\partial Xp} \\operatorname{A_{Xp}}{\\left(Xp,Yp,Zp \\right)} + \\frac{\\partial}{\\partial Yp} \\operatorname{A_{Yp}}{\\left(Xp,Yp,Zp \\right)} + \\frac{\\partial}{\\partial Zp} \\operatorname{A_{Zp}}{\\left(Xp,Yp,Zp \\right)}$"
      ],
      "text/plain": [
       "Derivative(A_Xp(Xp, Yp, Zp), Xp) + Derivative(A_Yp(Xp, Yp, Zp), Yp) + Derivative(A_Zp(Xp, Yp, Zp), Zp)"
      ]
     },
     "execution_count": 12,
     "metadata": {},
     "output_type": "execute_result"
    }
   ],
   "source": [
    "zz.divergence()"
   ]
  },
  {
   "cell_type": "code",
   "execution_count": 13,
   "id": "bd5ffb7c-ac25-4bed-83f8-30d894be8398",
   "metadata": {},
   "outputs": [
    {
     "data": {
      "text/latex": [
       "$\\displaystyle \\left[\\begin{matrix}- \\frac{\\partial}{\\partial Zp} \\operatorname{A_{Yp}}{\\left(Xp,Yp,Zp \\right)} + \\frac{\\partial}{\\partial Yp} \\operatorname{A_{Zp}}{\\left(Xp,Yp,Zp \\right)}\\\\\\frac{\\partial}{\\partial Zp} \\operatorname{A_{Xp}}{\\left(Xp,Yp,Zp \\right)} - \\frac{\\partial}{\\partial Xp} \\operatorname{A_{Zp}}{\\left(Xp,Yp,Zp \\right)}\\\\- \\frac{\\partial}{\\partial Yp} \\operatorname{A_{Xp}}{\\left(Xp,Yp,Zp \\right)} + \\frac{\\partial}{\\partial Xp} \\operatorname{A_{Yp}}{\\left(Xp,Yp,Zp \\right)}\\end{matrix}\\right]$"
      ],
      "text/plain": [
       "Matrix([\n",
       "[-Derivative(A_Yp(Xp, Yp, Zp), Zp) + Derivative(A_Zp(Xp, Yp, Zp), Yp)],\n",
       "[ Derivative(A_Xp(Xp, Yp, Zp), Zp) - Derivative(A_Zp(Xp, Yp, Zp), Xp)],\n",
       "[-Derivative(A_Xp(Xp, Yp, Zp), Yp) + Derivative(A_Yp(Xp, Yp, Zp), Xp)]])"
      ]
     },
     "execution_count": 13,
     "metadata": {},
     "output_type": "execute_result"
    }
   ],
   "source": [
    "zz.curl()"
   ]
  },
  {
   "cell_type": "code",
   "execution_count": 14,
   "id": "a9e0f65a-3157-4750-bf75-c261aeddb660",
   "metadata": {},
   "outputs": [
    {
     "data": {
      "text/latex": [
       "$\\displaystyle \\frac{\\partial^{2}}{\\partial Xp^{2}} f{\\left(Xp,Yp,Zp \\right)} + \\frac{\\partial^{2}}{\\partial Yp^{2}} f{\\left(Xp,Yp,Zp \\right)} + \\frac{\\partial^{2}}{\\partial Zp^{2}} f{\\left(Xp,Yp,Zp \\right)}$"
      ],
      "text/plain": [
       "Derivative(f(Xp, Yp, Zp), (Xp, 2)) + Derivative(f(Xp, Yp, Zp), (Yp, 2)) + Derivative(f(Xp, Yp, Zp), (Zp, 2))"
      ]
     },
     "execution_count": 14,
     "metadata": {},
     "output_type": "execute_result"
    }
   ],
   "source": [
    "zz.Laplacian_scalar()"
   ]
  },
  {
   "cell_type": "code",
   "execution_count": 15,
   "id": "9cb745a1-1547-436f-be76-25a7400988be",
   "metadata": {},
   "outputs": [
    {
     "data": {
      "text/latex": [
       "$\\displaystyle \\left[\\begin{matrix}\\frac{\\partial^{2}}{\\partial Xp^{2}} \\operatorname{A_{Xp}}{\\left(Xp,Yp,Zp \\right)} + \\frac{\\partial^{2}}{\\partial Yp^{2}} \\operatorname{A_{Xp}}{\\left(Xp,Yp,Zp \\right)} + \\frac{\\partial^{2}}{\\partial Zp^{2}} \\operatorname{A_{Xp}}{\\left(Xp,Yp,Zp \\right)}\\\\\\frac{\\partial^{2}}{\\partial Xp^{2}} \\operatorname{A_{Yp}}{\\left(Xp,Yp,Zp \\right)} + \\frac{\\partial^{2}}{\\partial Yp^{2}} \\operatorname{A_{Yp}}{\\left(Xp,Yp,Zp \\right)} + \\frac{\\partial^{2}}{\\partial Zp^{2}} \\operatorname{A_{Yp}}{\\left(Xp,Yp,Zp \\right)}\\\\\\frac{\\partial^{2}}{\\partial Xp^{2}} \\operatorname{A_{Zp}}{\\left(Xp,Yp,Zp \\right)} + \\frac{\\partial^{2}}{\\partial Yp^{2}} \\operatorname{A_{Zp}}{\\left(Xp,Yp,Zp \\right)} + \\frac{\\partial^{2}}{\\partial Zp^{2}} \\operatorname{A_{Zp}}{\\left(Xp,Yp,Zp \\right)}\\end{matrix}\\right]$"
      ],
      "text/plain": [
       "Matrix([\n",
       "[Derivative(A_Xp(Xp, Yp, Zp), (Xp, 2)) + Derivative(A_Xp(Xp, Yp, Zp), (Yp, 2)) + Derivative(A_Xp(Xp, Yp, Zp), (Zp, 2))],\n",
       "[Derivative(A_Yp(Xp, Yp, Zp), (Xp, 2)) + Derivative(A_Yp(Xp, Yp, Zp), (Yp, 2)) + Derivative(A_Yp(Xp, Yp, Zp), (Zp, 2))],\n",
       "[Derivative(A_Zp(Xp, Yp, Zp), (Xp, 2)) + Derivative(A_Zp(Xp, Yp, Zp), (Yp, 2)) + Derivative(A_Zp(Xp, Yp, Zp), (Zp, 2))]])"
      ]
     },
     "execution_count": 15,
     "metadata": {},
     "output_type": "execute_result"
    }
   ],
   "source": [
    "zz.Laplacian_vector_full()"
   ]
  },
  {
   "cell_type": "code",
   "execution_count": 16,
   "id": "36c389cc-405d-4762-bb07-9538f7a095e3",
   "metadata": {},
   "outputs": [
    {
     "data": {
      "text/latex": [
       "$\\displaystyle \\left[\\begin{matrix}\\nabla^{2}{\\left(\\operatorname{A_{Xp}}{\\left(Xp,Yp,Zp \\right)} \\right)}\\\\\\nabla^{2}{\\left(\\operatorname{A_{Yp}}{\\left(Xp,Yp,Zp \\right)} \\right)}\\\\\\nabla^{2}{\\left(\\operatorname{A_{Zp}}{\\left(Xp,Yp,Zp \\right)} \\right)}\\end{matrix}\\right]$"
      ],
      "text/plain": [
       "Matrix([\n",
       "[\\nabla^{2}(A_Xp(Xp, Yp, Zp))],\n",
       "[\\nabla^{2}(A_Yp(Xp, Yp, Zp))],\n",
       "[\\nabla^{2}(A_Zp(Xp, Yp, Zp))]])"
      ]
     },
     "execution_count": 16,
     "metadata": {},
     "output_type": "execute_result"
    }
   ],
   "source": [
    "zz.Laplacian_vector_reduced()"
   ]
  },
  {
   "cell_type": "code",
   "execution_count": 17,
   "id": "acd460e1-e9a4-4157-a99c-c2e0dbb95275",
   "metadata": {},
   "outputs": [
    {
     "data": {
      "text/latex": [
       "$\\displaystyle \\left[\\begin{matrix}\\operatorname{A_{Xp}}{\\left(Xp,Yp,Zp \\right)} \\frac{\\partial}{\\partial Xp} \\operatorname{B_{Xp}}{\\left(Xp,Yp,Zp \\right)} + \\operatorname{A_{Yp}}{\\left(Xp,Yp,Zp \\right)} \\frac{\\partial}{\\partial Yp} \\operatorname{B_{Xp}}{\\left(Xp,Yp,Zp \\right)} + \\operatorname{A_{Zp}}{\\left(Xp,Yp,Zp \\right)} \\frac{\\partial}{\\partial Zp} \\operatorname{B_{Xp}}{\\left(Xp,Yp,Zp \\right)}\\\\\\operatorname{A_{Xp}}{\\left(Xp,Yp,Zp \\right)} \\frac{\\partial}{\\partial Xp} \\operatorname{B_{Yp}}{\\left(Xp,Yp,Zp \\right)} + \\operatorname{A_{Yp}}{\\left(Xp,Yp,Zp \\right)} \\frac{\\partial}{\\partial Yp} \\operatorname{B_{Yp}}{\\left(Xp,Yp,Zp \\right)} + \\operatorname{A_{Zp}}{\\left(Xp,Yp,Zp \\right)} \\frac{\\partial}{\\partial Zp} \\operatorname{B_{Yp}}{\\left(Xp,Yp,Zp \\right)}\\\\\\operatorname{A_{Xp}}{\\left(Xp,Yp,Zp \\right)} \\frac{\\partial}{\\partial Xp} \\operatorname{B_{Zp}}{\\left(Xp,Yp,Zp \\right)} + \\operatorname{A_{Yp}}{\\left(Xp,Yp,Zp \\right)} \\frac{\\partial}{\\partial Yp} \\operatorname{B_{Zp}}{\\left(Xp,Yp,Zp \\right)} + \\operatorname{A_{Zp}}{\\left(Xp,Yp,Zp \\right)} \\frac{\\partial}{\\partial Zp} \\operatorname{B_{Zp}}{\\left(Xp,Yp,Zp \\right)}\\end{matrix}\\right]$"
      ],
      "text/plain": [
       "Matrix([\n",
       "[A_Xp(Xp, Yp, Zp)*Derivative(B_Xp(Xp, Yp, Zp), Xp) + A_Yp(Xp, Yp, Zp)*Derivative(B_Xp(Xp, Yp, Zp), Yp) + A_Zp(Xp, Yp, Zp)*Derivative(B_Xp(Xp, Yp, Zp), Zp)],\n",
       "[A_Xp(Xp, Yp, Zp)*Derivative(B_Yp(Xp, Yp, Zp), Xp) + A_Yp(Xp, Yp, Zp)*Derivative(B_Yp(Xp, Yp, Zp), Yp) + A_Zp(Xp, Yp, Zp)*Derivative(B_Yp(Xp, Yp, Zp), Zp)],\n",
       "[A_Xp(Xp, Yp, Zp)*Derivative(B_Zp(Xp, Yp, Zp), Xp) + A_Yp(Xp, Yp, Zp)*Derivative(B_Zp(Xp, Yp, Zp), Yp) + A_Zp(Xp, Yp, Zp)*Derivative(B_Zp(Xp, Yp, Zp), Zp)]])"
      ]
     },
     "execution_count": 17,
     "metadata": {},
     "output_type": "execute_result"
    }
   ],
   "source": [
    "zz.material_derivative()"
   ]
  },
  {
   "cell_type": "code",
   "execution_count": null,
   "id": "1c4d0dec-5929-4d01-a1b5-69d6d096677a",
   "metadata": {},
   "outputs": [],
   "source": []
  }
 ],
 "metadata": {
  "kernelspec": {
   "display_name": "Python 3 (ipykernel)",
   "language": "python",
   "name": "python3"
  },
  "language_info": {
   "codemirror_mode": {
    "name": "ipython",
    "version": 3
   },
   "file_extension": ".py",
   "mimetype": "text/x-python",
   "name": "python",
   "nbconvert_exporter": "python",
   "pygments_lexer": "ipython3",
   "version": "3.10.4"
  }
 },
 "nbformat": 4,
 "nbformat_minor": 5
}
