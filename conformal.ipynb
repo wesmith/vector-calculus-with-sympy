{
 "cells": [
  {
   "cell_type": "markdown",
   "id": "b24a27d8-f0ac-4e8f-b159-cdea16b15c44",
   "metadata": {},
   "source": [
    "# conformal.ipynb\n",
    "# WESmith 10/30/22\n",
    "### generate conformal maps and plot them, for fun"
   ]
  },
  {
   "cell_type": "code",
   "execution_count": null,
   "id": "0b2dcf58-6adc-476d-b885-4fe3fbf5d45e",
   "metadata": {},
   "outputs": [],
   "source": [
    "import numpy as np\n",
    "import matplotlib.pyplot as plt"
   ]
  },
  {
   "cell_type": "code",
   "execution_count": null,
   "id": "91a7e933-26f9-4949-ba0d-922910de13be",
   "metadata": {},
   "outputs": [],
   "source": [
    "class Mobius():\n",
    "    '''\n",
    "    implement a Mobius conformal mapping\n",
    "    '''\n",
    "    def __init__(self, a, b, c, d):\n",
    "        self.a = a\n",
    "        self.b = b\n",
    "        self.c = c\n",
    "        self.d = d\n",
    "        def f(z):\n",
    "            return (self.a * z + self.b) / (self.c * z + self.d)\n",
    "        self.f = f\n"
   ]
  },
  {
   "cell_type": "code",
   "execution_count": null,
   "id": "5999baf0-df96-46ed-8c90-68a488b0ad89",
   "metadata": {},
   "outputs": [],
   "source": [
    "def circle(r, offx=0, offy=0, n=100, tmin=0, tmax=2*np.pi):\n",
    "    pts = []\n",
    "    for t in np.linspace(tmin, tmax, n):\n",
    "        pts.append(r * np.exp(t*1j) + offx + offy*1j)\n",
    "    return np.array(pts)\n",
    "\n",
    "def xyline(choi='X', off=0, n=100, mmin=-.99, mmax=0.99):\n",
    "    pts = []\n",
    "    for t in np.linspace(mmin, mmax, n):\n",
    "            if choi == 'X':  # create a line along x\n",
    "                pts.append(t + off*1j)\n",
    "            else:\n",
    "                pts.append(off + t*1j) # create a line along y\n",
    "    return np.array(pts)\n",
    "\n",
    "#def xygrid(nr=20, nc=20, n=100, xmin=-0.99, xmax=0.99, ymin=-0.99, ymax=0.99):\n",
    "def xygrid(lims, n=1000):\n",
    "    nr, nc, xmin, xmax, ymin, ymax = lims\n",
    "    lines = []\n",
    "    for k in np.linspace(ymin, ymax, nr):  # create horizontal lines\n",
    "        lines.append(xyline(choi='X', off=k, n=n, mmin=xmin, mmax=xmax))\n",
    "    for k in np.linspace(xmin, xmax, nc):  # create vertical lines\n",
    "        lines.append(xyline(choi='Y', off=k, n=n, mmin=ymin, mmax=ymax))\n",
    "    return np.array(lines)"
   ]
  },
  {
   "cell_type": "code",
   "execution_count": null,
   "id": "2eb6db31-6c16-4950-a8c2-002a1eaf4e86",
   "metadata": {},
   "outputs": [],
   "source": [
    "#lims = [11, 11, -20, 0, -5, 5]  # left plane\n",
    "#lims = [11, 41, -20, 20, -5, 0] # lower-half plane\n",
    "lims = [11, 41, -20, 20, 0, 5] # upper-half plane\n",
    "lines = xygrid(lims)"
   ]
  },
  {
   "cell_type": "code",
   "execution_count": null,
   "id": "5d25ca56-a8f1-423e-bae1-b092ad6e7334",
   "metadata": {},
   "outputs": [],
   "source": [
    "a,b,c,d = [0, 1, 1, 0]  # 1/z\n",
    "a,b,c,d = [1, -1j, -1j, 1]  # Kreyszig ex 1 p.574\n",
    "mm = Mobius(a,b,c,d)"
   ]
  },
  {
   "cell_type": "code",
   "execution_count": null,
   "id": "8727ab72-33bd-40fe-b3f7-1e62dd0f4d73",
   "metadata": {},
   "outputs": [],
   "source": [
    "fig, axs = plt.subplots(1, 2, figsize=(16,8))\n",
    "for k in lines:\n",
    "    axs[0].plot(np.real(k), np.imag(k))\n",
    "    xform = mm.f(k)\n",
    "    axs[1].plot(np.real(xform), np.imag(xform))\n",
    "axs[0].axis('equal')\n",
    "#axs[0].legend()\n",
    "axs[0].grid()\n",
    "axs[1].axis('equal')\n",
    "lims = 2\n",
    "axs[1].set(xlim=(-lims, lims), ylim=(-lims, lims))\n",
    "#axs[1].legend()\n",
    "axs[1].grid()"
   ]
  },
  {
   "cell_type": "code",
   "execution_count": null,
   "id": "b5b5fdcd-2ff1-4580-b744-372bd49529d0",
   "metadata": {},
   "outputs": [],
   "source": [
    "circles = []\n",
    "radii = np.linspace(0.1, 0.9, 9)\n",
    "for k in radii:\n",
    "    circles.append(circle(k, offx=0))"
   ]
  },
  {
   "cell_type": "code",
   "execution_count": null,
   "id": "ddf188c1-f880-4bed-952b-97661fa55930",
   "metadata": {},
   "outputs": [],
   "source": [
    "fig, axs = plt.subplots(1, 2, figsize=(16,8))\n",
    "for j, k in enumerate(circles):\n",
    "    axs[0].plot(np.real(k), np.imag(k), label='r: {:4.2f}'.format(radii[j]))\n",
    "    xform = mm.f(k)\n",
    "    axs[1].plot(np.real(xform), np.imag(xform), label='r: {:4.2f}'.format(radii[j]))\n",
    "axs[0].axis('equal')\n",
    "axs[0].legend()\n",
    "axs[0].grid()\n",
    "axs[1].axis('equal')\n",
    "axs[1].grid()\n",
    "axs[1].legend()\n",
    "plt.show()"
   ]
  },
  {
   "cell_type": "code",
   "execution_count": null,
   "id": "c8914d0f-d3f1-45ce-b7fb-c966355f1418",
   "metadata": {},
   "outputs": [],
   "source": []
  }
 ],
 "metadata": {
  "kernelspec": {
   "display_name": "Python 3 (ipykernel)",
   "language": "python",
   "name": "python3"
  },
  "language_info": {
   "codemirror_mode": {
    "name": "ipython",
    "version": 3
   },
   "file_extension": ".py",
   "mimetype": "text/x-python",
   "name": "python",
   "nbconvert_exporter": "python",
   "pygments_lexer": "ipython3",
   "version": "3.10.6"
  }
 },
 "nbformat": 4,
 "nbformat_minor": 5
}
